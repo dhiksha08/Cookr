{
  "cells": [
    {
      "cell_type": "code",
      "execution_count": 1,
      "metadata": {
        "id": "odbkYZceI3cY"
      },
      "outputs": [],
      "source": [
        "import pandas as pd\n",
        "import numpy as np\n",
        "import matplotlib.pyplot as plt\n",
        "import seaborn as sns"
      ]
    },
    {
      "cell_type": "code",
      "execution_count": 2,
      "metadata": {
        "id": "fV-mM9QXJG8H"
      },
      "outputs": [],
      "source": [
        "df=pd.read_csv(\"Food_Category.csv\")"
      ]
    },
    {
      "cell_type": "code",
      "execution_count": 3,
      "metadata": {
        "colab": {
          "base_uri": "https://localhost:8080/",
          "height": 591
        },
        "id": "t8dACxqDJS5F",
        "outputId": "890ad185-aa4d-4232-edda-62c6005fc37f"
      },
      "outputs": [
        {
          "data": {
            "text/html": [
              "<div>\n",
              "<style scoped>\n",
              "    .dataframe tbody tr th:only-of-type {\n",
              "        vertical-align: middle;\n",
              "    }\n",
              "\n",
              "    .dataframe tbody tr th {\n",
              "        vertical-align: top;\n",
              "    }\n",
              "\n",
              "    .dataframe thead th {\n",
              "        text-align: right;\n",
              "    }\n",
              "</style>\n",
              "<table border=\"1\" class=\"dataframe\">\n",
              "  <thead>\n",
              "    <tr style=\"text-align: right;\">\n",
              "      <th></th>\n",
              "      <th>Unnamed: 0</th>\n",
              "      <th>Item Name</th>\n",
              "      <th>TranslatedIngredients</th>\n",
              "      <th>TotalTimeInMins</th>\n",
              "      <th>Cuisine_x</th>\n",
              "      <th>TranslatedInstructions</th>\n",
              "      <th>URL</th>\n",
              "      <th>Cleaned-Ingredients</th>\n",
              "      <th>image-url</th>\n",
              "      <th>Ingredient-count</th>\n",
              "      <th>Cuisine_y</th>\n",
              "      <th>Course</th>\n",
              "      <th>Nutritional Profile</th>\n",
              "      <th>Preparation Method</th>\n",
              "      <th>Spiciness Level</th>\n",
              "      <th>Vegan/Vegetarian/Contains-Egg/Non-Veg</th>\n",
              "      <th>Allergens</th>\n",
              "      <th>Flavor Profile</th>\n",
              "      <th>Dietary Restrictions</th>\n",
              "    </tr>\n",
              "  </thead>\n",
              "  <tbody>\n",
              "    <tr>\n",
              "      <th>0</th>\n",
              "      <td>0</td>\n",
              "      <td>Masala Karela Recipe</td>\n",
              "      <td>1 tablespoon Red Chilli powder,3 tablespoon Gr...</td>\n",
              "      <td>45</td>\n",
              "      <td>Indian</td>\n",
              "      <td>To begin making the Masala Karela Recipe,de-se...</td>\n",
              "      <td>https://www.archanaskitchen.com/masala-karela-...</td>\n",
              "      <td>salt,amchur (dry mango powder),karela (bitter ...</td>\n",
              "      <td>https://www.archanaskitchen.com/images/archana...</td>\n",
              "      <td>10</td>\n",
              "      <td>Indian</td>\n",
              "      <td>Main</td>\n",
              "      <td>Low Carb, High Fiber</td>\n",
              "      <td>Stir-Fry</td>\n",
              "      <td>Spicy</td>\n",
              "      <td>Vegetarian</td>\n",
              "      <td>None</td>\n",
              "      <td>Bitter, Spicy</td>\n",
              "      <td>Diabetic Friendly, Vegan</td>\n",
              "    </tr>\n",
              "    <tr>\n",
              "      <th>1</th>\n",
              "      <td>1</td>\n",
              "      <td>Spicy Tomato Rice (Recipe)</td>\n",
              "      <td>2 teaspoon cashew - or peanuts, 1/2 Teaspoon ...</td>\n",
              "      <td>15</td>\n",
              "      <td>South Indian Recipes</td>\n",
              "      <td>To make tomato puliogere, first cut the tomato...</td>\n",
              "      <td>https://www.archanaskitchen.com/spicy-tomato-r...</td>\n",
              "      <td>tomato,salt,chickpea lentils,green chilli,rice...</td>\n",
              "      <td>https://www.archanaskitchen.com/images/archana...</td>\n",
              "      <td>12</td>\n",
              "      <td>Indian</td>\n",
              "      <td>Main</td>\n",
              "      <td>Carbohydrate Rich</td>\n",
              "      <td>Boiled, Stir-Fried</td>\n",
              "      <td>Spicy</td>\n",
              "      <td>Vegetarian</td>\n",
              "      <td>None</td>\n",
              "      <td>Spicy, Tangy</td>\n",
              "      <td>Vegan</td>\n",
              "    </tr>\n",
              "    <tr>\n",
              "      <th>2</th>\n",
              "      <td>2</td>\n",
              "      <td>Udupi Style Ash Gourd Coconut Curry Recipe</td>\n",
              "      <td>4 Dry Red Chillies,1/2 teaspoon Turmeric powde...</td>\n",
              "      <td>40</td>\n",
              "      <td>Udupi</td>\n",
              "      <td>To begin making the Udupi Style Ash Gourd Coco...</td>\n",
              "      <td>https://www.archanaskitchen.com/udupi-style-as...</td>\n",
              "      <td>salt,tamarind water,coconut,mustard seeds,jagg...</td>\n",
              "      <td>https://www.archanaskitchen.com/images/archana...</td>\n",
              "      <td>14</td>\n",
              "      <td>Indian</td>\n",
              "      <td>Main</td>\n",
              "      <td>Vitamin Rich</td>\n",
              "      <td>Stewed, Curried</td>\n",
              "      <td>Mild</td>\n",
              "      <td>Vegetarian</td>\n",
              "      <td>None</td>\n",
              "      <td>Creamy, Mild</td>\n",
              "      <td>Vegan</td>\n",
              "    </tr>\n",
              "    <tr>\n",
              "      <th>3</th>\n",
              "      <td>3</td>\n",
              "      <td>Mexican Style Black Bean Burrito Recipe</td>\n",
              "      <td>6 to 8 Spinach Leaves (Palak),1/4 cup Black be...</td>\n",
              "      <td>40</td>\n",
              "      <td>Mexican</td>\n",
              "      <td>To begin making the Black Bean Burrito recipe,...</td>\n",
              "      <td>https://www.archanaskitchen.com/black-bean-bur...</td>\n",
              "      <td>tomato,spring onion greens,hung curd (greek yo...</td>\n",
              "      <td>https://www.archanaskitchen.com/images/archana...</td>\n",
              "      <td>12</td>\n",
              "      <td>Mexican</td>\n",
              "      <td>Main</td>\n",
              "      <td>Protein Rich</td>\n",
              "      <td>Wrapped, Baked</td>\n",
              "      <td>Spicy</td>\n",
              "      <td>Vegetarian</td>\n",
              "      <td>None</td>\n",
              "      <td>Spicy, Savory</td>\n",
              "      <td>Vegetarian</td>\n",
              "    </tr>\n",
              "    <tr>\n",
              "      <th>4</th>\n",
              "      <td>4</td>\n",
              "      <td>Spicy Crunchy Masala Idli Recipe</td>\n",
              "      <td>Mint Leaves (Pudina) - to taste,1/2 teaspoon T...</td>\n",
              "      <td>30</td>\n",
              "      <td>South Indian Recipes</td>\n",
              "      <td>To prepare Spicy Crunchy Masala Idli Recipe, H...</td>\n",
              "      <td>https://www.archanaskitchen.com/spicy-crunchy-...</td>\n",
              "      <td>tomato,salt,coriander (dhania) leaves,idli,red...</td>\n",
              "      <td>https://www.archanaskitchen.com/images/archana...</td>\n",
              "      <td>12</td>\n",
              "      <td>Indian</td>\n",
              "      <td>Breakfast</td>\n",
              "      <td>Protein Rich, Fermented</td>\n",
              "      <td>Steamed, Stir-Fried</td>\n",
              "      <td>Spicy</td>\n",
              "      <td>Vegetarian</td>\n",
              "      <td>None</td>\n",
              "      <td>Spicy, Crunchy</td>\n",
              "      <td>None</td>\n",
              "    </tr>\n",
              "  </tbody>\n",
              "</table>\n",
              "</div>"
            ],
            "text/plain": [
              "   Unnamed: 0                                   Item Name  \\\n",
              "0           0                        Masala Karela Recipe   \n",
              "1           1                  Spicy Tomato Rice (Recipe)   \n",
              "2           2  Udupi Style Ash Gourd Coconut Curry Recipe   \n",
              "3           3     Mexican Style Black Bean Burrito Recipe   \n",
              "4           4            Spicy Crunchy Masala Idli Recipe   \n",
              "\n",
              "                               TranslatedIngredients  TotalTimeInMins  \\\n",
              "0  1 tablespoon Red Chilli powder,3 tablespoon Gr...               45   \n",
              "1   2 teaspoon cashew - or peanuts, 1/2 Teaspoon ...               15   \n",
              "2  4 Dry Red Chillies,1/2 teaspoon Turmeric powde...               40   \n",
              "3  6 to 8 Spinach Leaves (Palak),1/4 cup Black be...               40   \n",
              "4  Mint Leaves (Pudina) - to taste,1/2 teaspoon T...               30   \n",
              "\n",
              "              Cuisine_x                             TranslatedInstructions  \\\n",
              "0                Indian  To begin making the Masala Karela Recipe,de-se...   \n",
              "1  South Indian Recipes  To make tomato puliogere, first cut the tomato...   \n",
              "2                 Udupi  To begin making the Udupi Style Ash Gourd Coco...   \n",
              "3               Mexican  To begin making the Black Bean Burrito recipe,...   \n",
              "4  South Indian Recipes  To prepare Spicy Crunchy Masala Idli Recipe, H...   \n",
              "\n",
              "                                                 URL  \\\n",
              "0  https://www.archanaskitchen.com/masala-karela-...   \n",
              "1  https://www.archanaskitchen.com/spicy-tomato-r...   \n",
              "2  https://www.archanaskitchen.com/udupi-style-as...   \n",
              "3  https://www.archanaskitchen.com/black-bean-bur...   \n",
              "4  https://www.archanaskitchen.com/spicy-crunchy-...   \n",
              "\n",
              "                                 Cleaned-Ingredients  \\\n",
              "0  salt,amchur (dry mango powder),karela (bitter ...   \n",
              "1  tomato,salt,chickpea lentils,green chilli,rice...   \n",
              "2  salt,tamarind water,coconut,mustard seeds,jagg...   \n",
              "3  tomato,spring onion greens,hung curd (greek yo...   \n",
              "4  tomato,salt,coriander (dhania) leaves,idli,red...   \n",
              "\n",
              "                                           image-url  Ingredient-count  \\\n",
              "0  https://www.archanaskitchen.com/images/archana...                10   \n",
              "1  https://www.archanaskitchen.com/images/archana...                12   \n",
              "2  https://www.archanaskitchen.com/images/archana...                14   \n",
              "3  https://www.archanaskitchen.com/images/archana...                12   \n",
              "4  https://www.archanaskitchen.com/images/archana...                12   \n",
              "\n",
              "  Cuisine_y     Course      Nutritional Profile   Preparation Method  \\\n",
              "0    Indian       Main     Low Carb, High Fiber             Stir-Fry   \n",
              "1    Indian       Main        Carbohydrate Rich   Boiled, Stir-Fried   \n",
              "2    Indian       Main             Vitamin Rich      Stewed, Curried   \n",
              "3   Mexican       Main             Protein Rich       Wrapped, Baked   \n",
              "4    Indian  Breakfast  Protein Rich, Fermented  Steamed, Stir-Fried   \n",
              "\n",
              "  Spiciness Level Vegan/Vegetarian/Contains-Egg/Non-Veg Allergens  \\\n",
              "0           Spicy                            Vegetarian      None   \n",
              "1           Spicy                            Vegetarian      None   \n",
              "2            Mild                            Vegetarian      None   \n",
              "3           Spicy                            Vegetarian      None   \n",
              "4           Spicy                            Vegetarian      None   \n",
              "\n",
              "   Flavor Profile      Dietary Restrictions  \n",
              "0   Bitter, Spicy  Diabetic Friendly, Vegan  \n",
              "1    Spicy, Tangy                     Vegan  \n",
              "2    Creamy, Mild                     Vegan  \n",
              "3   Spicy, Savory                Vegetarian  \n",
              "4  Spicy, Crunchy                      None  "
            ]
          },
          "execution_count": 3,
          "metadata": {},
          "output_type": "execute_result"
        }
      ],
      "source": [
        "df.head()"
      ]
    },
    {
      "cell_type": "code",
      "execution_count": 4,
      "metadata": {
        "colab": {
          "base_uri": "https://localhost:8080/",
          "height": 170
        },
        "id": "1jalgaPaJV2l",
        "outputId": "29cff779-9ccb-414c-82c7-c24d9fa840cb"
      },
      "outputs": [
        {
          "data": {
            "text/html": [
              "<div>\n",
              "<style scoped>\n",
              "    .dataframe tbody tr th:only-of-type {\n",
              "        vertical-align: middle;\n",
              "    }\n",
              "\n",
              "    .dataframe tbody tr th {\n",
              "        vertical-align: top;\n",
              "    }\n",
              "\n",
              "    .dataframe thead th {\n",
              "        text-align: right;\n",
              "    }\n",
              "</style>\n",
              "<table border=\"1\" class=\"dataframe\">\n",
              "  <thead>\n",
              "    <tr style=\"text-align: right;\">\n",
              "      <th></th>\n",
              "      <th>Unnamed: 0</th>\n",
              "      <th>Item Name</th>\n",
              "      <th>TranslatedIngredients</th>\n",
              "      <th>TotalTimeInMins</th>\n",
              "      <th>Cuisine_x</th>\n",
              "      <th>TranslatedInstructions</th>\n",
              "      <th>URL</th>\n",
              "      <th>Cleaned-Ingredients</th>\n",
              "      <th>image-url</th>\n",
              "      <th>Ingredient-count</th>\n",
              "      <th>Cuisine_y</th>\n",
              "      <th>Course</th>\n",
              "      <th>Nutritional Profile</th>\n",
              "      <th>Preparation Method</th>\n",
              "      <th>Spiciness Level</th>\n",
              "      <th>Vegan/Vegetarian/Contains-Egg/Non-Veg</th>\n",
              "      <th>Allergens</th>\n",
              "      <th>Flavor Profile</th>\n",
              "      <th>Dietary Restrictions</th>\n",
              "    </tr>\n",
              "  </thead>\n",
              "  <tbody>\n",
              "    <tr>\n",
              "      <th>0</th>\n",
              "      <td>0</td>\n",
              "      <td>Masala Karela Recipe</td>\n",
              "      <td>1 tablespoon Red Chilli powder,3 tablespoon Gr...</td>\n",
              "      <td>45</td>\n",
              "      <td>Indian</td>\n",
              "      <td>To begin making the Masala Karela Recipe,de-se...</td>\n",
              "      <td>https://www.archanaskitchen.com/masala-karela-...</td>\n",
              "      <td>salt,amchur (dry mango powder),karela (bitter ...</td>\n",
              "      <td>https://www.archanaskitchen.com/images/archana...</td>\n",
              "      <td>10</td>\n",
              "      <td>Indian</td>\n",
              "      <td>Main</td>\n",
              "      <td>Low Carb, High Fiber</td>\n",
              "      <td>Stir-Fry</td>\n",
              "      <td>Spicy</td>\n",
              "      <td>Vegetarian</td>\n",
              "      <td>None</td>\n",
              "      <td>Bitter, Spicy</td>\n",
              "      <td>Diabetic Friendly, Vegan</td>\n",
              "    </tr>\n",
              "  </tbody>\n",
              "</table>\n",
              "</div>"
            ],
            "text/plain": [
              "   Unnamed: 0             Item Name  \\\n",
              "0           0  Masala Karela Recipe   \n",
              "\n",
              "                               TranslatedIngredients  TotalTimeInMins  \\\n",
              "0  1 tablespoon Red Chilli powder,3 tablespoon Gr...               45   \n",
              "\n",
              "  Cuisine_x                             TranslatedInstructions  \\\n",
              "0    Indian  To begin making the Masala Karela Recipe,de-se...   \n",
              "\n",
              "                                                 URL  \\\n",
              "0  https://www.archanaskitchen.com/masala-karela-...   \n",
              "\n",
              "                                 Cleaned-Ingredients  \\\n",
              "0  salt,amchur (dry mango powder),karela (bitter ...   \n",
              "\n",
              "                                           image-url  Ingredient-count  \\\n",
              "0  https://www.archanaskitchen.com/images/archana...                10   \n",
              "\n",
              "  Cuisine_y Course   Nutritional Profile Preparation Method Spiciness Level  \\\n",
              "0    Indian   Main  Low Carb, High Fiber           Stir-Fry           Spicy   \n",
              "\n",
              "  Vegan/Vegetarian/Contains-Egg/Non-Veg Allergens Flavor Profile  \\\n",
              "0                            Vegetarian      None  Bitter, Spicy   \n",
              "\n",
              "       Dietary Restrictions  \n",
              "0  Diabetic Friendly, Vegan  "
            ]
          },
          "execution_count": 4,
          "metadata": {},
          "output_type": "execute_result"
        }
      ],
      "source": [
        "df.head(1)"
      ]
    },
    {
      "cell_type": "code",
      "execution_count": 5,
      "metadata": {
        "colab": {
          "base_uri": "https://localhost:8080/"
        },
        "id": "lkJOioLILCnW",
        "outputId": "7ecda7ab-4aa0-4619-fd56-084f60ff236e"
      },
      "outputs": [
        {
          "data": {
            "text/plain": [
              "Index(['Unnamed: 0', 'Item Name', 'TranslatedIngredients', 'TotalTimeInMins',\n",
              "       'Cuisine_x', 'TranslatedInstructions', 'URL', 'Cleaned-Ingredients',\n",
              "       'image-url', 'Ingredient-count', 'Cuisine_y', 'Course',\n",
              "       'Nutritional Profile', 'Preparation Method', 'Spiciness Level',\n",
              "       'Vegan/Vegetarian/Contains-Egg/Non-Veg', 'Allergens', 'Flavor Profile',\n",
              "       'Dietary Restrictions'],\n",
              "      dtype='object')"
            ]
          },
          "execution_count": 5,
          "metadata": {},
          "output_type": "execute_result"
        }
      ],
      "source": [
        "df.columns"
      ]
    },
    {
      "cell_type": "code",
      "execution_count": 6,
      "metadata": {
        "id": "4E0vkRfLx8X_"
      },
      "outputs": [],
      "source": [
        "# Iterate over each row in the column\n",
        "for index, row in df.iterrows():  # Assuming 'df' is your DataFrame\n",
        "    # Check if the value is a string\n",
        "    if isinstance(row['Dietary Restrictions'], str):\n",
        "        # Split the flavor profile string by commas and convert it into a list\n",
        "        flavor_profiles_list = row['Dietary Restrictions'].split(', ')\n",
        "    else:\n",
        "        # Store as [None] if the value is not a string\n",
        "        flavor_profiles_list = [None]\n",
        "    # Update the DataFrame with the list of flavor profiles\n",
        "    df.at[index, 'Dietary Restrictions'] = flavor_profiles_list\n"
      ]
    },
    {
      "cell_type": "code",
      "execution_count": 7,
      "metadata": {
        "id": "PP0NOxCJx9eU"
      },
      "outputs": [],
      "source": [
        "# Iterate over each row in the column\n",
        "for index, row in df.iterrows():  # Assuming 'df' is your DataFrame\n",
        "    # Check if the value is a string\n",
        "    if isinstance(row['Preparation Method'], str):\n",
        "        # Split the flavor profile string by commas and convert it into a list\n",
        "        flavor_profiles_list = row['Preparation Method'].split(', ')\n",
        "    else:\n",
        "        # Store as [None] if the value is not a string\n",
        "        flavor_profiles_list = [None]\n",
        "    # Update the DataFrame with the list of flavor profiles\n",
        "    df.at[index, 'Preparation Method'] = flavor_profiles_list\n"
      ]
    },
    {
      "cell_type": "code",
      "execution_count": 8,
      "metadata": {
        "id": "oiggQaXuy5xO"
      },
      "outputs": [],
      "source": [
        "# Iterate over each row in the column\n",
        "for index, row in df.iterrows():  # Assuming 'df' is your DataFrame\n",
        "    # Check if the value is a string\n",
        "    if isinstance(row['Flavor Profile'], str):\n",
        "        # Split the flavor profile string by commas and convert it into a list\n",
        "        flavor_profiles_list = row['Flavor Profile'].split(', ')\n",
        "    else:\n",
        "        # Store as [None] if the value is not a string\n",
        "        flavor_profiles_list = [None]\n",
        "    # Update the DataFrame with the list of flavor profiles\n",
        "    df.at[index, 'Flavor Profile'] = flavor_profiles_list\n"
      ]
    },
    {
      "cell_type": "code",
      "execution_count": 9,
      "metadata": {
        "id": "SUMIaAJ8zOyT"
      },
      "outputs": [],
      "source": [
        "# Iterate over each row in the column\n",
        "for index, row in df.iterrows():  # Assuming 'df' is your DataFrame\n",
        "    # Check if the value is a string\n",
        "    if isinstance(row['Nutritional Profile'], str):\n",
        "        # Split the flavor profile string by commas and convert it into a list\n",
        "        flavor_profiles_list = row['Nutritional Profile'].split(', ')\n",
        "    else:\n",
        "        # Store as [None] if the value is not a string\n",
        "        flavor_profiles_list = [None]\n",
        "    # Update the DataFrame with the list of flavor profiles\n",
        "    df.at[index, 'Nutritional Profile'] = flavor_profiles_list\n"
      ]
    },
    {
      "cell_type": "code",
      "execution_count": 10,
      "metadata": {
        "colab": {
          "base_uri": "https://localhost:8080/"
        },
        "id": "upEVgoJsK2mm",
        "outputId": "2cb3da0b-b09a-415d-b5e4-c660762dd89a"
      },
      "outputs": [
        {
          "data": {
            "text/plain": [
              "array(['Vegetarian', 'Non-Veg', 'Vegan', 'Contains Egg', 'Contains-Egg',\n",
              "       'Contains-Egg, Vegetarian', 'Vegan, Vegetarian',\n",
              "       'Vegetarian, Vegan', 'Vegetarian, Vegan, Gluten-Free', 'Various',\n",
              "       'Non-Vegetarian', 'Vegetarian, Contains Dairy',\n",
              "       'Vegetarian, Contains Dairy, Nuts'], dtype=object)"
            ]
          },
          "execution_count": 10,
          "metadata": {},
          "output_type": "execute_result"
        }
      ],
      "source": [
        "df['Vegan/Vegetarian/Contains-Egg/Non-Veg'].unique()"
      ]
    },
    {
      "cell_type": "code",
      "execution_count": 11,
      "metadata": {
        "id": "tT35vInzLLeR"
      },
      "outputs": [],
      "source": [
        "df['Vegan/Vegetarian/Contains-Egg/Non-Veg']=df['Vegan/Vegetarian/Contains-Egg/Non-Veg'].replace({'Non-Veg':'Non-Vegetarian','Contains-Egg':'Contains Egg','Contains-Egg, Vegetarian':'Contains Egg','Vegetarian, Vegan':'Vegetarian','Vegan, Vegetarian':'Vegan','Vegetarian, Vegan, Gluten-Free':'Vegetarian','Vegetarian, Contains Dairy':'Vegetarian','Vegetarian, Contains Dairy, Nuts':'Vegetarian'})"
      ]
    },
    {
      "cell_type": "code",
      "execution_count": 12,
      "metadata": {
        "colab": {
          "base_uri": "https://localhost:8080/"
        },
        "id": "-r6hbYgUMiWy",
        "outputId": "a783ff96-2f27-41e8-82cf-bf2823f41b88"
      },
      "outputs": [
        {
          "data": {
            "text/plain": [
              "array(['Vegetarian', 'Non-Vegetarian', 'Vegan', 'Contains Egg', 'Various'],\n",
              "      dtype=object)"
            ]
          },
          "execution_count": 12,
          "metadata": {},
          "output_type": "execute_result"
        }
      ],
      "source": [
        "df['Vegan/Vegetarian/Contains-Egg/Non-Veg'].unique()"
      ]
    },
    {
      "cell_type": "code",
      "execution_count": 13,
      "metadata": {
        "colab": {
          "base_uri": "https://localhost:8080/"
        },
        "id": "CrtJocWBMjcq",
        "outputId": "bc2e02e5-63f4-45db-9c7a-c6282bf8b91b"
      },
      "outputs": [
        {
          "data": {
            "text/plain": [
              "Vegetarian        2118\n",
              "Vegan              591\n",
              "Non-Vegetarian     369\n",
              "Contains Egg        10\n",
              "Various              1\n",
              "Name: Vegan/Vegetarian/Contains-Egg/Non-Veg, dtype: int64"
            ]
          },
          "execution_count": 13,
          "metadata": {},
          "output_type": "execute_result"
        }
      ],
      "source": [
        "df['Vegan/Vegetarian/Contains-Egg/Non-Veg'].value_counts()"
      ]
    },
    {
      "cell_type": "code",
      "execution_count": 14,
      "metadata": {
        "colab": {
          "base_uri": "https://localhost:8080/",
          "height": 170
        },
        "id": "_01u0CDJMoDC",
        "outputId": "bb1ea446-e991-4060-c64e-fc7f6e184a17"
      },
      "outputs": [
        {
          "data": {
            "text/html": [
              "<div>\n",
              "<style scoped>\n",
              "    .dataframe tbody tr th:only-of-type {\n",
              "        vertical-align: middle;\n",
              "    }\n",
              "\n",
              "    .dataframe tbody tr th {\n",
              "        vertical-align: top;\n",
              "    }\n",
              "\n",
              "    .dataframe thead th {\n",
              "        text-align: right;\n",
              "    }\n",
              "</style>\n",
              "<table border=\"1\" class=\"dataframe\">\n",
              "  <thead>\n",
              "    <tr style=\"text-align: right;\">\n",
              "      <th></th>\n",
              "      <th>Unnamed: 0</th>\n",
              "      <th>Item Name</th>\n",
              "      <th>TranslatedIngredients</th>\n",
              "      <th>TotalTimeInMins</th>\n",
              "      <th>Cuisine_x</th>\n",
              "      <th>TranslatedInstructions</th>\n",
              "      <th>URL</th>\n",
              "      <th>Cleaned-Ingredients</th>\n",
              "      <th>image-url</th>\n",
              "      <th>Ingredient-count</th>\n",
              "      <th>Cuisine_y</th>\n",
              "      <th>Course</th>\n",
              "      <th>Nutritional Profile</th>\n",
              "      <th>Preparation Method</th>\n",
              "      <th>Spiciness Level</th>\n",
              "      <th>Vegan/Vegetarian/Contains-Egg/Non-Veg</th>\n",
              "      <th>Allergens</th>\n",
              "      <th>Flavor Profile</th>\n",
              "      <th>Dietary Restrictions</th>\n",
              "    </tr>\n",
              "  </thead>\n",
              "  <tbody>\n",
              "    <tr>\n",
              "      <th>1750</th>\n",
              "      <td>1750</td>\n",
              "      <td>Tomato All Recipes</td>\n",
              "      <td>1/2 tablespoon Red Chilli powder,Whole Black P...</td>\n",
              "      <td>40</td>\n",
              "      <td>Middle Eastern</td>\n",
              "      <td>To prepare Tomato shorba recipe, heat butter i...</td>\n",
              "      <td>https://www.archanaskitchen.com/tomato-shorba-...</td>\n",
              "      <td>tomato,salt,cumin powder (jeera),bay leaf (tej...</td>\n",
              "      <td>https://www.archanaskitchen.com/images/archana...</td>\n",
              "      <td>12</td>\n",
              "      <td>Various</td>\n",
              "      <td>Various</td>\n",
              "      <td>[Various]</td>\n",
              "      <td>[Various]</td>\n",
              "      <td>Various</td>\n",
              "      <td>Various</td>\n",
              "      <td>Various</td>\n",
              "      <td>[Various]</td>\n",
              "      <td>[Various]</td>\n",
              "    </tr>\n",
              "  </tbody>\n",
              "</table>\n",
              "</div>"
            ],
            "text/plain": [
              "      Unnamed: 0           Item Name  \\\n",
              "1750        1750  Tomato All Recipes   \n",
              "\n",
              "                                  TranslatedIngredients  TotalTimeInMins  \\\n",
              "1750  1/2 tablespoon Red Chilli powder,Whole Black P...               40   \n",
              "\n",
              "           Cuisine_x                             TranslatedInstructions  \\\n",
              "1750  Middle Eastern  To prepare Tomato shorba recipe, heat butter i...   \n",
              "\n",
              "                                                    URL  \\\n",
              "1750  https://www.archanaskitchen.com/tomato-shorba-...   \n",
              "\n",
              "                                    Cleaned-Ingredients  \\\n",
              "1750  tomato,salt,cumin powder (jeera),bay leaf (tej...   \n",
              "\n",
              "                                              image-url  Ingredient-count  \\\n",
              "1750  https://www.archanaskitchen.com/images/archana...                12   \n",
              "\n",
              "     Cuisine_y   Course Nutritional Profile Preparation Method  \\\n",
              "1750   Various  Various           [Various]          [Various]   \n",
              "\n",
              "     Spiciness Level Vegan/Vegetarian/Contains-Egg/Non-Veg Allergens  \\\n",
              "1750         Various                               Various   Various   \n",
              "\n",
              "     Flavor Profile Dietary Restrictions  \n",
              "1750      [Various]            [Various]  "
            ]
          },
          "execution_count": 14,
          "metadata": {},
          "output_type": "execute_result"
        }
      ],
      "source": [
        "df[df['Vegan/Vegetarian/Contains-Egg/Non-Veg']=='Various']"
      ]
    },
    {
      "cell_type": "code",
      "execution_count": 15,
      "metadata": {
        "id": "c5WS2_JuNFNq"
      },
      "outputs": [],
      "source": [
        "df.drop(df[df['Vegan/Vegetarian/Contains-Egg/Non-Veg']=='Various'].index,inplace=True)"
      ]
    },
    {
      "cell_type": "code",
      "execution_count": 16,
      "metadata": {
        "colab": {
          "base_uri": "https://localhost:8080/"
        },
        "id": "_eW6CXv7NmmD",
        "outputId": "61a895ca-69ed-4ab9-9fc1-91ebc983f88b"
      },
      "outputs": [
        {
          "data": {
            "text/plain": [
              "Vegetarian        2118\n",
              "Vegan              591\n",
              "Non-Vegetarian     369\n",
              "Contains Egg        10\n",
              "Name: Vegan/Vegetarian/Contains-Egg/Non-Veg, dtype: int64"
            ]
          },
          "execution_count": 16,
          "metadata": {},
          "output_type": "execute_result"
        }
      ],
      "source": [
        "df['Vegan/Vegetarian/Contains-Egg/Non-Veg'].value_counts()"
      ]
    },
    {
      "cell_type": "code",
      "execution_count": 17,
      "metadata": {
        "colab": {
          "base_uri": "https://localhost:8080/",
          "height": 467
        },
        "id": "15lGAiYfNaXo",
        "outputId": "b56e783a-824d-4e58-b77a-0bf469ddc1c1"
      },
      "outputs": [
        {
          "data": {
            "text/plain": [
              "<Axes: xlabel='Vegan/Vegetarian/Contains-Egg/Non-Veg', ylabel='count'>"
            ]
          },
          "execution_count": 17,
          "metadata": {},
          "output_type": "execute_result"
        },
        {
          "data": {
            "image/png": "[encoded data removed]",
            "text/plain": [
              "<Figure size 640x480 with 1 Axes>"
            ]
          },
          "metadata": {},
          "output_type": "display_data"
        }
      ],
      "source": [
        "sns.countplot(x='Vegan/Vegetarian/Contains-Egg/Non-Veg',data=df)"
      ]
    },
    {
      "cell_type": "code",
      "execution_count": 18,
      "metadata": {
        "id": "4umklfSXNh6K"
      },
      "outputs": [],
      "source": [
        "df.drop('Unnamed: 0',axis=1,inplace=True)"
      ]
    },
    {
      "cell_type": "code",
      "execution_count": 19,
      "metadata": {
        "colab": {
          "base_uri": "https://localhost:8080/",
          "height": 170
        },
        "id": "0vbhcJS3N1JB",
        "outputId": "1a237c2c-b436-46fe-95d5-ccd7f4cf7e8b"
      },
      "outputs": [
        {
          "data": {
            "text/html": [
              "<div>\n",
              "<style scoped>\n",
              "    .dataframe tbody tr th:only-of-type {\n",
              "        vertical-align: middle;\n",
              "    }\n",
              "\n",
              "    .dataframe tbody tr th {\n",
              "        vertical-align: top;\n",
              "    }\n",
              "\n",
              "    .dataframe thead th {\n",
              "        text-align: right;\n",
              "    }\n",
              "</style>\n",
              "<table border=\"1\" class=\"dataframe\">\n",
              "  <thead>\n",
              "    <tr style=\"text-align: right;\">\n",
              "      <th></th>\n",
              "      <th>Item Name</th>\n",
              "      <th>TranslatedIngredients</th>\n",
              "      <th>TotalTimeInMins</th>\n",
              "      <th>Cuisine_x</th>\n",
              "      <th>TranslatedInstructions</th>\n",
              "      <th>URL</th>\n",
              "      <th>Cleaned-Ingredients</th>\n",
              "      <th>image-url</th>\n",
              "      <th>Ingredient-count</th>\n",
              "      <th>Cuisine_y</th>\n",
              "      <th>Course</th>\n",
              "      <th>Nutritional Profile</th>\n",
              "      <th>Preparation Method</th>\n",
              "      <th>Spiciness Level</th>\n",
              "      <th>Vegan/Vegetarian/Contains-Egg/Non-Veg</th>\n",
              "      <th>Allergens</th>\n",
              "      <th>Flavor Profile</th>\n",
              "      <th>Dietary Restrictions</th>\n",
              "    </tr>\n",
              "  </thead>\n",
              "  <tbody>\n",
              "    <tr>\n",
              "      <th>0</th>\n",
              "      <td>Masala Karela Recipe</td>\n",
              "      <td>1 tablespoon Red Chilli powder,3 tablespoon Gr...</td>\n",
              "      <td>45</td>\n",
              "      <td>Indian</td>\n",
              "      <td>To begin making the Masala Karela Recipe,de-se...</td>\n",
              "      <td>https://www.archanaskitchen.com/masala-karela-...</td>\n",
              "      <td>salt,amchur (dry mango powder),karela (bitter ...</td>\n",
              "      <td>https://www.archanaskitchen.com/images/archana...</td>\n",
              "      <td>10</td>\n",
              "      <td>Indian</td>\n",
              "      <td>Main</td>\n",
              "      <td>[Low Carb, High Fiber]</td>\n",
              "      <td>[Stir-Fry]</td>\n",
              "      <td>Spicy</td>\n",
              "      <td>Vegetarian</td>\n",
              "      <td>None</td>\n",
              "      <td>[Bitter, Spicy]</td>\n",
              "      <td>[Diabetic Friendly, Vegan]</td>\n",
              "    </tr>\n",
              "  </tbody>\n",
              "</table>\n",
              "</div>"
            ],
            "text/plain": [
              "              Item Name                              TranslatedIngredients  \\\n",
              "0  Masala Karela Recipe  1 tablespoon Red Chilli powder,3 tablespoon Gr...   \n",
              "\n",
              "   TotalTimeInMins Cuisine_x  \\\n",
              "0               45    Indian   \n",
              "\n",
              "                              TranslatedInstructions  \\\n",
              "0  To begin making the Masala Karela Recipe,de-se...   \n",
              "\n",
              "                                                 URL  \\\n",
              "0  https://www.archanaskitchen.com/masala-karela-...   \n",
              "\n",
              "                                 Cleaned-Ingredients  \\\n",
              "0  salt,amchur (dry mango powder),karela (bitter ...   \n",
              "\n",
              "                                           image-url  Ingredient-count  \\\n",
              "0  https://www.archanaskitchen.com/images/archana...                10   \n",
              "\n",
              "  Cuisine_y Course     Nutritional Profile Preparation Method Spiciness Level  \\\n",
              "0    Indian   Main  [Low Carb, High Fiber]         [Stir-Fry]           Spicy   \n",
              "\n",
              "  Vegan/Vegetarian/Contains-Egg/Non-Veg Allergens   Flavor Profile  \\\n",
              "0                            Vegetarian      None  [Bitter, Spicy]   \n",
              "\n",
              "         Dietary Restrictions  \n",
              "0  [Diabetic Friendly, Vegan]  "
            ]
          },
          "execution_count": 19,
          "metadata": {},
          "output_type": "execute_result"
        }
      ],
      "source": [
        "df.head(1)"
      ]
    },
    {
      "cell_type": "code",
      "execution_count": 20,
      "metadata": {
        "id": "UusyWXFYXSvN"
      },
      "outputs": [],
      "source": [
        "df['TranslatedInstructions']=df['TranslatedIngredients'].astype(str)\n",
        "df['Item Name']=df['Item Name'].astype(str)\n",
        "df['TranslatedIngredients']=df['TranslatedIngredients'].astype(str)"
      ]
    },
    {
      "cell_type": "code",
      "execution_count": 21,
      "metadata": {
        "id": "lA0PIuMVBonx"
      },
      "outputs": [],
      "source": [
        "text_data = df['Item Name']+' '+df['TranslatedIngredients'] + ' ' + df['TranslatedInstructions']"
      ]
    },
    {
      "cell_type": "code",
      "execution_count": 22,
      "metadata": {
        "id": "JyKH8xI7s9TZ"
      },
      "outputs": [],
      "source": [
        "from sklearn.preprocessing import LabelEncoder\n",
        "\n",
        "# Initialize the LabelEncoder\n",
        "label_encoder = LabelEncoder()\n",
        "y = label_encoder.fit_transform(df['Vegan/Vegetarian/Contains-Egg/Non-Veg'])"
      ]
    },
    {
      "cell_type": "code",
      "execution_count": 23,
      "metadata": {
        "colab": {
          "base_uri": "https://localhost:8080/"
        },
        "id": "YFJgxm4OtnWS",
        "outputId": "1de45ce2-5ef5-4628-eadc-7819806852f6"
      },
      "outputs": [
        {
          "name": "stdout",
          "output_type": "stream",
          "text": [
            "Original Value: Non-Vegetarian\n"
          ]
        }
      ],
      "source": [
        "encoded_value = 1\n",
        "original_value = label_encoder.inverse_transform([encoded_value])\n",
        "\n",
        "print(\"Original Value:\", original_value[0])\n"
      ]
    },
    {
      "cell_type": "code",
      "execution_count": 24,
      "metadata": {
        "id": "fX0DDHenv5Ea"
      },
      "outputs": [],
      "source": [
        "from sklearn.model_selection import train_test_split\n",
        "from sklearn.feature_extraction.text import TfidfVectorizer\n",
        "from sklearn.linear_model import LogisticRegression\n",
        "from sklearn.metrics import accuracy_score\n"
      ]
    },
    {
      "cell_type": "code",
      "execution_count": 25,
      "metadata": {
        "id": "FRqEwNE2vwPz"
      },
      "outputs": [],
      "source": [
        "X_train, X_test, y_train, y_test = train_test_split(text_data, y, test_size=0.2, random_state=42)\n",
        "\n",
        "# Initialize TF-IDF vectorizer\n",
        "tfidf_vectorizer = TfidfVectorizer()\n",
        "\n",
        "# Fit and transform on training data, transform testing data\n",
        "X_train_tfidf = tfidf_vectorizer.fit_transform(X_train)\n",
        "X_test_tfidf = tfidf_vectorizer.transform(X_test)\n"
      ]
    },
    {
      "cell_type": "code",
      "execution_count": 26,
      "metadata": {
        "colab": {
          "base_uri": "https://localhost:8080/",
          "height": 75
        },
        "id": "9_DMYoczwCyx",
        "outputId": "8074b28a-dd88-4358-dd0b-4ac46cee6c37"
      },
      "outputs": [
        {
          "data": {
            "text/html": [
              "<style>#sk-container-id-1 {color: black;background-color: white;}#sk-container-id-1 pre{padding: 0;}#sk-container-id-1 div.sk-toggleable {background-color: white;}#sk-container-id-1 label.sk-toggleable__label {cursor: pointer;display: block;width: 100%;margin-bottom: 0;padding: 0.3em;box-sizing: border-box;text-align: center;}#sk-container-id-1 label.sk-toggleable__label-arrow:before {content: \"▸\";float: left;margin-right: 0.25em;color: #696969;}#sk-container-id-1 label.sk-toggleable__label-arrow:hover:before {color: black;}#sk-container-id-1 div.sk-estimator:hover label.sk-toggleable__label-arrow:before {color: black;}#sk-container-id-1 div.sk-toggleable__content {max-height: 0;max-width: 0;overflow: hidden;text-align: left;background-color: #f0f8ff;}#sk-container-id-1 div.sk-toggleable__content pre {margin: 0.2em;color: black;border-radius: 0.25em;background-color: #f0f8ff;}#sk-container-id-1 input.sk-toggleable__control:checked~div.sk-toggleable__content {max-height: 200px;max-width: 100%;overflow: auto;}#sk-container-id-1 input.sk-toggleable__control:checked~label.sk-toggleable__label-arrow:before {content: \"▾\";}#sk-container-id-1 div.sk-estimator input.sk-toggleable__control:checked~label.sk-toggleable__label {background-color: #d4ebff;}#sk-container-id-1 div.sk-label input.sk-toggleable__control:checked~label.sk-toggleable__label {background-color: #d4ebff;}#sk-container-id-1 input.sk-hidden--visually {border: 0;clip: rect(1px 1px 1px 1px);clip: rect(1px, 1px, 1px, 1px);height: 1px;margin: -1px;overflow: hidden;padding: 0;position: absolute;width: 1px;}#sk-container-id-1 div.sk-estimator {font-family: monospace;background-color: #f0f8ff;border: 1px dotted black;border-radius: 0.25em;box-sizing: border-box;margin-bottom: 0.5em;}#sk-container-id-1 div.sk-estimator:hover {background-color: #d4ebff;}#sk-container-id-1 div.sk-parallel-item::after {content: \"\";width: 100%;border-bottom: 1px solid gray;flex-grow: 1;}#sk-container-id-1 div.sk-label:hover label.sk-toggleable__label {background-color: #d4ebff;}#sk-container-id-1 div.sk-serial::before {content: \"\";position: absolute;border-left: 1px solid gray;box-sizing: border-box;top: 0;bottom: 0;left: 50%;z-index: 0;}#sk-container-id-1 div.sk-serial {display: flex;flex-direction: column;align-items: center;background-color: white;padding-right: 0.2em;padding-left: 0.2em;position: relative;}#sk-container-id-1 div.sk-item {position: relative;z-index: 1;}#sk-container-id-1 div.sk-parallel {display: flex;align-items: stretch;justify-content: center;background-color: white;position: relative;}#sk-container-id-1 div.sk-item::before, #sk-container-id-1 div.sk-parallel-item::before {content: \"\";position: absolute;border-left: 1px solid gray;box-sizing: border-box;top: 0;bottom: 0;left: 50%;z-index: -1;}#sk-container-id-1 div.sk-parallel-item {display: flex;flex-direction: column;z-index: 1;position: relative;background-color: white;}#sk-container-id-1 div.sk-parallel-item:first-child::after {align-self: flex-end;width: 50%;}#sk-container-id-1 div.sk-parallel-item:last-child::after {align-self: flex-start;width: 50%;}#sk-container-id-1 div.sk-parallel-item:only-child::after {width: 0;}#sk-container-id-1 div.sk-dashed-wrapped {border: 1px dashed gray;margin: 0 0.4em 0.5em 0.4em;box-sizing: border-box;padding-bottom: 0.4em;background-color: white;}#sk-container-id-1 div.sk-label label {font-family: monospace;font-weight: bold;display: inline-block;line-height: 1.2em;}#sk-container-id-1 div.sk-label-container {text-align: center;}#sk-container-id-1 div.sk-container {/* jupyter's `normalize.less` sets `[hidden] { display: none; }` but bootstrap.min.css set `[hidden] { display: none !important; }` so we also need the `!important` here to be able to override the default hidden behavior on the sphinx rendered scikit-learn.org. See: https://github.com/scikit-learn/scikit-learn/issues/21755 */display: inline-block !important;position: relative;}#sk-container-id-1 div.sk-text-repr-fallback {display: none;}</style><div id=\"sk-container-id-1\" class=\"sk-top-container\"><div class=\"sk-text-repr-fallback\"><pre>LogisticRegression()</pre><b>In a Jupyter environment, please rerun this cell to show the HTML representation or trust the notebook. <br />On GitHub, the HTML representation is unable to render, please try loading this page with nbviewer.org.</b></div><div class=\"sk-container\" hidden><div class=\"sk-item\"><div class=\"sk-estimator sk-toggleable\"><input class=\"sk-toggleable__control sk-hidden--visually\" id=\"sk-estimator-id-1\" type=\"checkbox\" checked><label for=\"sk-estimator-id-1\" class=\"sk-toggleable__label sk-toggleable__label-arrow\">LogisticRegression</label><div class=\"sk-toggleable__content\"><pre>LogisticRegression()</pre></div></div></div></div></div>"
            ],
            "text/plain": [
              "LogisticRegression()"
            ]
          },
          "execution_count": 26,
          "metadata": {},
          "output_type": "execute_result"
        }
      ],
      "source": [
        "model = LogisticRegression()\n",
        "model.fit(X_train_tfidf, y_train)\n"
      ]
    },
    {
      "cell_type": "code",
      "execution_count": 27,
      "metadata": {
        "colab": {
          "base_uri": "https://localhost:8080/"
        },
        "id": "ZDNjn1t1wDc8",
        "outputId": "0723a28d-676d-46d8-9a85-1697660e35ac"
      },
      "outputs": [
        {
          "name": "stdout",
          "output_type": "stream",
          "text": [
            "Accuracy: 0.7605177993527508\n"
          ]
        }
      ],
      "source": [
        "y_pred = model.predict(X_test_tfidf)\n",
        "\n",
        "# Evaluate model\n",
        "accuracy = accuracy_score(y_test, y_pred)\n",
        "print(\"Accuracy:\", accuracy)\n"
      ]
    },
    {
      "cell_type": "code",
      "execution_count": 28,
      "metadata": {
        "colab": {
          "base_uri": "https://localhost:8080/"
        },
        "id": "HURq1u4LxrQY",
        "outputId": "4023e411-a880-49b9-e8d3-c050a844f75e"
      },
      "outputs": [
        {
          "name": "stdout",
          "output_type": "stream",
          "text": [
            "['Spicy Tomato Rice (Recipe)']\n",
            "Predicted value  ['Vegetarian']\n",
            "Actual value  Vegetarian\n",
            "['Udupi Style Ash Gourd Coconut Curry Recipe']\n",
            "Predicted value  ['Vegetarian']\n",
            "Actual value  Vegetarian\n",
            "['Mexican Style Black Bean Burrito Recipe']\n",
            "Predicted value  ['Vegetarian']\n",
            "Actual value  Vegetarian\n",
            "['Spicy Crunchy Masala Idli Recipe']\n",
            "Predicted value  ['Vegetarian']\n",
            "Actual value  Vegetarian\n",
            "['Cauliflower Leaves Chutney (Recipe in Hindi)']\n",
            "Predicted value  ['Vegetarian']\n",
            "Actual value  Vegetarian\n",
            "['Veg Chili Cheese Burgers Recipe']\n",
            "Predicted value  ['Vegetarian']\n",
            "Actual value  Vegetarian\n",
            "['Saunf Aloo (Fennel Potato Curry) Recipe']\n",
            "Predicted value  ['Vegetarian']\n",
            "Actual value  Vegetarian\n",
            "['Hariyali Egg Curry Recipe In Coriander and Mint Gravy']\n",
            "Predicted value  ['Vegetarian']\n",
            "Actual value  Non-Vegetarian\n",
            "['Homemade Tater Tots Recipe']\n",
            "Predicted value  ['Vegetarian']\n",
            "Actual value  Vegetarian\n",
            "['Homemade Healthy Subway Sandwich Recipe With Beet & Sprout']\n",
            "Predicted value  ['Vegetarian']\n",
            "Actual value  Vegetarian\n",
            "['Mini Dal Samosa Curry / Sabzi Recipe']\n",
            "Predicted value  ['Vegetarian']\n",
            "Actual value  Vegetarian\n",
            "['Spinach Garlic Bruschetta Recipe With Red Bell Pepper Sauce']\n",
            "Predicted value  ['Vegetarian']\n",
            "Actual value  Vegetarian\n",
            "['Asian Style Sweet & Spicy Green Beans Recipe']\n",
            "Predicted value  ['Vegetarian']\n",
            "Actual value  Vegetarian\n",
            "['Chinese Darsaan Recipe With Ice Cream']\n",
            "Predicted value  ['Vegetarian']\n",
            "Actual value  Vegetarian\n",
            "['Cabbage, Spinach, Pomegranate Slaw with Lemon Dressing Recipe']\n",
            "Predicted value  ['Vegetarian']\n",
            "Actual value  Vegetarian\n",
            "['Eggless Chocolate Cupcakes With Raspberry & Cheese Frosting']\n",
            "Predicted value  ['Vegetarian']\n",
            "Actual value  Vegetarian\n",
            "['Kerala pala pradham recipe']\n",
            "Predicted value  ['Vegetarian']\n",
            "Actual value  Vegetarian\n",
            "['Tindora Sambharo Recipe - Instant Tendli Pickle']\n",
            "Predicted value  ['Vegetarian']\n",
            "Actual value  Vegetarian\n",
            "['Chettinad Style Chicken Roast Recipe']\n",
            "Predicted value  ['Non-Vegetarian']\n",
            "Actual value  Non-Vegetarian\n"
          ]
        }
      ],
      "source": [
        "for i in range(1,20):\n",
        "  itemname=str(df.iloc[i:i+1,0:1].values[0, 0])\n",
        "  ingredients=str(df.iloc[i:i+1,1:2].values[0, 0])\n",
        "  instructions=str(df.iloc[i:i+1,2:3].values[0, 0])\n",
        "  text=[itemname+' '+ingredients+' '+instructions]\n",
        "  text=[itemname]\n",
        "  print(text)\n",
        "  text_transformed=tfidf_vectorizer.transform(text)\n",
        "  print(\"Predicted value \",label_encoder.inverse_transform(model.predict(text_transformed)))\n",
        "  print(\"Actual value \",df.iloc[i:i+1,14:15].values[0,0])\n"
      ]
    },
    {
      "cell_type": "code",
      "execution_count": null,
      "metadata": {
        "id": "E04SaNprBSYQ"
      },
      "outputs": [],
      "source": []
    },
    {
      "cell_type": "code",
      "execution_count": 29,
      "metadata": {
        "colab": {
          "base_uri": "https://localhost:8080/"
        },
        "id": "_KsGJ0rfCx1i",
        "outputId": "5875839d-6c37-4266-ca6e-59f846cff19c"
      },
      "outputs": [
        {
          "data": {
            "text/plain": [
              "array(['Indian', 'South Indian Recipes', 'Udupi', 'Mexican',\n",
              "       'Continental', 'Punjabi', 'Fusion', 'North Indian Recipes',\n",
              "       'Italian Recipes', 'Thai', 'Chinese', 'Kerala Recipes',\n",
              "       'Gujarati Recipes\\ufeff', 'Chettinad', 'Tamil Nadu', 'Coorg',\n",
              "       'Andhra', 'Rajasthani', 'Bengali Recipes', 'Asian',\n",
              "       'Middle Eastern', 'Maharashtrian Recipes', 'Coastal Karnataka',\n",
              "       'Kashmiri', 'Karnataka', 'Lucknowi', 'Hyderabadi', 'Side Dish',\n",
              "       'Goan Recipes', 'Arab', 'Assamese', 'Bihari', 'Malabar',\n",
              "       'Himachal', 'Awadhi', 'Cantonese', 'North East India Recipes',\n",
              "       'Sichuan', 'Mughlai', 'Japanese', 'Sindhi', 'Mangalorean',\n",
              "       'Vietnamese', 'British', 'North Karnataka', 'Parsi Recipes',\n",
              "       'Greek', 'Nepalese', 'Oriya Recipes', 'French', 'Indo Chinese',\n",
              "       'Konkan', 'Mediterranean', 'Sri Lankan', 'European',\n",
              "       'Uttar Pradesh', 'Malvani', 'Indonesian', 'African', 'Korean',\n",
              "       'American', 'Kongunadu', 'Caribbean', 'South Karnataka',\n",
              "       'Pakistani', 'Haryana', 'Appetizer', 'Uttarakhand-North Kumaon',\n",
              "       'World Breakfast', 'Malaysian', 'Dessert', 'Hunan', 'Dinner',\n",
              "       'Snack', 'Jewish', 'Burmese', 'Afghan'], dtype=object)"
            ]
          },
          "execution_count": 29,
          "metadata": {},
          "output_type": "execute_result"
        }
      ],
      "source": [
        "df['Cuisine_x'].unique()"
      ]
    },
    {
      "cell_type": "code",
      "execution_count": 30,
      "metadata": {
        "colab": {
          "base_uri": "https://localhost:8080/"
        },
        "id": "ou3UNb0KGyWM",
        "outputId": "3bef7a0d-26a5-413c-c3f1-bb49b95a2a6c"
      },
      "outputs": [
        {
          "data": {
            "text/plain": [
              "Continental             498\n",
              "Indian                  480\n",
              "North Indian Recipes    402\n",
              "South Indian Recipes    280\n",
              "Italian Recipes         124\n",
              "                       ... \n",
              "Dinner                    1\n",
              "Snack                     1\n",
              "Jewish                    1\n",
              "Burmese                   1\n",
              "Side Dish                 1\n",
              "Name: Cuisine_x, Length: 77, dtype: int64"
            ]
          },
          "execution_count": 30,
          "metadata": {},
          "output_type": "execute_result"
        }
      ],
      "source": [
        "df['Cuisine_x'].value_counts()"
      ]
    },
    {
      "cell_type": "code",
      "execution_count": 31,
      "metadata": {
        "id": "e7cmkzLvG1Fu"
      },
      "outputs": [],
      "source": [
        "North_indian=['Gujarati','Rajasthani','Punjabi','Bengali','Maharashtrian','Uttarakhand-North Kumaon','Malvani','Haryana','Assamese','Uttar Pradesh','North Indian Recipes','Kashmiri','Sindhi','Oriya Recipes','Mughlai','Hyderabadi','Awadhi','Himachal','Bihari','North East India Recipes','Lucknowi']\n",
        "South_indian=['Andhra','Chettinad','Kerala','Kongunadu','Tamil Nadu','South Indian Recipes','Udupi','Malabar','Coorg','Mangalorean','Karnataka','Coastal Karnataka','North Karnataka','South Karnataka']\n",
        "Indian=['Indian','Konkan','Mughlai','Kashmiri','Goan Recipes']\n",
        "International = [\n",
        "    'World Breakfast',\n",
        "    'American',\n",
        "    'Afghan',\n",
        "    'Arab',\n",
        "    'Cantonese',\n",
        "    'Sichuan',\n",
        "    'Indonesian',\n",
        "    'Malaysian',\n",
        "    'British',\n",
        "    'Appetizer',\n",
        "    'Korean',\n",
        "    'Caribbean',\n",
        "    'Dessert',\n",
        "    'Hunan',\n",
        "    'Dinner',\n",
        "    'Snack',\n",
        "    'Jewish',\n",
        "    'Burmese',\n",
        "    'Side Dish',\n",
        "    'French',\n",
        "    'Indo Chinese',\n",
        "    'Parsi Recipes',\n",
        "    'Mediterranean',\n",
        "    'European',\n",
        "    'Greek',\n",
        "    'Sri Lankan',\n",
        "    'African',\n",
        "    'Japanese',\n",
        "    'Pakistani',\n",
        "    'Vietnamese',\n",
        "    'Nepalese',\n",
        "    'Fusion',\n",
        "    'Mexican'\n",
        "    'Asian',\n",
        "    'Chinese',\n",
        "    'Thai',\n",
        "    'Middle Eastern'\n",
        "]\n"
      ]
    },
    {
      "cell_type": "code",
      "execution_count": 32,
      "metadata": {
        "id": "Gl2WlhW4LX0N"
      },
      "outputs": [],
      "source": [
        "df['Cuisine_x']=df['Cuisine_x'].replace({'Gujarati Recipes\\ufeff':'Gujarati','Italian Recipes':'Italian','Maharashtrian Recipes':'Maharashtrian','Bengali Recipes':'Bengali','Kerala Recipes':'Kerala','Gujarati Recipes':'Gujarati'})"
      ]
    },
    {
      "cell_type": "code",
      "execution_count": 33,
      "metadata": {
        "id": "iGR1vQ48KBaa"
      },
      "outputs": [],
      "source": [
        "for i in International:\n",
        "  df['Cuisine_x']=df['Cuisine_x'].replace({i:'International'})\n",
        "for i in Indian:\n",
        "  df['Cuisine_x']=df['Cuisine_x'].replace({i:'Indian'})\n",
        "for i in North_indian:\n",
        "  df['Cuisine_x']=df['Cuisine_x'].replace({i:'North Indian'})\n",
        "for i in South_indian:\n",
        "  df['Cuisine_x']=df['Cuisine_x'].replace({i:'South Indian'})\n"
      ]
    },
    {
      "cell_type": "code",
      "execution_count": 34,
      "metadata": {
        "colab": {
          "base_uri": "https://localhost:8080/"
        },
        "id": "hmZHbe1DDsc5",
        "outputId": "13736efe-acd5-44c1-859a-f8a393627ded"
      },
      "outputs": [
        {
          "data": {
            "text/plain": [
              "North Indian     832\n",
              "South Indian     639\n",
              "Indian           573\n",
              "Continental      498\n",
              "International    320\n",
              "Italian          124\n",
              "Mexican           65\n",
              "Asian             37\n",
              "Name: Cuisine_x, dtype: int64"
            ]
          },
          "execution_count": 34,
          "metadata": {},
          "output_type": "execute_result"
        }
      ],
      "source": [
        "df['Cuisine_x'].value_counts()\n"
      ]
    },
    {
      "cell_type": "code",
      "execution_count": 35,
      "metadata": {
        "colab": {
          "base_uri": "https://localhost:8080/"
        },
        "id": "8SOv5x6KCx4X",
        "outputId": "aa06ed68-4781-44ec-f4c4-be44729aabf5"
      },
      "outputs": [
        {
          "name": "stdout",
          "output_type": "stream",
          "text": [
            "Accuracy: 0.6359223300970874\n",
            "['Spicy Tomato Rice (Recipe)  2 teaspoon cashew - or peanuts, 1/2 Teaspoon mustard, 1 dry red chilli, 1 teaspoon white urad dal, 1 teaspoon chickpea lentils, salt - as per taste, 1 green chilli, 1-1 / 2 tablespoon oil - 1/2 teaspoon asafoetida, 1/2 teaspoon cumin seeds, 3 teaspoons BC Belle Bhat powder,2-1 / 2 cups rice - cooked, 3 tomatoes 15']\n",
            "Predicted value  ['South Indian']\n",
            "Actual value  South Indian\n",
            "['Udupi Style Ash Gourd Coconut Curry Recipe 4 Dry Red Chillies,1/2 teaspoon Turmeric powder (Haldi),1/2 teaspoon Mustard seeds,1 Dry Red Chillies,Sunflower Oil - for cooking,Salt - to taste,30 grams Tamarind Water,1 cup Tamarind Water,1/2 cup Fresh coconut - grated,2 sprig Curry leaves - roughly torn,500 grams Vellai Poosanikai (Ash gourd/White Pumpkin),1/2 teaspoon Methi Seeds (Fenugreek Seeds),2 teaspoons Sesame seeds (Til seeds),1 teaspoon Sunflower Oil,3 tablespoons Jaggery,2 teaspoons Coriander (Dhania) Seeds,1/2 teaspoon Cumin seeds (Jeera) 40']\n",
            "Predicted value  ['South Indian']\n",
            "Actual value  South Indian\n",
            "['Mexican Style Black Bean Burrito Recipe 6 to 8 Spinach Leaves (Palak),1/4 cup Black beans - soaked overnight and  cooked,4 tablespoons Cheddar cheese,1 Onion - chopped,2 cloves Garlic - chopped,1 cup Rice - or brown rice,2 sprig Coriander (Dhania) Leaves,1 Lemon juice,4 tablespoon Hung Curd (Greek Yogurt),4 Spring Onion Greens - chopped,1 Tomato - chopped,4 Tortillas 40']\n",
            "Predicted value  ['Mexican']\n",
            "Actual value  Mexican\n",
            "['Spicy Crunchy Masala Idli Recipe Mint Leaves (Pudina) - to taste,1/2 teaspoon Turmeric powder (Haldi),3 tablespoons Tomato Ketchup,2 teaspoons Sunflower Oil,1 cup Tomato - finely chopped,Coriander (Dhania) Leaves - to taste,Salt - to taste,2 Green Chillies - finely chopped,1 cup Green Bell Pepper (Capsicum) - thinly sliced,10 Idli - cut into strips,1/4 teaspoon Red Chilli powder,1 cup Onions - finely chopped 30']\n",
            "Predicted value  ['South Indian']\n",
            "Actual value  South Indian\n",
            "['Cauliflower Leaves Chutney (Recipe in Hindi)  3 cloves garlic, 1 big Spoon oil, 2 tablespoons white urad dal, 1 teaspoon Rye,1 cup cabbage leaves, turmeric powder - a pinch, asafoetida - a pinch, 1/2 teaspoon Cumin seeds, 18 grams tamarind, salt - as per taste, 3/4 cup tomatoes, 1 sprig Curry leaves, 4 red chillies 25']\n",
            "Predicted value  ['South Indian']\n",
            "Actual value  South Indian\n",
            "['Veg Chili Cheese Burgers Recipe 1 tablespoon Tabasco Original - Hot Sauce,5 Pickled Jalapenos - sliced,1 Onion - chopped,1 Whole Egg,1 teaspoon Red Chilli flakes,1 tablespoon Red Chilli powder,1 Onions - chopped,Salt - to taste,2 Cheese Slices,2 Burger buns,2 Potatoes (Aloo) - pressure cooked,4 cloves Garlic - chopped,1 tablespoon Dried oregano,1 cup Homemade tomato puree,2 Tomatoes - chopped,1/2 cup Soy granules,1 Green Bell Pepper (Capsicum) - chopped,1/2 cup Whole Wheat Bread crumbs,1 teaspoon Honey,1 tablespoon Cumin powder (Jeera),Sunflower Oil 55']\n",
            "Predicted value  ['Continental']\n",
            "Actual value  Continental\n",
            "['Saunf Aloo (Fennel Potato Curry) Recipe 1/4 cup Fresh cream - or 1/2 cup milk,5 Potatoes (Aloo) - halved with skin,2 teaspoon Fennel seeds (Saunf) - crushed,4 sprig Coriander (Dhania) Leaves - finely chopped,1 teaspoon Turmeric powder (Haldi),2 teaspoon Red Chilli powder 25']\n",
            "Predicted value  ['South Indian']\n",
            "Actual value  North Indian\n",
            "['Hariyali Egg Curry Recipe In Coriander and Mint Gravy 2 cups Coriander (Dhania) Leaves - tightly packed,4 cloves Garlic,1 inch Ginger - chopped,1 teaspoon Garam masala powder,1 Cinnamon Stick (Dalchini) - small,2 Green Chillies - chopped,1 Onion - roughly chopped,1 tablespoon Sunflower Oil,2 Cloves (Laung),1 Bay leaf (tej patta),4 Whole Eggs - boiled,2 tablespoons Fresh cream,1 cup Mint Leaves (Pudina) - chopped,2 teaspoons Coriander Powder (Dhania) 35']\n",
            "Predicted value  ['North Indian']\n",
            "Actual value  Indian\n",
            "['Homemade Tater Tots Recipe 10 Potatoes (Aloo),1 teaspoon Garlic powder,Salt - to taste,Sunflower Oil - for deep frying the tater tots,1 tablespoon Coriander (Dhania) Leaves - finely chopped,1 teaspoon Red Chilli flakes,2 tablespoon All Purpose Flour (Maida),1 teaspoon Onion powder,1 tablespoon Rice flour,1 teaspoon Dried oregano 60']\n",
            "Predicted value  ['Continental']\n",
            "Actual value  Continental\n",
            "['Homemade Healthy Subway Sandwich Recipe With Beet & Sprout 2 Tomatoes - thinly sliced,1 Beetroot - grated,1/2 cup Hung Curd (Greek Yogurt),2 Submarine Bread (Subway Bread) - (flat breads or foot longs),2 cloves Garlic - grated,Tabasco Original - Hot Sauce - to taste,Salt and Pepper - to taste,2 Stalks Spring Onion (Bulb & Greens) - finely chopped,1/2 cup Green Moong Sprouts,2 tablespoon Coriander (Dhania) Leaves - finely chopped 30']\n",
            "Predicted value  ['International']\n",
            "Actual value  International\n",
            "['Mini Dal Samosa Curry / Sabzi Recipe 6 Whole Black Peppercorns,1 teaspoon Coriander Powder (Dhania),1 Mace (Javitri),2 tablespoons Sunflower Oil,2 Tomato - roughly chopped,15 Cashew nuts,1 Green Chilli,3 Cardamom (Elaichi) Pods/Seeds,1/2 teaspoon Sugar,1 Onion - roughly chopped,1/2 inch Cinnamon Stick (Dalchini),1/2 inch Ginger,1/2 teaspoon Kasuri Methi (Dried Fenugreek Leaves),1 Black cardamom (Badi Elaichi),1/2 teaspoon Turmeric powder (Haldi),6 Samosas - mini,1/2 teaspoon Garam masala powder,1/2 teaspoon Kashmiri Red Chilli Powder,1 Bay leaf (tej patta),1 tablespoon Fresh cream,3 cloves Cloves (Laung) 35']\n",
            "Predicted value  ['North Indian']\n",
            "Actual value  North Indian\n",
            "['Spinach Garlic Bruschetta Recipe With Red Bell Pepper Sauce 1 cup Cheddar cheese - grated,1 Baguette - sliced,Salt - to taste,1 Tomato - finely chopped,1 tablespoon Roasted tomato pasta sauce,1 1/2 tablespoon Butter,1 Red Bell pepper (Capsicum) - (optional,1 teaspoon Fresh cream,1 cup Spinach Leaves (Palak),1/2 tablespoon Garlic - minced,1 tablespoon Black pepper powder - adjust,1 tablespoon Italian seasoning,1 Onion - finely chopped (optional) 30']\n",
            "Predicted value  ['Italian']\n",
            "Actual value  Italian\n",
            "['Asian Style Sweet & Spicy Green Beans Recipe 2 tablespoons Rice Wine Vinegar,1/4 cup Roasted Peanuts (Moongphali),1 tablespoon Soy sauce,Salt - to taste,1 Lemon - juice,2 tablespoons Thai Sweet Chilli Sauce,300 grams Green beans (French Beans) - cut into half,3 cloves Garlic - finely chopped,1 tablespoon Sesame (Gingelly) Oil 25']\n",
            "Predicted value  ['International']\n",
            "Actual value  International\n",
            "['Chinese Darsaan Recipe With Ice Cream Water - to make the dough,2 tablespoon Sugar,2 tablespoons Water,1/2 teaspoon Vanilla Extract,1 tablespoon Sunflower Oil,2 tablespoons Honey,1/4 teaspoon Baking powder,1 tablespoon Sesame seeds (Til seeds) - white,All Purpose Flour (Maida),Sunflower Oil - to deep fry 40']\n",
            "Predicted value  ['Continental']\n",
            "Actual value  International\n",
            "['Cabbage, Spinach, Pomegranate Slaw with Lemon Dressing Recipe 1 cup Fresh Pomegranate Fruit Kernels,2 Lemon juice,2 tablespoons Extra Virgin Olive Oil,Salt and Pepper - to taste,1 cup Spinach - shredded,1 cup Cabbage (Patta Gobi/ Muttaikose) - shredded 15']\n",
            "Predicted value  ['Continental']\n",
            "Actual value  Continental\n",
            "['Eggless Chocolate Cupcakes With Raspberry & Cheese Frosting 1/2 tablespoon Baking powder,8 Fresh raspberries,1 cup All Purpose Flour (Maida),1 cup Britannia Cream Cheese,3/4 cup Caster Sugar,1/2 tablespoon Vanilla Extract,1/2 cup Cocoa Powder,1 cup Dark chocolate,1/2 cup Salted butter,1 teaspoon Vanilla Extract,3/4 cup Milk,1/2 teaspoon Baking soda,1/2 cup Sugar 40']\n",
            "Predicted value  ['Continental']\n",
            "Actual value  Continental\n",
            "['Kerala pala pradham recipe 3/4 cup Sugar,2 liter Milk - full cream,1 cup Ada,1/2 teaspoon Cardamom Powder (Elaichi),1 tablespoon Ghee 90']\n",
            "Predicted value  ['North Indian']\n",
            "Actual value  South Indian\n",
            "['Tindora Sambharo Recipe - Instant Tendli Pickle 1 cup Tindora (Dondakaya/ Kovakkai) - finely chopped,Salt - to taste,1 teaspoon Red Chilli powder,1/4 teaspoon Split Methi Seeds (Methi Kuria),Lemon - juice extracted,1/2 teaspoon Split Mustard Seeds (Rai Kuria),1 tablespoon Sunflower Oil,1/4 teaspoon Asafoetida (hing),1/4 teaspoon Turmeric powder (Haldi) 35']\n",
            "Predicted value  ['North Indian']\n",
            "Actual value  North Indian\n",
            "['Chettinad Style Chicken Roast Recipe 1/4 teaspoon Kalonji (Onion Nigella Seeds),1 teaspoon Tamarind Paste,1 teaspoon Ghee,1 tablespoon Ghee,1 teaspoon Jaggery,2 teaspoons Coriander (Dhania) Seeds,1 teaspoon Whole Black Peppercorns,1/4 cup Hung Curd (Greek Yogurt),Salt - to taste,1/2 inch Cinnamon Stick (Dalchini),1 Onion - sliced,1/2 teaspoon Mustard seeds,4 cloves Garlic,1/2 inch Ginger,1/4 teaspoon Methi Seeds (Fenugreek Seeds),2 Cloves (Laung),2 tablespoon Fresh coconut - grated,1/2 teaspoon Turmeric powder (Haldi),2 teaspoon Cumin seeds (Jeera),1 Cardamom (Elaichi) Pods/Seeds,1 teaspoon Fennel seeds (Saunf),2 Dry Red Chillies,1 Chicken legs,1 teaspoon Sunflower Oil,1 sprig Curry leaves 35']\n",
            "Predicted value  ['South Indian']\n",
            "Actual value  South Indian\n"
          ]
        }
      ],
      "source": [
        "from sklearn.preprocessing import LabelEncoder\n",
        "\n",
        "# Initialize the LabelEncoder\n",
        "label_encoder = LabelEncoder()\n",
        "y = label_encoder.fit_transform(df['Cuisine_x'])\n",
        "\n",
        "X_train, X_test, y_train, y_test = train_test_split(text_data, y, test_size=0.2, random_state=42)\n",
        "\n",
        "# Initialize TF-IDF vectorizer\n",
        "tfidf_vectorizer = TfidfVectorizer()\n",
        "\n",
        "# Fit and transform on training data, transform testing data\n",
        "X_train_tfidf = tfidf_vectorizer.fit_transform(X_train)\n",
        "X_test_tfidf = tfidf_vectorizer.transform(X_test)\n",
        "\n",
        "model = LogisticRegression()\n",
        "model.fit(X_train_tfidf, y_train)\n",
        "\n",
        "y_pred = model.predict(X_test_tfidf)\n",
        "\n",
        "# Evaluate model\n",
        "accuracy = accuracy_score(y_test, y_pred)\n",
        "print(\"Accuracy:\", accuracy)\n",
        "\n",
        "\n",
        "for i in range(1,20):\n",
        "  itemname=str(df.iloc[i:i+1,0:1].values[0, 0])\n",
        "  ingredients=str(df.iloc[i:i+1,1:2].values[0, 0])\n",
        "  instructions=str(df.iloc[i:i+1,2:3].values[0, 0])\n",
        "  text=[itemname+' '+ingredients+' '+instructions]\n",
        "  print(text)\n",
        "  text_transformed=tfidf_vectorizer.transform(text)\n",
        "  print(\"Predicted value \",label_encoder.inverse_transform(model.predict(text_transformed)))\n",
        "  print(\"Actual value \",df.iloc[i:i+1,3:4].values[0,0])\n"
      ]
    },
    {
      "cell_type": "code",
      "execution_count": 36,
      "metadata": {
        "colab": {
          "base_uri": "https://localhost:8080/"
        },
        "id": "oSyLeWf0TiKI",
        "outputId": "1c533512-a7cd-4b62-a24d-b2f0bd0ebb21"
      },
      "outputs": [
        {
          "data": {
            "text/plain": [
              "array(['Main', 'Breakfast', 'Side', 'Appetizer', 'Dessert', 'Salad',\n",
              "       'Bread', 'Snack', 'Soup', 'Beverage', 'Spice', 'Sauce',\n",
              "       'Condiment', 'Side Dish', 'Main Dish', 'Sandwich', 'Dip',\n",
              "       'Main Course', 'Base', 'Snack/Dessert', 'Dessert/Snack',\n",
              "       'Dip/Snack', 'Snack/Lunch', 'Snack/Breakfast', 'Spice Mix'],\n",
              "      dtype=object)"
            ]
          },
          "execution_count": 36,
          "metadata": {},
          "output_type": "execute_result"
        }
      ],
      "source": [
        "df['Course'].unique()"
      ]
    },
    {
      "cell_type": "code",
      "execution_count": 37,
      "metadata": {
        "colab": {
          "base_uri": "https://localhost:8080/"
        },
        "id": "dV828UKNTp0k",
        "outputId": "b8f2701d-8474-48e1-92d3-a95ae207bf01"
      },
      "outputs": [
        {
          "data": {
            "text/plain": [
              "Main Dish          637\n",
              "Main               420\n",
              "Dessert            398\n",
              "Snack              326\n",
              "Main Course        276\n",
              "Side Dish          206\n",
              "Breakfast          202\n",
              "Appetizer          126\n",
              "Salad               93\n",
              "Condiment           81\n",
              "Soup                79\n",
              "Side                78\n",
              "Beverage            76\n",
              "Bread               57\n",
              "Sauce                8\n",
              "Dip                  5\n",
              "Spice                4\n",
              "Sandwich             3\n",
              "Dip/Snack            3\n",
              "Snack/Dessert        2\n",
              "Dessert/Snack        2\n",
              "Snack/Breakfast      2\n",
              "Spice Mix            2\n",
              "Base                 1\n",
              "Snack/Lunch          1\n",
              "Name: Course, dtype: int64"
            ]
          },
          "execution_count": 37,
          "metadata": {},
          "output_type": "execute_result"
        }
      ],
      "source": [
        "df['Course'].value_counts()"
      ]
    },
    {
      "cell_type": "code",
      "execution_count": 38,
      "metadata": {
        "id": "o5HvYmPtVEqW"
      },
      "outputs": [],
      "source": [
        "Main=['Main Dish','Main']\n",
        "Side=['Side Dish','Side']\n",
        "Condiment=['Condiment','Sauce','Dip','Spice','Dip/Snack','Spice Mix','Base']\n",
        "Snack=['Snack','Snack/Lunch','Dessert/Snack','Snack/Dessert','Sandwich']"
      ]
    },
    {
      "cell_type": "code",
      "execution_count": 39,
      "metadata": {
        "id": "dHoQXpjpVOmC"
      },
      "outputs": [],
      "source": [
        "categories = {\n",
        "    'Main': ['Main Dish', 'Main'],\n",
        "    'Side': ['Side Dish', 'Side','Bread'],\n",
        "    'Condiment': ['Condiment', 'Sauce', 'Dip', 'Spice', 'Dip/Snack', 'Spice Mix', 'Base'],\n",
        "    'Snack': ['Snack', 'Snack/Lunch', 'Dessert/Snack', 'Snack/Dessert', 'Sandwich','Snack/Breakfast'],\n",
        "    'Appetizer':['Appetizer','Soup']\n",
        "}\n",
        "\n",
        "# Perform replacements\n",
        "for category, items in categories.items():\n",
        "    for item in items:\n",
        "        df['Course'] = df['Course'].replace({item: category})"
      ]
    },
    {
      "cell_type": "code",
      "execution_count": 40,
      "metadata": {
        "colab": {
          "base_uri": "https://localhost:8080/"
        },
        "id": "bqlqgfLyVQdl",
        "outputId": "8e447de4-5f2e-4927-ea49-14de28cb52c3"
      },
      "outputs": [
        {
          "data": {
            "text/plain": [
              "Main           1057\n",
              "Dessert         398\n",
              "Side            341\n",
              "Snack           336\n",
              "Main Course     276\n",
              "Appetizer       205\n",
              "Breakfast       202\n",
              "Condiment       104\n",
              "Salad            93\n",
              "Beverage         76\n",
              "Name: Course, dtype: int64"
            ]
          },
          "execution_count": 40,
          "metadata": {},
          "output_type": "execute_result"
        }
      ],
      "source": [
        "df['Course'].value_counts()"
      ]
    },
    {
      "cell_type": "code",
      "execution_count": 41,
      "metadata": {
        "colab": {
          "base_uri": "https://localhost:8080/"
        },
        "id": "HJRwLw8mV4mk",
        "outputId": "f41c71a3-3428-4230-8d39-928e57bec879"
      },
      "outputs": [
        {
          "name": "stdout",
          "output_type": "stream",
          "text": [
            "Accuracy: 0.5647249190938511\n",
            "['Spicy Tomato Rice (Recipe)  2 teaspoon cashew - or peanuts, 1/2 Teaspoon mustard, 1 dry red chilli, 1 teaspoon white urad dal, 1 teaspoon chickpea lentils, salt - as per taste, 1 green chilli, 1-1 / 2 tablespoon oil - 1/2 teaspoon asafoetida, 1/2 teaspoon cumin seeds, 3 teaspoons BC Belle Bhat powder,2-1 / 2 cups rice - cooked, 3 tomatoes 15']\n",
            "Predicted value  ['Main']\n",
            "Actual value  Main\n",
            "['Udupi Style Ash Gourd Coconut Curry Recipe 4 Dry Red Chillies,1/2 teaspoon Turmeric powder (Haldi),1/2 teaspoon Mustard seeds,1 Dry Red Chillies,Sunflower Oil - for cooking,Salt - to taste,30 grams Tamarind Water,1 cup Tamarind Water,1/2 cup Fresh coconut - grated,2 sprig Curry leaves - roughly torn,500 grams Vellai Poosanikai (Ash gourd/White Pumpkin),1/2 teaspoon Methi Seeds (Fenugreek Seeds),2 teaspoons Sesame seeds (Til seeds),1 teaspoon Sunflower Oil,3 tablespoons Jaggery,2 teaspoons Coriander (Dhania) Seeds,1/2 teaspoon Cumin seeds (Jeera) 40']\n",
            "Predicted value  ['Main']\n",
            "Actual value  Main\n",
            "['Mexican Style Black Bean Burrito Recipe 6 to 8 Spinach Leaves (Palak),1/4 cup Black beans - soaked overnight and  cooked,4 tablespoons Cheddar cheese,1 Onion - chopped,2 cloves Garlic - chopped,1 cup Rice - or brown rice,2 sprig Coriander (Dhania) Leaves,1 Lemon juice,4 tablespoon Hung Curd (Greek Yogurt),4 Spring Onion Greens - chopped,1 Tomato - chopped,4 Tortillas 40']\n",
            "Predicted value  ['Main']\n",
            "Actual value  Main\n",
            "['Spicy Crunchy Masala Idli Recipe Mint Leaves (Pudina) - to taste,1/2 teaspoon Turmeric powder (Haldi),3 tablespoons Tomato Ketchup,2 teaspoons Sunflower Oil,1 cup Tomato - finely chopped,Coriander (Dhania) Leaves - to taste,Salt - to taste,2 Green Chillies - finely chopped,1 cup Green Bell Pepper (Capsicum) - thinly sliced,10 Idli - cut into strips,1/4 teaspoon Red Chilli powder,1 cup Onions - finely chopped 30']\n",
            "Predicted value  ['Main']\n",
            "Actual value  Breakfast\n",
            "['Cauliflower Leaves Chutney (Recipe in Hindi)  3 cloves garlic, 1 big Spoon oil, 2 tablespoons white urad dal, 1 teaspoon Rye,1 cup cabbage leaves, turmeric powder - a pinch, asafoetida - a pinch, 1/2 teaspoon Cumin seeds, 18 grams tamarind, salt - as per taste, 3/4 cup tomatoes, 1 sprig Curry leaves, 4 red chillies 25']\n",
            "Predicted value  ['Side']\n",
            "Actual value  Side\n",
            "['Veg Chili Cheese Burgers Recipe 1 tablespoon Tabasco Original - Hot Sauce,5 Pickled Jalapenos - sliced,1 Onion - chopped,1 Whole Egg,1 teaspoon Red Chilli flakes,1 tablespoon Red Chilli powder,1 Onions - chopped,Salt - to taste,2 Cheese Slices,2 Burger buns,2 Potatoes (Aloo) - pressure cooked,4 cloves Garlic - chopped,1 tablespoon Dried oregano,1 cup Homemade tomato puree,2 Tomatoes - chopped,1/2 cup Soy granules,1 Green Bell Pepper (Capsicum) - chopped,1/2 cup Whole Wheat Bread crumbs,1 teaspoon Honey,1 tablespoon Cumin powder (Jeera),Sunflower Oil 55']\n",
            "Predicted value  ['Main']\n",
            "Actual value  Main\n",
            "['Saunf Aloo (Fennel Potato Curry) Recipe 1/4 cup Fresh cream - or 1/2 cup milk,5 Potatoes (Aloo) - halved with skin,2 teaspoon Fennel seeds (Saunf) - crushed,4 sprig Coriander (Dhania) Leaves - finely chopped,1 teaspoon Turmeric powder (Haldi),2 teaspoon Red Chilli powder 25']\n",
            "Predicted value  ['Main']\n",
            "Actual value  Main\n",
            "['Hariyali Egg Curry Recipe In Coriander and Mint Gravy 2 cups Coriander (Dhania) Leaves - tightly packed,4 cloves Garlic,1 inch Ginger - chopped,1 teaspoon Garam masala powder,1 Cinnamon Stick (Dalchini) - small,2 Green Chillies - chopped,1 Onion - roughly chopped,1 tablespoon Sunflower Oil,2 Cloves (Laung),1 Bay leaf (tej patta),4 Whole Eggs - boiled,2 tablespoons Fresh cream,1 cup Mint Leaves (Pudina) - chopped,2 teaspoons Coriander Powder (Dhania) 35']\n",
            "Predicted value  ['Main']\n",
            "Actual value  Main\n",
            "['Homemade Tater Tots Recipe 10 Potatoes (Aloo),1 teaspoon Garlic powder,Salt - to taste,Sunflower Oil - for deep frying the tater tots,1 tablespoon Coriander (Dhania) Leaves - finely chopped,1 teaspoon Red Chilli flakes,2 tablespoon All Purpose Flour (Maida),1 teaspoon Onion powder,1 tablespoon Rice flour,1 teaspoon Dried oregano 60']\n",
            "Predicted value  ['Snack']\n",
            "Actual value  Side\n",
            "['Homemade Healthy Subway Sandwich Recipe With Beet & Sprout 2 Tomatoes - thinly sliced,1 Beetroot - grated,1/2 cup Hung Curd (Greek Yogurt),2 Submarine Bread (Subway Bread) - (flat breads or foot longs),2 cloves Garlic - grated,Tabasco Original - Hot Sauce - to taste,Salt and Pepper - to taste,2 Stalks Spring Onion (Bulb & Greens) - finely chopped,1/2 cup Green Moong Sprouts,2 tablespoon Coriander (Dhania) Leaves - finely chopped 30']\n",
            "Predicted value  ['Main']\n",
            "Actual value  Main\n",
            "['Mini Dal Samosa Curry / Sabzi Recipe 6 Whole Black Peppercorns,1 teaspoon Coriander Powder (Dhania),1 Mace (Javitri),2 tablespoons Sunflower Oil,2 Tomato - roughly chopped,15 Cashew nuts,1 Green Chilli,3 Cardamom (Elaichi) Pods/Seeds,1/2 teaspoon Sugar,1 Onion - roughly chopped,1/2 inch Cinnamon Stick (Dalchini),1/2 inch Ginger,1/2 teaspoon Kasuri Methi (Dried Fenugreek Leaves),1 Black cardamom (Badi Elaichi),1/2 teaspoon Turmeric powder (Haldi),6 Samosas - mini,1/2 teaspoon Garam masala powder,1/2 teaspoon Kashmiri Red Chilli Powder,1 Bay leaf (tej patta),1 tablespoon Fresh cream,3 cloves Cloves (Laung) 35']\n",
            "Predicted value  ['Main']\n",
            "Actual value  Main\n",
            "['Spinach Garlic Bruschetta Recipe With Red Bell Pepper Sauce 1 cup Cheddar cheese - grated,1 Baguette - sliced,Salt - to taste,1 Tomato - finely chopped,1 tablespoon Roasted tomato pasta sauce,1 1/2 tablespoon Butter,1 Red Bell pepper (Capsicum) - (optional,1 teaspoon Fresh cream,1 cup Spinach Leaves (Palak),1/2 tablespoon Garlic - minced,1 tablespoon Black pepper powder - adjust,1 tablespoon Italian seasoning,1 Onion - finely chopped (optional) 30']\n",
            "Predicted value  ['Main']\n",
            "Actual value  Appetizer\n",
            "['Asian Style Sweet & Spicy Green Beans Recipe 2 tablespoons Rice Wine Vinegar,1/4 cup Roasted Peanuts (Moongphali),1 tablespoon Soy sauce,Salt - to taste,1 Lemon - juice,2 tablespoons Thai Sweet Chilli Sauce,300 grams Green beans (French Beans) - cut into half,3 cloves Garlic - finely chopped,1 tablespoon Sesame (Gingelly) Oil 25']\n",
            "Predicted value  ['Main']\n",
            "Actual value  Side\n",
            "['Chinese Darsaan Recipe With Ice Cream Water - to make the dough,2 tablespoon Sugar,2 tablespoons Water,1/2 teaspoon Vanilla Extract,1 tablespoon Sunflower Oil,2 tablespoons Honey,1/4 teaspoon Baking powder,1 tablespoon Sesame seeds (Til seeds) - white,All Purpose Flour (Maida),Sunflower Oil - to deep fry 40']\n",
            "Predicted value  ['Snack']\n",
            "Actual value  Dessert\n",
            "['Cabbage, Spinach, Pomegranate Slaw with Lemon Dressing Recipe 1 cup Fresh Pomegranate Fruit Kernels,2 Lemon juice,2 tablespoons Extra Virgin Olive Oil,Salt and Pepper - to taste,1 cup Spinach - shredded,1 cup Cabbage (Patta Gobi/ Muttaikose) - shredded 15']\n",
            "Predicted value  ['Salad']\n",
            "Actual value  Salad\n",
            "['Eggless Chocolate Cupcakes With Raspberry & Cheese Frosting 1/2 tablespoon Baking powder,8 Fresh raspberries,1 cup All Purpose Flour (Maida),1 cup Britannia Cream Cheese,3/4 cup Caster Sugar,1/2 tablespoon Vanilla Extract,1/2 cup Cocoa Powder,1 cup Dark chocolate,1/2 cup Salted butter,1 teaspoon Vanilla Extract,3/4 cup Milk,1/2 teaspoon Baking soda,1/2 cup Sugar 40']\n",
            "Predicted value  ['Dessert']\n",
            "Actual value  Dessert\n",
            "['Kerala pala pradham recipe 3/4 cup Sugar,2 liter Milk - full cream,1 cup Ada,1/2 teaspoon Cardamom Powder (Elaichi),1 tablespoon Ghee 90']\n",
            "Predicted value  ['Dessert']\n",
            "Actual value  Dessert\n",
            "['Tindora Sambharo Recipe - Instant Tendli Pickle 1 cup Tindora (Dondakaya/ Kovakkai) - finely chopped,Salt - to taste,1 teaspoon Red Chilli powder,1/4 teaspoon Split Methi Seeds (Methi Kuria),Lemon - juice extracted,1/2 teaspoon Split Mustard Seeds (Rai Kuria),1 tablespoon Sunflower Oil,1/4 teaspoon Asafoetida (hing),1/4 teaspoon Turmeric powder (Haldi) 35']\n",
            "Predicted value  ['Side']\n",
            "Actual value  Side\n",
            "['Chettinad Style Chicken Roast Recipe 1/4 teaspoon Kalonji (Onion Nigella Seeds),1 teaspoon Tamarind Paste,1 teaspoon Ghee,1 tablespoon Ghee,1 teaspoon Jaggery,2 teaspoons Coriander (Dhania) Seeds,1 teaspoon Whole Black Peppercorns,1/4 cup Hung Curd (Greek Yogurt),Salt - to taste,1/2 inch Cinnamon Stick (Dalchini),1 Onion - sliced,1/2 teaspoon Mustard seeds,4 cloves Garlic,1/2 inch Ginger,1/4 teaspoon Methi Seeds (Fenugreek Seeds),2 Cloves (Laung),2 tablespoon Fresh coconut - grated,1/2 teaspoon Turmeric powder (Haldi),2 teaspoon Cumin seeds (Jeera),1 Cardamom (Elaichi) Pods/Seeds,1 teaspoon Fennel seeds (Saunf),2 Dry Red Chillies,1 Chicken legs,1 teaspoon Sunflower Oil,1 sprig Curry leaves 35']\n",
            "Predicted value  ['Main']\n",
            "Actual value  Main\n"
          ]
        }
      ],
      "source": [
        "from sklearn.preprocessing import LabelEncoder\n",
        "\n",
        "# Initialize the LabelEncoder\n",
        "label_encoder = LabelEncoder()\n",
        "y = label_encoder.fit_transform(df['Course'])\n",
        "\n",
        "X_train, X_test, y_train, y_test = train_test_split(text_data, y, test_size=0.2, random_state=42)\n",
        "\n",
        "# Initialize TF-IDF vectorizer\n",
        "tfidf_vectorizer = TfidfVectorizer()\n",
        "\n",
        "# Fit and transform on training data, transform testing data\n",
        "X_train_tfidf = tfidf_vectorizer.fit_transform(X_train)\n",
        "X_test_tfidf = tfidf_vectorizer.transform(X_test)\n",
        "\n",
        "model = LogisticRegression()\n",
        "model.fit(X_train_tfidf, y_train)\n",
        "\n",
        "y_pred = model.predict(X_test_tfidf)\n",
        "\n",
        "# Evaluate model\n",
        "accuracy = accuracy_score(y_test, y_pred)\n",
        "print(\"Accuracy:\", accuracy)\n",
        "\n",
        "\n",
        "for i in range(1, 20):\n",
        "    itemname = str(df.iloc[i:i+1, 0:1].values[0, 0])\n",
        "    ingredients = str(df.iloc[i:i+1, 1:2].values[0, 0])\n",
        "    instructions = str(df.iloc[i:i+1, 2:3].values[0, 0])\n",
        "    text = [itemname + ' ' + ingredients + ' ' + instructions]\n",
        "    print(text)\n",
        "    text_transformed = tfidf_vectorizer.transform(text)\n",
        "    print(\"Predicted value \", label_encoder.inverse_transform(model.predict(text_transformed)))\n",
        "    print(\"Actual value \", df.iloc[i:i+1, 10:11].values[0, 0])\n"
      ]
    },
    {
      "cell_type": "code",
      "execution_count": 42,
      "metadata": {
        "colab": {
          "base_uri": "https://localhost:8080/",
          "height": 170
        },
        "id": "VaYb5miBWxNx",
        "outputId": "ca483a1b-d9c0-47cb-f62a-49374f6ba9dd"
      },
      "outputs": [
        {
          "data": {
            "text/html": [
              "<div>\n",
              "<style scoped>\n",
              "    .dataframe tbody tr th:only-of-type {\n",
              "        vertical-align: middle;\n",
              "    }\n",
              "\n",
              "    .dataframe tbody tr th {\n",
              "        vertical-align: top;\n",
              "    }\n",
              "\n",
              "    .dataframe thead th {\n",
              "        text-align: right;\n",
              "    }\n",
              "</style>\n",
              "<table border=\"1\" class=\"dataframe\">\n",
              "  <thead>\n",
              "    <tr style=\"text-align: right;\">\n",
              "      <th></th>\n",
              "      <th>Item Name</th>\n",
              "      <th>TranslatedIngredients</th>\n",
              "      <th>TotalTimeInMins</th>\n",
              "      <th>Cuisine_x</th>\n",
              "      <th>TranslatedInstructions</th>\n",
              "      <th>URL</th>\n",
              "      <th>Cleaned-Ingredients</th>\n",
              "      <th>image-url</th>\n",
              "      <th>Ingredient-count</th>\n",
              "      <th>Cuisine_y</th>\n",
              "      <th>Course</th>\n",
              "      <th>Nutritional Profile</th>\n",
              "      <th>Preparation Method</th>\n",
              "      <th>Spiciness Level</th>\n",
              "      <th>Vegan/Vegetarian/Contains-Egg/Non-Veg</th>\n",
              "      <th>Allergens</th>\n",
              "      <th>Flavor Profile</th>\n",
              "      <th>Dietary Restrictions</th>\n",
              "    </tr>\n",
              "  </thead>\n",
              "  <tbody>\n",
              "    <tr>\n",
              "      <th>0</th>\n",
              "      <td>Masala Karela Recipe</td>\n",
              "      <td>1 tablespoon Red Chilli powder,3 tablespoon Gr...</td>\n",
              "      <td>45</td>\n",
              "      <td>Indian</td>\n",
              "      <td>1 tablespoon Red Chilli powder,3 tablespoon Gr...</td>\n",
              "      <td>https://www.archanaskitchen.com/masala-karela-...</td>\n",
              "      <td>salt,amchur (dry mango powder),karela (bitter ...</td>\n",
              "      <td>https://www.archanaskitchen.com/images/archana...</td>\n",
              "      <td>10</td>\n",
              "      <td>Indian</td>\n",
              "      <td>Main</td>\n",
              "      <td>[Low Carb, High Fiber]</td>\n",
              "      <td>[Stir-Fry]</td>\n",
              "      <td>Spicy</td>\n",
              "      <td>Vegetarian</td>\n",
              "      <td>None</td>\n",
              "      <td>[Bitter, Spicy]</td>\n",
              "      <td>[Diabetic Friendly, Vegan]</td>\n",
              "    </tr>\n",
              "  </tbody>\n",
              "</table>\n",
              "</div>"
            ],
            "text/plain": [
              "              Item Name                              TranslatedIngredients  \\\n",
              "0  Masala Karela Recipe  1 tablespoon Red Chilli powder,3 tablespoon Gr...   \n",
              "\n",
              "   TotalTimeInMins Cuisine_x  \\\n",
              "0               45    Indian   \n",
              "\n",
              "                              TranslatedInstructions  \\\n",
              "0  1 tablespoon Red Chilli powder,3 tablespoon Gr...   \n",
              "\n",
              "                                                 URL  \\\n",
              "0  https://www.archanaskitchen.com/masala-karela-...   \n",
              "\n",
              "                                 Cleaned-Ingredients  \\\n",
              "0  salt,amchur (dry mango powder),karela (bitter ...   \n",
              "\n",
              "                                           image-url  Ingredient-count  \\\n",
              "0  https://www.archanaskitchen.com/images/archana...                10   \n",
              "\n",
              "  Cuisine_y Course     Nutritional Profile Preparation Method Spiciness Level  \\\n",
              "0    Indian   Main  [Low Carb, High Fiber]         [Stir-Fry]           Spicy   \n",
              "\n",
              "  Vegan/Vegetarian/Contains-Egg/Non-Veg Allergens   Flavor Profile  \\\n",
              "0                            Vegetarian      None  [Bitter, Spicy]   \n",
              "\n",
              "         Dietary Restrictions  \n",
              "0  [Diabetic Friendly, Vegan]  "
            ]
          },
          "execution_count": 42,
          "metadata": {},
          "output_type": "execute_result"
        }
      ],
      "source": [
        "df.head(1)"
      ]
    },
    {
      "cell_type": "markdown",
      "metadata": {},
      "source": []
    },
    {
      "cell_type": "code",
      "execution_count": 43,
      "metadata": {
        "colab": {
          "base_uri": "https://localhost:8080/"
        },
        "id": "DQhiV78azob-",
        "outputId": "0bcdce25-b103-4df0-f9ca-18fd27237549"
      },
      "outputs": [
        {
          "data": {
            "text/plain": [
              "['Bitter', 'Spicy']"
            ]
          },
          "execution_count": 43,
          "metadata": {},
          "output_type": "execute_result"
        }
      ],
      "source": [
        "df['Flavor Profile'][0]"
      ]
    },
    {
      "cell_type": "code",
      "execution_count": 44,
      "metadata": {
        "colab": {
          "base_uri": "https://localhost:8080/"
        },
        "id": "A4a1s-kFz48O",
        "outputId": "72b8edd9-d6f5-4f98-8745-c4f203f75c4d"
      },
      "outputs": [
        {
          "name": "stdout",
          "output_type": "stream",
          "text": [
            "Categories with counts less than 30: 333\n"
          ]
        }
      ],
      "source": [
        "# Assuming 'df' is your DataFrame and 'Flavor Profile' is the column name\n",
        "\n",
        "# Explode the lists into separate rows\n",
        "df_exploded = df.explode('Flavor Profile')\n",
        "\n",
        "# Calculate value counts for each category\n",
        "value_counts = df_exploded['Flavor Profile'].value_counts()\n",
        "\n",
        "# Initialize a list to store categories with counts less than 30\n",
        "categories_less_than_30 = []+['Healthy','Flavorful','Aromatic','Comforting','Refreshing','Soft','Mild','Coconutty','Regional','Cheesy','Refreshing','Fruity','Rich','Chocolatey','Fresh']\n",
        "\n",
        "\n",
        "# Iterate over the value counts\n",
        "for category, count in value_counts.items():\n",
        "    if count < 30:\n",
        "        categories_less_than_30.append(category)\n",
        "        categories_less_than_30.append(' '+category)\n",
        "\n",
        "print(\"Categories with counts less than 30:\", len(categories_less_than_30))\n"
      ]
    },
    {
      "cell_type": "code",
      "execution_count": 45,
      "metadata": {
        "id": "ogUunwnq1ur8"
      },
      "outputs": [],
      "source": [
        "# Iterate over each row in the 'Flavor Profile' column\n",
        "for index, row in df.iterrows():\n",
        "    if 'Protein Rich' in row['Flavor Profile']:\n",
        "        # Remove 'Protein Rich' from the list and append 'Protein-Rich'\n",
        "        row['Flavor Profile'].remove('Protein Rich')\n",
        "        row['Flavor Profile'].append('Protein-rich')\n",
        "    if 'Spiced' in row['Flavor Profile']:\n",
        "        # Remove 'Protein Rich' from the list and append 'Protein-Rich'\n",
        "        row['Flavor Profile'].remove('Spiced')\n",
        "        row['Flavor Profile'].append('Spicy')\n",
        "    # Check if the row contains any of the items to remove\n",
        "    for item in categories_less_than_30:\n",
        "        if item in row['Flavor Profile']:\n",
        "            # Remove the item from the list\n",
        "            row['Flavor Profile'].remove(item)\n"
      ]
    },
    {
      "cell_type": "code",
      "execution_count": 46,
      "metadata": {
        "colab": {
          "base_uri": "https://localhost:8080/"
        },
        "id": "cYrkF0rZ0deC",
        "outputId": "294caade-a7e4-4d18-aa71-97743d9fd964"
      },
      "outputs": [
        {
          "data": {
            "text/plain": [
              "Spicy            1378\n",
              "Sweet             488\n",
              "Tangy             473\n",
              "Savory            347\n",
              "Creamy            308\n",
              "Nutty             243\n",
              "Crunchy           136\n",
              "Crispy            106\n",
              "Protein-rich      104\n",
              "Nutrient-rich      81\n",
              "Name: Flavor Profile, dtype: int64"
            ]
          },
          "execution_count": 46,
          "metadata": {},
          "output_type": "execute_result"
        }
      ],
      "source": [
        "df_exploded = df.explode('Flavor Profile')\n",
        "\n",
        "# Calculate value counts for each category\n",
        "value_counts = df_exploded['Flavor Profile'].value_counts()\n",
        "value_counts"
      ]
    },
    {
      "cell_type": "code",
      "execution_count": 47,
      "metadata": {
        "id": "SwkiQxJhCNqq"
      },
      "outputs": [],
      "source": [
        "y=df[['Flavor Profile']]"
      ]
    },
    {
      "cell_type": "code",
      "execution_count": 48,
      "metadata": {
        "colab": {
          "base_uri": "https://localhost:8080/"
        },
        "id": "32-JOm7tCGlQ",
        "outputId": "8e1bfe8e-1057-4d8f-ecba-39cf9b0a9932"
      },
      "outputs": [
        {
          "name": "stderr",
          "output_type": "stream",
          "text": [
            "/var/folders/n5/vm862s_n5p751f9xypymdzw40000gn/T/ipykernel_96871/1765656977.py:7: SettingWithCopyWarning: \n",
            "A value is trying to be set on a copy of a slice from a DataFrame.\n",
            "Try using .loc[row_indexer,col_indexer] = value instead\n",
            "\n",
            "See the caveats in the documentation: https://pandas.pydata.org/pandas-docs/stable/user_guide/indexing.html#returning-a-view-versus-a-copy\n",
            "  y[category] = y['Flavor Profile'].apply(lambda x: 1 if category in x else 0)\n",
            "/var/folders/n5/vm862s_n5p751f9xypymdzw40000gn/T/ipykernel_96871/1765656977.py:7: SettingWithCopyWarning: \n",
            "A value is trying to be set on a copy of a slice from a DataFrame.\n",
            "Try using .loc[row_indexer,col_indexer] = value instead\n",
            "\n",
            "See the caveats in the documentation: https://pandas.pydata.org/pandas-docs/stable/user_guide/indexing.html#returning-a-view-versus-a-copy\n",
            "  y[category] = y['Flavor Profile'].apply(lambda x: 1 if category in x else 0)\n",
            "/var/folders/n5/vm862s_n5p751f9xypymdzw40000gn/T/ipykernel_96871/1765656977.py:7: SettingWithCopyWarning: \n",
            "A value is trying to be set on a copy of a slice from a DataFrame.\n",
            "Try using .loc[row_indexer,col_indexer] = value instead\n",
            "\n",
            "See the caveats in the documentation: https://pandas.pydata.org/pandas-docs/stable/user_guide/indexing.html#returning-a-view-versus-a-copy\n",
            "  y[category] = y['Flavor Profile'].apply(lambda x: 1 if category in x else 0)\n",
            "/var/folders/n5/vm862s_n5p751f9xypymdzw40000gn/T/ipykernel_96871/1765656977.py:7: SettingWithCopyWarning: \n",
            "A value is trying to be set on a copy of a slice from a DataFrame.\n",
            "Try using .loc[row_indexer,col_indexer] = value instead\n",
            "\n",
            "See the caveats in the documentation: https://pandas.pydata.org/pandas-docs/stable/user_guide/indexing.html#returning-a-view-versus-a-copy\n",
            "  y[category] = y['Flavor Profile'].apply(lambda x: 1 if category in x else 0)\n",
            "/var/folders/n5/vm862s_n5p751f9xypymdzw40000gn/T/ipykernel_96871/1765656977.py:7: SettingWithCopyWarning: \n",
            "A value is trying to be set on a copy of a slice from a DataFrame.\n",
            "Try using .loc[row_indexer,col_indexer] = value instead\n",
            "\n",
            "See the caveats in the documentation: https://pandas.pydata.org/pandas-docs/stable/user_guide/indexing.html#returning-a-view-versus-a-copy\n",
            "  y[category] = y['Flavor Profile'].apply(lambda x: 1 if category in x else 0)\n",
            "/var/folders/n5/vm862s_n5p751f9xypymdzw40000gn/T/ipykernel_96871/1765656977.py:7: SettingWithCopyWarning: \n",
            "A value is trying to be set on a copy of a slice from a DataFrame.\n",
            "Try using .loc[row_indexer,col_indexer] = value instead\n",
            "\n",
            "See the caveats in the documentation: https://pandas.pydata.org/pandas-docs/stable/user_guide/indexing.html#returning-a-view-versus-a-copy\n",
            "  y[category] = y['Flavor Profile'].apply(lambda x: 1 if category in x else 0)\n",
            "/var/folders/n5/vm862s_n5p751f9xypymdzw40000gn/T/ipykernel_96871/1765656977.py:7: SettingWithCopyWarning: \n",
            "A value is trying to be set on a copy of a slice from a DataFrame.\n",
            "Try using .loc[row_indexer,col_indexer] = value instead\n",
            "\n",
            "See the caveats in the documentation: https://pandas.pydata.org/pandas-docs/stable/user_guide/indexing.html#returning-a-view-versus-a-copy\n",
            "  y[category] = y['Flavor Profile'].apply(lambda x: 1 if category in x else 0)\n",
            "/var/folders/n5/vm862s_n5p751f9xypymdzw40000gn/T/ipykernel_96871/1765656977.py:7: SettingWithCopyWarning: \n",
            "A value is trying to be set on a copy of a slice from a DataFrame.\n",
            "Try using .loc[row_indexer,col_indexer] = value instead\n",
            "\n",
            "See the caveats in the documentation: https://pandas.pydata.org/pandas-docs/stable/user_guide/indexing.html#returning-a-view-versus-a-copy\n",
            "  y[category] = y['Flavor Profile'].apply(lambda x: 1 if category in x else 0)\n",
            "/var/folders/n5/vm862s_n5p751f9xypymdzw40000gn/T/ipykernel_96871/1765656977.py:7: SettingWithCopyWarning: \n",
            "A value is trying to be set on a copy of a slice from a DataFrame.\n",
            "Try using .loc[row_indexer,col_indexer] = value instead\n",
            "\n",
            "See the caveats in the documentation: https://pandas.pydata.org/pandas-docs/stable/user_guide/indexing.html#returning-a-view-versus-a-copy\n",
            "  y[category] = y['Flavor Profile'].apply(lambda x: 1 if category in x else 0)\n",
            "/var/folders/n5/vm862s_n5p751f9xypymdzw40000gn/T/ipykernel_96871/1765656977.py:7: SettingWithCopyWarning: \n",
            "A value is trying to be set on a copy of a slice from a DataFrame.\n",
            "Try using .loc[row_indexer,col_indexer] = value instead\n",
            "\n",
            "See the caveats in the documentation: https://pandas.pydata.org/pandas-docs/stable/user_guide/indexing.html#returning-a-view-versus-a-copy\n",
            "  y[category] = y['Flavor Profile'].apply(lambda x: 1 if category in x else 0)\n"
          ]
        },
        {
          "data": {
            "text/html": [
              "<div>\n",
              "<style scoped>\n",
              "    .dataframe tbody tr th:only-of-type {\n",
              "        vertical-align: middle;\n",
              "    }\n",
              "\n",
              "    .dataframe tbody tr th {\n",
              "        vertical-align: top;\n",
              "    }\n",
              "\n",
              "    .dataframe thead th {\n",
              "        text-align: right;\n",
              "    }\n",
              "</style>\n",
              "<table border=\"1\" class=\"dataframe\">\n",
              "  <thead>\n",
              "    <tr style=\"text-align: right;\">\n",
              "      <th></th>\n",
              "      <th>Flavor Profile</th>\n",
              "      <th>Spicy</th>\n",
              "      <th>Sweet</th>\n",
              "      <th>Tangy</th>\n",
              "      <th>Savory</th>\n",
              "      <th>Creamy</th>\n",
              "      <th>Nutty</th>\n",
              "      <th>Crunchy</th>\n",
              "      <th>Crispy</th>\n",
              "      <th>Protein-rich</th>\n",
              "      <th>Nutrient-rich</th>\n",
              "    </tr>\n",
              "  </thead>\n",
              "  <tbody>\n",
              "    <tr>\n",
              "      <th>0</th>\n",
              "      <td>[Spicy]</td>\n",
              "      <td>1</td>\n",
              "      <td>0</td>\n",
              "      <td>0</td>\n",
              "      <td>0</td>\n",
              "      <td>0</td>\n",
              "      <td>0</td>\n",
              "      <td>0</td>\n",
              "      <td>0</td>\n",
              "      <td>0</td>\n",
              "      <td>0</td>\n",
              "    </tr>\n",
              "    <tr>\n",
              "      <th>1</th>\n",
              "      <td>[Spicy, Tangy]</td>\n",
              "      <td>1</td>\n",
              "      <td>0</td>\n",
              "      <td>1</td>\n",
              "      <td>0</td>\n",
              "      <td>0</td>\n",
              "      <td>0</td>\n",
              "      <td>0</td>\n",
              "      <td>0</td>\n",
              "      <td>0</td>\n",
              "      <td>0</td>\n",
              "    </tr>\n",
              "    <tr>\n",
              "      <th>2</th>\n",
              "      <td>[Creamy]</td>\n",
              "      <td>0</td>\n",
              "      <td>0</td>\n",
              "      <td>0</td>\n",
              "      <td>0</td>\n",
              "      <td>1</td>\n",
              "      <td>0</td>\n",
              "      <td>0</td>\n",
              "      <td>0</td>\n",
              "      <td>0</td>\n",
              "      <td>0</td>\n",
              "    </tr>\n",
              "    <tr>\n",
              "      <th>3</th>\n",
              "      <td>[Spicy, Savory]</td>\n",
              "      <td>1</td>\n",
              "      <td>0</td>\n",
              "      <td>0</td>\n",
              "      <td>1</td>\n",
              "      <td>0</td>\n",
              "      <td>0</td>\n",
              "      <td>0</td>\n",
              "      <td>0</td>\n",
              "      <td>0</td>\n",
              "      <td>0</td>\n",
              "    </tr>\n",
              "    <tr>\n",
              "      <th>4</th>\n",
              "      <td>[Spicy, Crunchy]</td>\n",
              "      <td>1</td>\n",
              "      <td>0</td>\n",
              "      <td>0</td>\n",
              "      <td>0</td>\n",
              "      <td>0</td>\n",
              "      <td>0</td>\n",
              "      <td>1</td>\n",
              "      <td>0</td>\n",
              "      <td>0</td>\n",
              "      <td>0</td>\n",
              "    </tr>\n",
              "    <tr>\n",
              "      <th>...</th>\n",
              "      <td>...</td>\n",
              "      <td>...</td>\n",
              "      <td>...</td>\n",
              "      <td>...</td>\n",
              "      <td>...</td>\n",
              "      <td>...</td>\n",
              "      <td>...</td>\n",
              "      <td>...</td>\n",
              "      <td>...</td>\n",
              "      <td>...</td>\n",
              "      <td>...</td>\n",
              "    </tr>\n",
              "    <tr>\n",
              "      <th>3084</th>\n",
              "      <td>[]</td>\n",
              "      <td>0</td>\n",
              "      <td>0</td>\n",
              "      <td>0</td>\n",
              "      <td>0</td>\n",
              "      <td>0</td>\n",
              "      <td>0</td>\n",
              "      <td>0</td>\n",
              "      <td>0</td>\n",
              "      <td>0</td>\n",
              "      <td>0</td>\n",
              "    </tr>\n",
              "    <tr>\n",
              "      <th>3085</th>\n",
              "      <td>[Creamy]</td>\n",
              "      <td>0</td>\n",
              "      <td>0</td>\n",
              "      <td>0</td>\n",
              "      <td>0</td>\n",
              "      <td>1</td>\n",
              "      <td>0</td>\n",
              "      <td>0</td>\n",
              "      <td>0</td>\n",
              "      <td>0</td>\n",
              "      <td>0</td>\n",
              "    </tr>\n",
              "    <tr>\n",
              "      <th>3086</th>\n",
              "      <td>[Tangy, Spicy]</td>\n",
              "      <td>1</td>\n",
              "      <td>0</td>\n",
              "      <td>1</td>\n",
              "      <td>0</td>\n",
              "      <td>0</td>\n",
              "      <td>0</td>\n",
              "      <td>0</td>\n",
              "      <td>0</td>\n",
              "      <td>0</td>\n",
              "      <td>0</td>\n",
              "    </tr>\n",
              "    <tr>\n",
              "      <th>3087</th>\n",
              "      <td>[Savory]</td>\n",
              "      <td>0</td>\n",
              "      <td>0</td>\n",
              "      <td>0</td>\n",
              "      <td>1</td>\n",
              "      <td>0</td>\n",
              "      <td>0</td>\n",
              "      <td>0</td>\n",
              "      <td>0</td>\n",
              "      <td>0</td>\n",
              "      <td>0</td>\n",
              "    </tr>\n",
              "    <tr>\n",
              "      <th>3088</th>\n",
              "      <td>[Spicy, Savory]</td>\n",
              "      <td>1</td>\n",
              "      <td>0</td>\n",
              "      <td>0</td>\n",
              "      <td>1</td>\n",
              "      <td>0</td>\n",
              "      <td>0</td>\n",
              "      <td>0</td>\n",
              "      <td>0</td>\n",
              "      <td>0</td>\n",
              "      <td>0</td>\n",
              "    </tr>\n",
              "  </tbody>\n",
              "</table>\n",
              "<p>3088 rows × 11 columns</p>\n",
              "</div>"
            ],
            "text/plain": [
              "        Flavor Profile  Spicy  Sweet  Tangy  Savory  Creamy  Nutty  Crunchy  \\\n",
              "0              [Spicy]      1      0      0       0       0      0        0   \n",
              "1       [Spicy, Tangy]      1      0      1       0       0      0        0   \n",
              "2             [Creamy]      0      0      0       0       1      0        0   \n",
              "3      [Spicy, Savory]      1      0      0       1       0      0        0   \n",
              "4     [Spicy, Crunchy]      1      0      0       0       0      0        1   \n",
              "...                ...    ...    ...    ...     ...     ...    ...      ...   \n",
              "3084                []      0      0      0       0       0      0        0   \n",
              "3085          [Creamy]      0      0      0       0       1      0        0   \n",
              "3086    [Tangy, Spicy]      1      0      1       0       0      0        0   \n",
              "3087          [Savory]      0      0      0       1       0      0        0   \n",
              "3088   [Spicy, Savory]      1      0      0       1       0      0        0   \n",
              "\n",
              "      Crispy  Protein-rich  Nutrient-rich  \n",
              "0          0             0              0  \n",
              "1          0             0              0  \n",
              "2          0             0              0  \n",
              "3          0             0              0  \n",
              "4          0             0              0  \n",
              "...      ...           ...            ...  \n",
              "3084       0             0              0  \n",
              "3085       0             0              0  \n",
              "3086       0             0              0  \n",
              "3087       0             0              0  \n",
              "3088       0             0              0  \n",
              "\n",
              "[3088 rows x 11 columns]"
            ]
          },
          "execution_count": 48,
          "metadata": {},
          "output_type": "execute_result"
        }
      ],
      "source": [
        "# Define the unique categories\n",
        "unique_categories = ['Spicy', 'Sweet', 'Tangy', 'Savory', 'Creamy', 'Nutty', 'Crunchy', 'Crispy', 'Protein-rich', 'Nutrient-rich']\n",
        "\n",
        "# Iterate over each unique category\n",
        "for category in unique_categories:\n",
        "    # Create a new column for the category\n",
        "    y[category] = y['Flavor Profile'].apply(lambda x: 1 if category in x else 0)\n",
        "\n",
        "# Print the updated DataFrame\n",
        "y\n"
      ]
    },
    {
      "cell_type": "code",
      "execution_count": 49,
      "metadata": {
        "colab": {
          "base_uri": "https://localhost:8080/"
        },
        "id": "5xHjlxVoDSbd",
        "outputId": "51b3346b-1ba7-4c4d-d74b-9c7b0ed81056"
      },
      "outputs": [
        {
          "name": "stderr",
          "output_type": "stream",
          "text": [
            "/var/folders/n5/vm862s_n5p751f9xypymdzw40000gn/T/ipykernel_96871/238365582.py:1: SettingWithCopyWarning: \n",
            "A value is trying to be set on a copy of a slice from a DataFrame\n",
            "\n",
            "See the caveats in the documentation: https://pandas.pydata.org/pandas-docs/stable/user_guide/indexing.html#returning-a-view-versus-a-copy\n",
            "  y.drop('Flavor Profile',axis=1,inplace=True)\n"
          ]
        }
      ],
      "source": [
        "y.drop('Flavor Profile',axis=1,inplace=True)"
      ]
    },
    {
      "cell_type": "code",
      "execution_count": 50,
      "metadata": {
        "colab": {
          "base_uri": "https://localhost:8080/",
          "height": 206
        },
        "id": "VXDDepaGEZQH",
        "outputId": "c09c5db7-e92a-4548-ea46-7f493d522231"
      },
      "outputs": [
        {
          "data": {
            "text/html": [
              "<div>\n",
              "<style scoped>\n",
              "    .dataframe tbody tr th:only-of-type {\n",
              "        vertical-align: middle;\n",
              "    }\n",
              "\n",
              "    .dataframe tbody tr th {\n",
              "        vertical-align: top;\n",
              "    }\n",
              "\n",
              "    .dataframe thead th {\n",
              "        text-align: right;\n",
              "    }\n",
              "</style>\n",
              "<table border=\"1\" class=\"dataframe\">\n",
              "  <thead>\n",
              "    <tr style=\"text-align: right;\">\n",
              "      <th></th>\n",
              "      <th>Spicy</th>\n",
              "      <th>Sweet</th>\n",
              "      <th>Tangy</th>\n",
              "      <th>Savory</th>\n",
              "      <th>Creamy</th>\n",
              "      <th>Nutty</th>\n",
              "      <th>Crunchy</th>\n",
              "      <th>Crispy</th>\n",
              "      <th>Protein-rich</th>\n",
              "      <th>Nutrient-rich</th>\n",
              "    </tr>\n",
              "  </thead>\n",
              "  <tbody>\n",
              "    <tr>\n",
              "      <th>0</th>\n",
              "      <td>1</td>\n",
              "      <td>0</td>\n",
              "      <td>0</td>\n",
              "      <td>0</td>\n",
              "      <td>0</td>\n",
              "      <td>0</td>\n",
              "      <td>0</td>\n",
              "      <td>0</td>\n",
              "      <td>0</td>\n",
              "      <td>0</td>\n",
              "    </tr>\n",
              "    <tr>\n",
              "      <th>1</th>\n",
              "      <td>1</td>\n",
              "      <td>0</td>\n",
              "      <td>1</td>\n",
              "      <td>0</td>\n",
              "      <td>0</td>\n",
              "      <td>0</td>\n",
              "      <td>0</td>\n",
              "      <td>0</td>\n",
              "      <td>0</td>\n",
              "      <td>0</td>\n",
              "    </tr>\n",
              "    <tr>\n",
              "      <th>2</th>\n",
              "      <td>0</td>\n",
              "      <td>0</td>\n",
              "      <td>0</td>\n",
              "      <td>0</td>\n",
              "      <td>1</td>\n",
              "      <td>0</td>\n",
              "      <td>0</td>\n",
              "      <td>0</td>\n",
              "      <td>0</td>\n",
              "      <td>0</td>\n",
              "    </tr>\n",
              "    <tr>\n",
              "      <th>3</th>\n",
              "      <td>1</td>\n",
              "      <td>0</td>\n",
              "      <td>0</td>\n",
              "      <td>1</td>\n",
              "      <td>0</td>\n",
              "      <td>0</td>\n",
              "      <td>0</td>\n",
              "      <td>0</td>\n",
              "      <td>0</td>\n",
              "      <td>0</td>\n",
              "    </tr>\n",
              "    <tr>\n",
              "      <th>4</th>\n",
              "      <td>1</td>\n",
              "      <td>0</td>\n",
              "      <td>0</td>\n",
              "      <td>0</td>\n",
              "      <td>0</td>\n",
              "      <td>0</td>\n",
              "      <td>1</td>\n",
              "      <td>0</td>\n",
              "      <td>0</td>\n",
              "      <td>0</td>\n",
              "    </tr>\n",
              "  </tbody>\n",
              "</table>\n",
              "</div>"
            ],
            "text/plain": [
              "   Spicy  Sweet  Tangy  Savory  Creamy  Nutty  Crunchy  Crispy  Protein-rich  \\\n",
              "0      1      0      0       0       0      0        0       0             0   \n",
              "1      1      0      1       0       0      0        0       0             0   \n",
              "2      0      0      0       0       1      0        0       0             0   \n",
              "3      1      0      0       1       0      0        0       0             0   \n",
              "4      1      0      0       0       0      0        1       0             0   \n",
              "\n",
              "   Nutrient-rich  \n",
              "0              0  \n",
              "1              0  \n",
              "2              0  \n",
              "3              0  \n",
              "4              0  "
            ]
          },
          "execution_count": 50,
          "metadata": {},
          "output_type": "execute_result"
        }
      ],
      "source": [
        "y.head()"
      ]
    },
    {
      "cell_type": "code",
      "execution_count": 51,
      "metadata": {
        "id": "HXEVDQP3Ii4S"
      },
      "outputs": [],
      "source": [
        "# Assuming df is your DataFrame containing the one-hot encoded data\n",
        "y = y.astype(float)"
      ]
    },
    {
      "cell_type": "code",
      "execution_count": 52,
      "metadata": {
        "id": "PUb6sS-VEoQn"
      },
      "outputs": [],
      "source": [
        "X_train, X_test, y_train, y_test = train_test_split(text_data, y, test_size=0.2, random_state=42)\n",
        "\n"
      ]
    },
    {
      "cell_type": "code",
      "execution_count": 53,
      "metadata": {
        "colab": {
          "base_uri": "https://localhost:8080/"
        },
        "id": "ZCb6EB4LGTP8",
        "outputId": "3a2c779f-97e8-4cf6-9502-4260c8376af7"
      },
      "outputs": [
        {
          "name": "stdout",
          "output_type": "stream",
          "text": [
            "Requirement already satisfied: scikit-multilearn in /Users/dhikshitha./anaconda3/lib/python3.10/site-packages (0.2.0)\n",
            "Note: you may need to restart the kernel to use updated packages.\n"
          ]
        }
      ],
      "source": [
        "pip install scikit-multilearn\n"
      ]
    },
    {
      "cell_type": "code",
      "execution_count": 54,
      "metadata": {
        "id": "IxpjPnB4GGsj"
      },
      "outputs": [],
      "source": [
        "from skmultilearn.problem_transform import BinaryRelevance,ClassifierChain,LabelPowerset\n",
        "from skmultilearn.adapt import MLkNN\n",
        "from sklearn.neighbors import KNeighborsClassifier\n",
        "from sklearn.tree import DecisionTreeClassifier\n",
        "from sklearn.naive_bayes import GaussianNB,MultinomialNB\n",
        "from sklearn.metrics import accuracy_score,hamming_loss,classification_report"
      ]
    },
    {
      "cell_type": "code",
      "execution_count": 55,
      "metadata": {
        "id": "PvKrW2-oJVGn"
      },
      "outputs": [],
      "source": [
        "X=tfidf_vectorizer.fit_transform(text_data).toarray()"
      ]
    },
    {
      "cell_type": "code",
      "execution_count": 56,
      "metadata": {
        "id": "tOzi_TRxJw6n"
      },
      "outputs": [],
      "source": [
        "X_train, X_test, y_train, y_test = train_test_split(X, y, test_size=0.2, random_state=42)\n"
      ]
    },
    {
      "cell_type": "code",
      "execution_count": 57,
      "metadata": {
        "colab": {
          "base_uri": "https://localhost:8080/"
        },
        "id": "ExoaoLozKw5k",
        "outputId": "f33d89aa-ef63-4521-b1ff-83268d94aa50"
      },
      "outputs": [
        {
          "data": {
            "text/plain": [
              "0.2815533980582524"
            ]
          },
          "execution_count": 57,
          "metadata": {},
          "output_type": "execute_result"
        }
      ],
      "source": [
        "LabelPowerset_clf=LabelPowerset(MultinomialNB())\n",
        "LabelPowerset_clf.fit(X_train,y_train)\n",
        "br_prediction = LabelPowerset_clf.predict(X_test)\n",
        "accuracy_score(y_test,br_prediction)"
      ]
    },
    {
      "cell_type": "code",
      "execution_count": 58,
      "metadata": {
        "colab": {
          "base_uri": "https://localhost:8080/"
        },
        "id": "tfsw7Ow0MC1C",
        "outputId": "2004264c-df16-4922-8e89-dc1c28e74237"
      },
      "outputs": [
        {
          "name": "stdout",
          "output_type": "stream",
          "text": [
            "['Spicy Tomato Rice (Recipe)  2 teaspoon cashew - or peanuts, 1/2 Teaspoon mustard, 1 dry red chilli, 1 teaspoon white urad dal, 1 teaspoon chickpea lentils, salt - as per taste, 1 green chilli, 1-1 / 2 tablespoon oil - 1/2 teaspoon asafoetida, 1/2 teaspoon cumin seeds, 3 teaspoons BC Belle Bhat powder,2-1 / 2 cups rice - cooked, 3 tomatoes 15']\n",
            "Predicted value: ['Spicy']\n",
            "Actual value  ['Spicy', 'Tangy']\n",
            "['Udupi Style Ash Gourd Coconut Curry Recipe 4 Dry Red Chillies,1/2 teaspoon Turmeric powder (Haldi),1/2 teaspoon Mustard seeds,1 Dry Red Chillies,Sunflower Oil - for cooking,Salt - to taste,30 grams Tamarind Water,1 cup Tamarind Water,1/2 cup Fresh coconut - grated,2 sprig Curry leaves - roughly torn,500 grams Vellai Poosanikai (Ash gourd/White Pumpkin),1/2 teaspoon Methi Seeds (Fenugreek Seeds),2 teaspoons Sesame seeds (Til seeds),1 teaspoon Sunflower Oil,3 tablespoons Jaggery,2 teaspoons Coriander (Dhania) Seeds,1/2 teaspoon Cumin seeds (Jeera) 40']\n",
            "Predicted value: ['Spicy']\n",
            "Actual value  ['Creamy']\n",
            "['Mexican Style Black Bean Burrito Recipe 6 to 8 Spinach Leaves (Palak),1/4 cup Black beans - soaked overnight and  cooked,4 tablespoons Cheddar cheese,1 Onion - chopped,2 cloves Garlic - chopped,1 cup Rice - or brown rice,2 sprig Coriander (Dhania) Leaves,1 Lemon juice,4 tablespoon Hung Curd (Greek Yogurt),4 Spring Onion Greens - chopped,1 Tomato - chopped,4 Tortillas 40']\n",
            "Predicted value: ['Spicy']\n",
            "Actual value  ['Spicy', 'Savory']\n",
            "['Spicy Crunchy Masala Idli Recipe Mint Leaves (Pudina) - to taste,1/2 teaspoon Turmeric powder (Haldi),3 tablespoons Tomato Ketchup,2 teaspoons Sunflower Oil,1 cup Tomato - finely chopped,Coriander (Dhania) Leaves - to taste,Salt - to taste,2 Green Chillies - finely chopped,1 cup Green Bell Pepper (Capsicum) - thinly sliced,10 Idli - cut into strips,1/4 teaspoon Red Chilli powder,1 cup Onions - finely chopped 30']\n",
            "Predicted value: ['Spicy']\n",
            "Actual value  ['Spicy', 'Crunchy']\n",
            "['Cauliflower Leaves Chutney (Recipe in Hindi)  3 cloves garlic, 1 big Spoon oil, 2 tablespoons white urad dal, 1 teaspoon Rye,1 cup cabbage leaves, turmeric powder - a pinch, asafoetida - a pinch, 1/2 teaspoon Cumin seeds, 18 grams tamarind, salt - as per taste, 3/4 cup tomatoes, 1 sprig Curry leaves, 4 red chillies 25']\n",
            "Predicted value: ['Spicy']\n",
            "Actual value  []\n",
            "['Veg Chili Cheese Burgers Recipe 1 tablespoon Tabasco Original - Hot Sauce,5 Pickled Jalapenos - sliced,1 Onion - chopped,1 Whole Egg,1 teaspoon Red Chilli flakes,1 tablespoon Red Chilli powder,1 Onions - chopped,Salt - to taste,2 Cheese Slices,2 Burger buns,2 Potatoes (Aloo) - pressure cooked,4 cloves Garlic - chopped,1 tablespoon Dried oregano,1 cup Homemade tomato puree,2 Tomatoes - chopped,1/2 cup Soy granules,1 Green Bell Pepper (Capsicum) - chopped,1/2 cup Whole Wheat Bread crumbs,1 teaspoon Honey,1 tablespoon Cumin powder (Jeera),Sunflower Oil 55']\n",
            "Predicted value: ['Spicy']\n",
            "Actual value  ['Spicy']\n",
            "['Saunf Aloo (Fennel Potato Curry) Recipe 1/4 cup Fresh cream - or 1/2 cup milk,5 Potatoes (Aloo) - halved with skin,2 teaspoon Fennel seeds (Saunf) - crushed,4 sprig Coriander (Dhania) Leaves - finely chopped,1 teaspoon Turmeric powder (Haldi),2 teaspoon Red Chilli powder 25']\n",
            "Predicted value: ['Spicy']\n",
            "Actual value  []\n",
            "['Hariyali Egg Curry Recipe In Coriander and Mint Gravy 2 cups Coriander (Dhania) Leaves - tightly packed,4 cloves Garlic,1 inch Ginger - chopped,1 teaspoon Garam masala powder,1 Cinnamon Stick (Dalchini) - small,2 Green Chillies - chopped,1 Onion - roughly chopped,1 tablespoon Sunflower Oil,2 Cloves (Laung),1 Bay leaf (tej patta),4 Whole Eggs - boiled,2 tablespoons Fresh cream,1 cup Mint Leaves (Pudina) - chopped,2 teaspoons Coriander Powder (Dhania) 35']\n",
            "Predicted value: ['Spicy']\n",
            "Actual value  []\n",
            "['Homemade Tater Tots Recipe 10 Potatoes (Aloo),1 teaspoon Garlic powder,Salt - to taste,Sunflower Oil - for deep frying the tater tots,1 tablespoon Coriander (Dhania) Leaves - finely chopped,1 teaspoon Red Chilli flakes,2 tablespoon All Purpose Flour (Maida),1 teaspoon Onion powder,1 tablespoon Rice flour,1 teaspoon Dried oregano 60']\n",
            "Predicted value: ['Spicy']\n",
            "Actual value  ['Crispy']\n",
            "['Homemade Healthy Subway Sandwich Recipe With Beet & Sprout 2 Tomatoes - thinly sliced,1 Beetroot - grated,1/2 cup Hung Curd (Greek Yogurt),2 Submarine Bread (Subway Bread) - (flat breads or foot longs),2 cloves Garlic - grated,Tabasco Original - Hot Sauce - to taste,Salt and Pepper - to taste,2 Stalks Spring Onion (Bulb & Greens) - finely chopped,1/2 cup Green Moong Sprouts,2 tablespoon Coriander (Dhania) Leaves - finely chopped 30']\n",
            "Predicted value: ['Spicy']\n",
            "Actual value  ['Savory']\n",
            "['Mini Dal Samosa Curry / Sabzi Recipe 6 Whole Black Peppercorns,1 teaspoon Coriander Powder (Dhania),1 Mace (Javitri),2 tablespoons Sunflower Oil,2 Tomato - roughly chopped,15 Cashew nuts,1 Green Chilli,3 Cardamom (Elaichi) Pods/Seeds,1/2 teaspoon Sugar,1 Onion - roughly chopped,1/2 inch Cinnamon Stick (Dalchini),1/2 inch Ginger,1/2 teaspoon Kasuri Methi (Dried Fenugreek Leaves),1 Black cardamom (Badi Elaichi),1/2 teaspoon Turmeric powder (Haldi),6 Samosas - mini,1/2 teaspoon Garam masala powder,1/2 teaspoon Kashmiri Red Chilli Powder,1 Bay leaf (tej patta),1 tablespoon Fresh cream,3 cloves Cloves (Laung) 35']\n",
            "Predicted value: ['Spicy']\n",
            "Actual value  ['Spicy', 'Savory']\n",
            "['Spinach Garlic Bruschetta Recipe With Red Bell Pepper Sauce 1 cup Cheddar cheese - grated,1 Baguette - sliced,Salt - to taste,1 Tomato - finely chopped,1 tablespoon Roasted tomato pasta sauce,1 1/2 tablespoon Butter,1 Red Bell pepper (Capsicum) - (optional,1 teaspoon Fresh cream,1 cup Spinach Leaves (Palak),1/2 tablespoon Garlic - minced,1 tablespoon Black pepper powder - adjust,1 tablespoon Italian seasoning,1 Onion - finely chopped (optional) 30']\n",
            "Predicted value: ['Spicy']\n",
            "Actual value  ['Tangy']\n",
            "['Asian Style Sweet & Spicy Green Beans Recipe 2 tablespoons Rice Wine Vinegar,1/4 cup Roasted Peanuts (Moongphali),1 tablespoon Soy sauce,Salt - to taste,1 Lemon - juice,2 tablespoons Thai Sweet Chilli Sauce,300 grams Green beans (French Beans) - cut into half,3 cloves Garlic - finely chopped,1 tablespoon Sesame (Gingelly) Oil 25']\n",
            "Predicted value: ['Spicy']\n",
            "Actual value  ['Sweet', 'Spicy']\n",
            "['Chinese Darsaan Recipe With Ice Cream Water - to make the dough,2 tablespoon Sugar,2 tablespoons Water,1/2 teaspoon Vanilla Extract,1 tablespoon Sunflower Oil,2 tablespoons Honey,1/4 teaspoon Baking powder,1 tablespoon Sesame seeds (Til seeds) - white,All Purpose Flour (Maida),Sunflower Oil - to deep fry 40']\n",
            "Predicted value: ['Spicy']\n",
            "Actual value  ['Sweet', 'Crispy']\n",
            "['Cabbage, Spinach, Pomegranate Slaw with Lemon Dressing Recipe 1 cup Fresh Pomegranate Fruit Kernels,2 Lemon juice,2 tablespoons Extra Virgin Olive Oil,Salt and Pepper - to taste,1 cup Spinach - shredded,1 cup Cabbage (Patta Gobi/ Muttaikose) - shredded 15']\n",
            "Predicted value: ['Spicy']\n",
            "Actual value  ['Tangy']\n",
            "['Eggless Chocolate Cupcakes With Raspberry & Cheese Frosting 1/2 tablespoon Baking powder,8 Fresh raspberries,1 cup All Purpose Flour (Maida),1 cup Britannia Cream Cheese,3/4 cup Caster Sugar,1/2 tablespoon Vanilla Extract,1/2 cup Cocoa Powder,1 cup Dark chocolate,1/2 cup Salted butter,1 teaspoon Vanilla Extract,3/4 cup Milk,1/2 teaspoon Baking soda,1/2 cup Sugar 40']\n",
            "Predicted value: ['Sweet']\n",
            "Actual value  ['Sweet']\n",
            "['Kerala pala pradham recipe 3/4 cup Sugar,2 liter Milk - full cream,1 cup Ada,1/2 teaspoon Cardamom Powder (Elaichi),1 tablespoon Ghee 90']\n",
            "Predicted value: ['Sweet']\n",
            "Actual value  ['Sweet', 'Creamy']\n",
            "['Tindora Sambharo Recipe - Instant Tendli Pickle 1 cup Tindora (Dondakaya/ Kovakkai) - finely chopped,Salt - to taste,1 teaspoon Red Chilli powder,1/4 teaspoon Split Methi Seeds (Methi Kuria),Lemon - juice extracted,1/2 teaspoon Split Mustard Seeds (Rai Kuria),1 tablespoon Sunflower Oil,1/4 teaspoon Asafoetida (hing),1/4 teaspoon Turmeric powder (Haldi) 35']\n",
            "Predicted value: ['Spicy', 'Tangy']\n",
            "Actual value  ['Tangy', 'Spicy']\n",
            "['Chettinad Style Chicken Roast Recipe 1/4 teaspoon Kalonji (Onion Nigella Seeds),1 teaspoon Tamarind Paste,1 teaspoon Ghee,1 tablespoon Ghee,1 teaspoon Jaggery,2 teaspoons Coriander (Dhania) Seeds,1 teaspoon Whole Black Peppercorns,1/4 cup Hung Curd (Greek Yogurt),Salt - to taste,1/2 inch Cinnamon Stick (Dalchini),1 Onion - sliced,1/2 teaspoon Mustard seeds,4 cloves Garlic,1/2 inch Ginger,1/4 teaspoon Methi Seeds (Fenugreek Seeds),2 Cloves (Laung),2 tablespoon Fresh coconut - grated,1/2 teaspoon Turmeric powder (Haldi),2 teaspoon Cumin seeds (Jeera),1 Cardamom (Elaichi) Pods/Seeds,1 teaspoon Fennel seeds (Saunf),2 Dry Red Chillies,1 Chicken legs,1 teaspoon Sunflower Oil,1 sprig Curry leaves 35']\n",
            "Predicted value: ['Spicy']\n",
            "Actual value  ['Spicy']\n"
          ]
        }
      ],
      "source": [
        "for i in range(1, 20):\n",
        "    itemname = str(df.iloc[i:i+1, 0:1].values[0, 0])\n",
        "    ingredients = str(df.iloc[i:i+1, 1:2].values[0, 0])\n",
        "    instructions = str(df.iloc[i:i+1, 2:3].values[0, 0])\n",
        "    text = [itemname + ' ' + ingredients + ' ' + instructions]\n",
        "    print(text)\n",
        "    text_transformed = tfidf_vectorizer.transform(text).toarray()\n",
        "    temp=LabelPowerset_clf.predict(text_transformed).toarray()\n",
        "\n",
        "    # Define the unique categories\n",
        "    unique_categories = ['Spicy', 'Sweet', 'Tangy', 'Savory', 'Creamy', 'Nutty', 'Crunchy', 'Crispy', 'Protein-rich', 'Nutrient-rich']\n",
        "\n",
        "    # Create an empty list to store the decoded categories\n",
        "    decoded_categories = []\n",
        "\n",
        "    # Iterate over each category and its corresponding predicted value\n",
        "    for category, value in zip(unique_categories, temp[0]):\n",
        "        if value == 1:\n",
        "            decoded_categories.append(category)\n",
        "\n",
        "    # Print the decoded categories\n",
        "    print(\"Predicted value:\", decoded_categories)\n",
        "    print(\"Actual value \", df.iloc[i:i+1, 16:17].values[0, 0])\n"
      ]
    },
    {
      "cell_type": "code",
      "execution_count": 59,
      "metadata": {
        "colab": {
          "base_uri": "https://localhost:8080/",
          "height": 591
        },
        "id": "C3fhFixaORdo",
        "outputId": "3dab7f3a-550c-4d68-941a-46dba974167a"
      },
      "outputs": [
        {
          "data": {
            "text/html": [
              "<div>\n",
              "<style scoped>\n",
              "    .dataframe tbody tr th:only-of-type {\n",
              "        vertical-align: middle;\n",
              "    }\n",
              "\n",
              "    .dataframe tbody tr th {\n",
              "        vertical-align: top;\n",
              "    }\n",
              "\n",
              "    .dataframe thead th {\n",
              "        text-align: right;\n",
              "    }\n",
              "</style>\n",
              "<table border=\"1\" class=\"dataframe\">\n",
              "  <thead>\n",
              "    <tr style=\"text-align: right;\">\n",
              "      <th></th>\n",
              "      <th>Item Name</th>\n",
              "      <th>TranslatedIngredients</th>\n",
              "      <th>TotalTimeInMins</th>\n",
              "      <th>Cuisine_x</th>\n",
              "      <th>TranslatedInstructions</th>\n",
              "      <th>URL</th>\n",
              "      <th>Cleaned-Ingredients</th>\n",
              "      <th>image-url</th>\n",
              "      <th>Ingredient-count</th>\n",
              "      <th>Cuisine_y</th>\n",
              "      <th>Course</th>\n",
              "      <th>Nutritional Profile</th>\n",
              "      <th>Preparation Method</th>\n",
              "      <th>Spiciness Level</th>\n",
              "      <th>Vegan/Vegetarian/Contains-Egg/Non-Veg</th>\n",
              "      <th>Allergens</th>\n",
              "      <th>Flavor Profile</th>\n",
              "      <th>Dietary Restrictions</th>\n",
              "    </tr>\n",
              "  </thead>\n",
              "  <tbody>\n",
              "    <tr>\n",
              "      <th>0</th>\n",
              "      <td>Masala Karela Recipe</td>\n",
              "      <td>1 tablespoon Red Chilli powder,3 tablespoon Gr...</td>\n",
              "      <td>45</td>\n",
              "      <td>Indian</td>\n",
              "      <td>1 tablespoon Red Chilli powder,3 tablespoon Gr...</td>\n",
              "      <td>https://www.archanaskitchen.com/masala-karela-...</td>\n",
              "      <td>salt,amchur (dry mango powder),karela (bitter ...</td>\n",
              "      <td>https://www.archanaskitchen.com/images/archana...</td>\n",
              "      <td>10</td>\n",
              "      <td>Indian</td>\n",
              "      <td>Main</td>\n",
              "      <td>[Low Carb, High Fiber]</td>\n",
              "      <td>[Stir-Fry]</td>\n",
              "      <td>Spicy</td>\n",
              "      <td>Vegetarian</td>\n",
              "      <td>None</td>\n",
              "      <td>[Spicy]</td>\n",
              "      <td>[Diabetic Friendly, Vegan]</td>\n",
              "    </tr>\n",
              "    <tr>\n",
              "      <th>1</th>\n",
              "      <td>Spicy Tomato Rice (Recipe)</td>\n",
              "      <td>2 teaspoon cashew - or peanuts, 1/2 Teaspoon ...</td>\n",
              "      <td>15</td>\n",
              "      <td>South Indian</td>\n",
              "      <td>2 teaspoon cashew - or peanuts, 1/2 Teaspoon ...</td>\n",
              "      <td>https://www.archanaskitchen.com/spicy-tomato-r...</td>\n",
              "      <td>tomato,salt,chickpea lentils,green chilli,rice...</td>\n",
              "      <td>https://www.archanaskitchen.com/images/archana...</td>\n",
              "      <td>12</td>\n",
              "      <td>Indian</td>\n",
              "      <td>Main</td>\n",
              "      <td>[Carbohydrate Rich]</td>\n",
              "      <td>[Boiled, Stir-Fried]</td>\n",
              "      <td>Spicy</td>\n",
              "      <td>Vegetarian</td>\n",
              "      <td>None</td>\n",
              "      <td>[Spicy, Tangy]</td>\n",
              "      <td>[Vegan]</td>\n",
              "    </tr>\n",
              "    <tr>\n",
              "      <th>2</th>\n",
              "      <td>Udupi Style Ash Gourd Coconut Curry Recipe</td>\n",
              "      <td>4 Dry Red Chillies,1/2 teaspoon Turmeric powde...</td>\n",
              "      <td>40</td>\n",
              "      <td>South Indian</td>\n",
              "      <td>4 Dry Red Chillies,1/2 teaspoon Turmeric powde...</td>\n",
              "      <td>https://www.archanaskitchen.com/udupi-style-as...</td>\n",
              "      <td>salt,tamarind water,coconut,mustard seeds,jagg...</td>\n",
              "      <td>https://www.archanaskitchen.com/images/archana...</td>\n",
              "      <td>14</td>\n",
              "      <td>Indian</td>\n",
              "      <td>Main</td>\n",
              "      <td>[Vitamin Rich]</td>\n",
              "      <td>[Stewed, Curried]</td>\n",
              "      <td>Mild</td>\n",
              "      <td>Vegetarian</td>\n",
              "      <td>None</td>\n",
              "      <td>[Creamy]</td>\n",
              "      <td>[Vegan]</td>\n",
              "    </tr>\n",
              "    <tr>\n",
              "      <th>3</th>\n",
              "      <td>Mexican Style Black Bean Burrito Recipe</td>\n",
              "      <td>6 to 8 Spinach Leaves (Palak),1/4 cup Black be...</td>\n",
              "      <td>40</td>\n",
              "      <td>Mexican</td>\n",
              "      <td>6 to 8 Spinach Leaves (Palak),1/4 cup Black be...</td>\n",
              "      <td>https://www.archanaskitchen.com/black-bean-bur...</td>\n",
              "      <td>tomato,spring onion greens,hung curd (greek yo...</td>\n",
              "      <td>https://www.archanaskitchen.com/images/archana...</td>\n",
              "      <td>12</td>\n",
              "      <td>Mexican</td>\n",
              "      <td>Main</td>\n",
              "      <td>[Protein Rich]</td>\n",
              "      <td>[Wrapped, Baked]</td>\n",
              "      <td>Spicy</td>\n",
              "      <td>Vegetarian</td>\n",
              "      <td>None</td>\n",
              "      <td>[Spicy, Savory]</td>\n",
              "      <td>[Vegetarian]</td>\n",
              "    </tr>\n",
              "    <tr>\n",
              "      <th>4</th>\n",
              "      <td>Spicy Crunchy Masala Idli Recipe</td>\n",
              "      <td>Mint Leaves (Pudina) - to taste,1/2 teaspoon T...</td>\n",
              "      <td>30</td>\n",
              "      <td>South Indian</td>\n",
              "      <td>Mint Leaves (Pudina) - to taste,1/2 teaspoon T...</td>\n",
              "      <td>https://www.archanaskitchen.com/spicy-crunchy-...</td>\n",
              "      <td>tomato,salt,coriander (dhania) leaves,idli,red...</td>\n",
              "      <td>https://www.archanaskitchen.com/images/archana...</td>\n",
              "      <td>12</td>\n",
              "      <td>Indian</td>\n",
              "      <td>Breakfast</td>\n",
              "      <td>[Protein Rich, Fermented]</td>\n",
              "      <td>[Steamed, Stir-Fried]</td>\n",
              "      <td>Spicy</td>\n",
              "      <td>Vegetarian</td>\n",
              "      <td>None</td>\n",
              "      <td>[Spicy, Crunchy]</td>\n",
              "      <td>[None]</td>\n",
              "    </tr>\n",
              "  </tbody>\n",
              "</table>\n",
              "</div>"
            ],
            "text/plain": [
              "                                    Item Name  \\\n",
              "0                        Masala Karela Recipe   \n",
              "1                  Spicy Tomato Rice (Recipe)   \n",
              "2  Udupi Style Ash Gourd Coconut Curry Recipe   \n",
              "3     Mexican Style Black Bean Burrito Recipe   \n",
              "4            Spicy Crunchy Masala Idli Recipe   \n",
              "\n",
              "                               TranslatedIngredients  TotalTimeInMins  \\\n",
              "0  1 tablespoon Red Chilli powder,3 tablespoon Gr...               45   \n",
              "1   2 teaspoon cashew - or peanuts, 1/2 Teaspoon ...               15   \n",
              "2  4 Dry Red Chillies,1/2 teaspoon Turmeric powde...               40   \n",
              "3  6 to 8 Spinach Leaves (Palak),1/4 cup Black be...               40   \n",
              "4  Mint Leaves (Pudina) - to taste,1/2 teaspoon T...               30   \n",
              "\n",
              "      Cuisine_x                             TranslatedInstructions  \\\n",
              "0        Indian  1 tablespoon Red Chilli powder,3 tablespoon Gr...   \n",
              "1  South Indian   2 teaspoon cashew - or peanuts, 1/2 Teaspoon ...   \n",
              "2  South Indian  4 Dry Red Chillies,1/2 teaspoon Turmeric powde...   \n",
              "3       Mexican  6 to 8 Spinach Leaves (Palak),1/4 cup Black be...   \n",
              "4  South Indian  Mint Leaves (Pudina) - to taste,1/2 teaspoon T...   \n",
              "\n",
              "                                                 URL  \\\n",
              "0  https://www.archanaskitchen.com/masala-karela-...   \n",
              "1  https://www.archanaskitchen.com/spicy-tomato-r...   \n",
              "2  https://www.archanaskitchen.com/udupi-style-as...   \n",
              "3  https://www.archanaskitchen.com/black-bean-bur...   \n",
              "4  https://www.archanaskitchen.com/spicy-crunchy-...   \n",
              "\n",
              "                                 Cleaned-Ingredients  \\\n",
              "0  salt,amchur (dry mango powder),karela (bitter ...   \n",
              "1  tomato,salt,chickpea lentils,green chilli,rice...   \n",
              "2  salt,tamarind water,coconut,mustard seeds,jagg...   \n",
              "3  tomato,spring onion greens,hung curd (greek yo...   \n",
              "4  tomato,salt,coriander (dhania) leaves,idli,red...   \n",
              "\n",
              "                                           image-url  Ingredient-count  \\\n",
              "0  https://www.archanaskitchen.com/images/archana...                10   \n",
              "1  https://www.archanaskitchen.com/images/archana...                12   \n",
              "2  https://www.archanaskitchen.com/images/archana...                14   \n",
              "3  https://www.archanaskitchen.com/images/archana...                12   \n",
              "4  https://www.archanaskitchen.com/images/archana...                12   \n",
              "\n",
              "  Cuisine_y     Course        Nutritional Profile     Preparation Method  \\\n",
              "0    Indian       Main     [Low Carb, High Fiber]             [Stir-Fry]   \n",
              "1    Indian       Main        [Carbohydrate Rich]   [Boiled, Stir-Fried]   \n",
              "2    Indian       Main             [Vitamin Rich]      [Stewed, Curried]   \n",
              "3   Mexican       Main             [Protein Rich]       [Wrapped, Baked]   \n",
              "4    Indian  Breakfast  [Protein Rich, Fermented]  [Steamed, Stir-Fried]   \n",
              "\n",
              "  Spiciness Level Vegan/Vegetarian/Contains-Egg/Non-Veg Allergens  \\\n",
              "0           Spicy                            Vegetarian      None   \n",
              "1           Spicy                            Vegetarian      None   \n",
              "2            Mild                            Vegetarian      None   \n",
              "3           Spicy                            Vegetarian      None   \n",
              "4           Spicy                            Vegetarian      None   \n",
              "\n",
              "     Flavor Profile        Dietary Restrictions  \n",
              "0           [Spicy]  [Diabetic Friendly, Vegan]  \n",
              "1    [Spicy, Tangy]                     [Vegan]  \n",
              "2          [Creamy]                     [Vegan]  \n",
              "3   [Spicy, Savory]                [Vegetarian]  \n",
              "4  [Spicy, Crunchy]                      [None]  "
            ]
          },
          "execution_count": 59,
          "metadata": {},
          "output_type": "execute_result"
        }
      ],
      "source": [
        "df.head()"
      ]
    },
    {
      "cell_type": "code",
      "execution_count": 60,
      "metadata": {
        "colab": {
          "base_uri": "https://localhost:8080/"
        },
        "id": "vZtyPiIAObOZ",
        "outputId": "9987706a-8979-4635-d784-15747dd6b1f9"
      },
      "outputs": [
        {
          "name": "stdout",
          "output_type": "stream",
          "text": [
            "      Preparation Method  Baked  Deep-fried  Mixed  Stir-fried  Assembled  \\\n",
            "0             [Stir-Fry]      0           0      0           0          0   \n",
            "1   [Boiled, Stir-Fried]      0           0      0           0          0   \n",
            "2      [Stewed, Curried]      0           0      0           0          0   \n",
            "3       [Wrapped, Baked]      1           0      0           0          0   \n",
            "4  [Steamed, Stir-Fried]      0           0      0           0          0   \n",
            "\n",
            "   Boiled  Blended  Grilled  Steamed  Curried  Simmered  Pan-fried  Stewed  \\\n",
            "0       0        0        0        0        0         0          0       0   \n",
            "1       1        0        0        0        0         0          0       0   \n",
            "2       0        0        0        0        1         0          0       1   \n",
            "3       0        0        0        0        0         0          0       0   \n",
            "4       0        0        0        1        0         0          0       0   \n",
            "\n",
            "   Roasted  Stuffed  \n",
            "0        0        0  \n",
            "1        0        0  \n",
            "2        0        0  \n",
            "3        0        0  \n",
            "4        0        0  \n"
          ]
        },
        {
          "name": "stderr",
          "output_type": "stream",
          "text": [
            "/var/folders/n5/vm862s_n5p751f9xypymdzw40000gn/T/ipykernel_96871/2654392278.py:24: SettingWithCopyWarning: \n",
            "A value is trying to be set on a copy of a slice from a DataFrame.\n",
            "Try using .loc[row_indexer,col_indexer] = value instead\n",
            "\n",
            "See the caveats in the documentation: https://pandas.pydata.org/pandas-docs/stable/user_guide/indexing.html#returning-a-view-versus-a-copy\n",
            "  y[category] = y['Preparation Method'].apply(lambda x: 1 if category in x else 0)\n",
            "/var/folders/n5/vm862s_n5p751f9xypymdzw40000gn/T/ipykernel_96871/2654392278.py:24: SettingWithCopyWarning: \n",
            "A value is trying to be set on a copy of a slice from a DataFrame.\n",
            "Try using .loc[row_indexer,col_indexer] = value instead\n",
            "\n",
            "See the caveats in the documentation: https://pandas.pydata.org/pandas-docs/stable/user_guide/indexing.html#returning-a-view-versus-a-copy\n",
            "  y[category] = y['Preparation Method'].apply(lambda x: 1 if category in x else 0)\n",
            "/var/folders/n5/vm862s_n5p751f9xypymdzw40000gn/T/ipykernel_96871/2654392278.py:24: SettingWithCopyWarning: \n",
            "A value is trying to be set on a copy of a slice from a DataFrame.\n",
            "Try using .loc[row_indexer,col_indexer] = value instead\n",
            "\n",
            "See the caveats in the documentation: https://pandas.pydata.org/pandas-docs/stable/user_guide/indexing.html#returning-a-view-versus-a-copy\n",
            "  y[category] = y['Preparation Method'].apply(lambda x: 1 if category in x else 0)\n",
            "/var/folders/n5/vm862s_n5p751f9xypymdzw40000gn/T/ipykernel_96871/2654392278.py:24: SettingWithCopyWarning: \n",
            "A value is trying to be set on a copy of a slice from a DataFrame.\n",
            "Try using .loc[row_indexer,col_indexer] = value instead\n",
            "\n",
            "See the caveats in the documentation: https://pandas.pydata.org/pandas-docs/stable/user_guide/indexing.html#returning-a-view-versus-a-copy\n",
            "  y[category] = y['Preparation Method'].apply(lambda x: 1 if category in x else 0)\n",
            "/var/folders/n5/vm862s_n5p751f9xypymdzw40000gn/T/ipykernel_96871/2654392278.py:24: SettingWithCopyWarning: \n",
            "A value is trying to be set on a copy of a slice from a DataFrame.\n",
            "Try using .loc[row_indexer,col_indexer] = value instead\n",
            "\n",
            "See the caveats in the documentation: https://pandas.pydata.org/pandas-docs/stable/user_guide/indexing.html#returning-a-view-versus-a-copy\n",
            "  y[category] = y['Preparation Method'].apply(lambda x: 1 if category in x else 0)\n",
            "/var/folders/n5/vm862s_n5p751f9xypymdzw40000gn/T/ipykernel_96871/2654392278.py:24: SettingWithCopyWarning: \n",
            "A value is trying to be set on a copy of a slice from a DataFrame.\n",
            "Try using .loc[row_indexer,col_indexer] = value instead\n",
            "\n",
            "See the caveats in the documentation: https://pandas.pydata.org/pandas-docs/stable/user_guide/indexing.html#returning-a-view-versus-a-copy\n",
            "  y[category] = y['Preparation Method'].apply(lambda x: 1 if category in x else 0)\n",
            "/var/folders/n5/vm862s_n5p751f9xypymdzw40000gn/T/ipykernel_96871/2654392278.py:24: SettingWithCopyWarning: \n",
            "A value is trying to be set on a copy of a slice from a DataFrame.\n",
            "Try using .loc[row_indexer,col_indexer] = value instead\n",
            "\n",
            "See the caveats in the documentation: https://pandas.pydata.org/pandas-docs/stable/user_guide/indexing.html#returning-a-view-versus-a-copy\n",
            "  y[category] = y['Preparation Method'].apply(lambda x: 1 if category in x else 0)\n",
            "/var/folders/n5/vm862s_n5p751f9xypymdzw40000gn/T/ipykernel_96871/2654392278.py:24: SettingWithCopyWarning: \n",
            "A value is trying to be set on a copy of a slice from a DataFrame.\n",
            "Try using .loc[row_indexer,col_indexer] = value instead\n",
            "\n",
            "See the caveats in the documentation: https://pandas.pydata.org/pandas-docs/stable/user_guide/indexing.html#returning-a-view-versus-a-copy\n",
            "  y[category] = y['Preparation Method'].apply(lambda x: 1 if category in x else 0)\n",
            "/var/folders/n5/vm862s_n5p751f9xypymdzw40000gn/T/ipykernel_96871/2654392278.py:24: SettingWithCopyWarning: \n",
            "A value is trying to be set on a copy of a slice from a DataFrame.\n",
            "Try using .loc[row_indexer,col_indexer] = value instead\n",
            "\n",
            "See the caveats in the documentation: https://pandas.pydata.org/pandas-docs/stable/user_guide/indexing.html#returning-a-view-versus-a-copy\n",
            "  y[category] = y['Preparation Method'].apply(lambda x: 1 if category in x else 0)\n",
            "/var/folders/n5/vm862s_n5p751f9xypymdzw40000gn/T/ipykernel_96871/2654392278.py:24: SettingWithCopyWarning: \n",
            "A value is trying to be set on a copy of a slice from a DataFrame.\n",
            "Try using .loc[row_indexer,col_indexer] = value instead\n",
            "\n",
            "See the caveats in the documentation: https://pandas.pydata.org/pandas-docs/stable/user_guide/indexing.html#returning-a-view-versus-a-copy\n",
            "  y[category] = y['Preparation Method'].apply(lambda x: 1 if category in x else 0)\n",
            "/var/folders/n5/vm862s_n5p751f9xypymdzw40000gn/T/ipykernel_96871/2654392278.py:24: SettingWithCopyWarning: \n",
            "A value is trying to be set on a copy of a slice from a DataFrame.\n",
            "Try using .loc[row_indexer,col_indexer] = value instead\n",
            "\n",
            "See the caveats in the documentation: https://pandas.pydata.org/pandas-docs/stable/user_guide/indexing.html#returning-a-view-versus-a-copy\n",
            "  y[category] = y['Preparation Method'].apply(lambda x: 1 if category in x else 0)\n",
            "/var/folders/n5/vm862s_n5p751f9xypymdzw40000gn/T/ipykernel_96871/2654392278.py:24: SettingWithCopyWarning: \n",
            "A value is trying to be set on a copy of a slice from a DataFrame.\n",
            "Try using .loc[row_indexer,col_indexer] = value instead\n",
            "\n",
            "See the caveats in the documentation: https://pandas.pydata.org/pandas-docs/stable/user_guide/indexing.html#returning-a-view-versus-a-copy\n",
            "  y[category] = y['Preparation Method'].apply(lambda x: 1 if category in x else 0)\n",
            "/var/folders/n5/vm862s_n5p751f9xypymdzw40000gn/T/ipykernel_96871/2654392278.py:24: SettingWithCopyWarning: \n",
            "A value is trying to be set on a copy of a slice from a DataFrame.\n",
            "Try using .loc[row_indexer,col_indexer] = value instead\n",
            "\n",
            "See the caveats in the documentation: https://pandas.pydata.org/pandas-docs/stable/user_guide/indexing.html#returning-a-view-versus-a-copy\n",
            "  y[category] = y['Preparation Method'].apply(lambda x: 1 if category in x else 0)\n",
            "/var/folders/n5/vm862s_n5p751f9xypymdzw40000gn/T/ipykernel_96871/2654392278.py:24: SettingWithCopyWarning: \n",
            "A value is trying to be set on a copy of a slice from a DataFrame.\n",
            "Try using .loc[row_indexer,col_indexer] = value instead\n",
            "\n",
            "See the caveats in the documentation: https://pandas.pydata.org/pandas-docs/stable/user_guide/indexing.html#returning-a-view-versus-a-copy\n",
            "  y[category] = y['Preparation Method'].apply(lambda x: 1 if category in x else 0)\n",
            "/var/folders/n5/vm862s_n5p751f9xypymdzw40000gn/T/ipykernel_96871/2654392278.py:24: SettingWithCopyWarning: \n",
            "A value is trying to be set on a copy of a slice from a DataFrame.\n",
            "Try using .loc[row_indexer,col_indexer] = value instead\n",
            "\n",
            "See the caveats in the documentation: https://pandas.pydata.org/pandas-docs/stable/user_guide/indexing.html#returning-a-view-versus-a-copy\n",
            "  y[category] = y['Preparation Method'].apply(lambda x: 1 if category in x else 0)\n",
            "/var/folders/n5/vm862s_n5p751f9xypymdzw40000gn/T/ipykernel_96871/2654392278.py:28: SettingWithCopyWarning: \n",
            "A value is trying to be set on a copy of a slice from a DataFrame\n",
            "\n",
            "See the caveats in the documentation: https://pandas.pydata.org/pandas-docs/stable/user_guide/indexing.html#returning-a-view-versus-a-copy\n",
            "  y.drop('Preparation Method',axis=1,inplace=True)\n"
          ]
        }
      ],
      "source": [
        "y=df[['Preparation Method']]\n",
        "# Define the unique categories\n",
        "unique_categories = [\n",
        "    'Baked',\n",
        "    'Deep-fried',\n",
        "    'Mixed',\n",
        "    'Stir-fried',\n",
        "    'Assembled',\n",
        "    'Boiled',\n",
        "    'Blended',\n",
        "    'Grilled',\n",
        "    'Steamed',\n",
        "    'Curried',\n",
        "    'Simmered',\n",
        "    'Pan-fried',\n",
        "    'Stewed',\n",
        "    'Roasted',\n",
        "    'Stuffed'\n",
        "]\n",
        "\n",
        "# Iterate over each unique category\n",
        "for category in unique_categories:\n",
        "    # Create a new column for the category\n",
        "    y[category] = y['Preparation Method'].apply(lambda x: 1 if category in x else 0)\n",
        "\n",
        "# Print the updated DataFrame\n",
        "print(y.head())\n",
        "y.drop('Preparation Method',axis=1,inplace=True)\n",
        "# Assuming df is your DataFrame containing the one-hot encoded data\n",
        "y = y.astype(float)"
      ]
    },
    {
      "cell_type": "code",
      "execution_count": 61,
      "metadata": {
        "colab": {
          "base_uri": "https://localhost:8080/"
        },
        "id": "9EgredyyOnMw",
        "outputId": "f32f68f3-ab6e-4d76-c1c8-8fabf15f4054"
      },
      "outputs": [
        {
          "name": "stdout",
          "output_type": "stream",
          "text": [
            "Categories with counts less than 20: 1012\n"
          ]
        }
      ],
      "source": [
        "\n",
        "df_exploded = df.explode('Preparation Method')\n",
        "\n",
        "value_counts = df_exploded['Preparation Method'].value_counts()\n",
        "\n",
        "# Initialize a list to store categories with counts less than 30\n",
        "categories_less_than_30 = []+['Prepared','Cooked']\n",
        "# Iterate over the value counts\n",
        "for category, count in value_counts.items():\n",
        "    if count < 20:\n",
        "        categories_less_than_30.append(category)\n",
        "print(\"Categories with counts less than 20:\", len(categories_less_than_30))\n"
      ]
    },
    {
      "cell_type": "code",
      "execution_count": 62,
      "metadata": {
        "id": "yiRmNemyRfqh"
      },
      "outputs": [],
      "source": [
        "# Iterate over each row in the 'Preparation Method' column\n",
        "for index, row in df.iterrows():\n",
        "    if 'Pan-Fried' in row['Preparation Method']:\n",
        "        # Remove 'Pan-Fried' from the list and append 'Pan-fried'\n",
        "        row['Preparation Method'].remove('Pan-Fried')\n",
        "        row['Preparation Method'].append('Pan-fried')\n",
        "    if 'Deep-Fried' in row['Preparation Method']:\n",
        "        # Remove 'Deep-Fried' from the list and append 'Deep-fried'\n",
        "        row['Preparation Method'].remove('Deep-Fried')\n",
        "        row['Preparation Method'].append('Deep-fried')\n",
        "    if 'Stir-Fried' in row['Preparation Method']:\n",
        "        # Remove 'Stir-Fried' from the list and append 'Stir-fried'\n",
        "        row['Preparation Method'].remove('Stir-Fried')\n",
        "        row['Preparation Method'].append('Stir-fried')\n",
        "    if 'Fried' in row['Preparation Method']:\n",
        "        # Remove 'Stir-Fried' from the list and append 'Stir-fried'\n",
        "        row['Preparation Method'].remove('Fried')\n",
        "        row['Preparation Method'].append('Deep-fried')\n",
        "    # Check if the row contains any of the items to remove\n",
        "    for item in categories_less_than_30:\n",
        "        if item in row['Preparation Method']:\n",
        "            # Remove the item from the list\n",
        "            row['Preparation Method'].remove(item)\n"
      ]
    },
    {
      "cell_type": "code",
      "execution_count": 63,
      "metadata": {
        "colab": {
          "base_uri": "https://localhost:8080/"
        },
        "id": "KpKgOYrcPAom",
        "outputId": "3565e8fe-97d6-4e7a-9681-eec60d631ceb"
      },
      "outputs": [
        {
          "name": "stdout",
          "output_type": "stream",
          "text": [
            "Baked        310\n",
            "Mixed        175\n",
            "Assembled    126\n",
            "Boiled        88\n",
            "Blended       69\n",
            "Grilled       66\n",
            "Steamed       62\n",
            "Curried       57\n",
            "Simmered      42\n",
            "Pan-fried     40\n",
            "Stewed        39\n",
            "Roasted       28\n",
            "Stuffed       24\n",
            "Name: Preparation Method, dtype: int64\n"
          ]
        }
      ],
      "source": [
        "\n",
        "df_exploded = df.explode('Preparation Method')\n",
        "\n",
        "value_counts = df_exploded['Preparation Method'].value_counts()\n",
        "\n",
        "print(value_counts)"
      ]
    },
    {
      "cell_type": "code",
      "execution_count": 64,
      "metadata": {
        "colab": {
          "base_uri": "https://localhost:8080/"
        },
        "id": "wsvMXKJmSQX8",
        "outputId": "ca9ffdfe-c1ab-4bbb-dac5-6dae546ed1da"
      },
      "outputs": [
        {
          "name": "stdout",
          "output_type": "stream",
          "text": [
            "['Spicy Tomato Rice (Recipe)  2 teaspoon cashew - or peanuts, 1/2 Teaspoon mustard, 1 dry red chilli, 1 teaspoon white urad dal, 1 teaspoon chickpea lentils, salt - as per taste, 1 green chilli, 1-1 / 2 tablespoon oil - 1/2 teaspoon asafoetida, 1/2 teaspoon cumin seeds, 3 teaspoons BC Belle Bhat powder,2-1 / 2 cups rice - cooked, 3 tomatoes 15']\n",
            "Predicted value: []\n",
            "Actual value  ['Boiled']\n",
            "['Udupi Style Ash Gourd Coconut Curry Recipe 4 Dry Red Chillies,1/2 teaspoon Turmeric powder (Haldi),1/2 teaspoon Mustard seeds,1 Dry Red Chillies,Sunflower Oil - for cooking,Salt - to taste,30 grams Tamarind Water,1 cup Tamarind Water,1/2 cup Fresh coconut - grated,2 sprig Curry leaves - roughly torn,500 grams Vellai Poosanikai (Ash gourd/White Pumpkin),1/2 teaspoon Methi Seeds (Fenugreek Seeds),2 teaspoons Sesame seeds (Til seeds),1 teaspoon Sunflower Oil,3 tablespoons Jaggery,2 teaspoons Coriander (Dhania) Seeds,1/2 teaspoon Cumin seeds (Jeera) 40']\n",
            "Predicted value: []\n",
            "Actual value  ['Stewed', 'Curried']\n",
            "['Mexican Style Black Bean Burrito Recipe 6 to 8 Spinach Leaves (Palak),1/4 cup Black beans - soaked overnight and  cooked,4 tablespoons Cheddar cheese,1 Onion - chopped,2 cloves Garlic - chopped,1 cup Rice - or brown rice,2 sprig Coriander (Dhania) Leaves,1 Lemon juice,4 tablespoon Hung Curd (Greek Yogurt),4 Spring Onion Greens - chopped,1 Tomato - chopped,4 Tortillas 40']\n",
            "Predicted value: []\n",
            "Actual value  ['Baked']\n",
            "['Spicy Crunchy Masala Idli Recipe Mint Leaves (Pudina) - to taste,1/2 teaspoon Turmeric powder (Haldi),3 tablespoons Tomato Ketchup,2 teaspoons Sunflower Oil,1 cup Tomato - finely chopped,Coriander (Dhania) Leaves - to taste,Salt - to taste,2 Green Chillies - finely chopped,1 cup Green Bell Pepper (Capsicum) - thinly sliced,10 Idli - cut into strips,1/4 teaspoon Red Chilli powder,1 cup Onions - finely chopped 30']\n",
            "Predicted value: []\n",
            "Actual value  ['Steamed']\n",
            "['Cauliflower Leaves Chutney (Recipe in Hindi)  3 cloves garlic, 1 big Spoon oil, 2 tablespoons white urad dal, 1 teaspoon Rye,1 cup cabbage leaves, turmeric powder - a pinch, asafoetida - a pinch, 1/2 teaspoon Cumin seeds, 18 grams tamarind, salt - as per taste, 3/4 cup tomatoes, 1 sprig Curry leaves, 4 red chillies 25']\n",
            "Predicted value: []\n",
            "Actual value  ['Blended', 'Mixed']\n",
            "['Veg Chili Cheese Burgers Recipe 1 tablespoon Tabasco Original - Hot Sauce,5 Pickled Jalapenos - sliced,1 Onion - chopped,1 Whole Egg,1 teaspoon Red Chilli flakes,1 tablespoon Red Chilli powder,1 Onions - chopped,Salt - to taste,2 Cheese Slices,2 Burger buns,2 Potatoes (Aloo) - pressure cooked,4 cloves Garlic - chopped,1 tablespoon Dried oregano,1 cup Homemade tomato puree,2 Tomatoes - chopped,1/2 cup Soy granules,1 Green Bell Pepper (Capsicum) - chopped,1/2 cup Whole Wheat Bread crumbs,1 teaspoon Honey,1 tablespoon Cumin powder (Jeera),Sunflower Oil 55']\n",
            "Predicted value: []\n",
            "Actual value  ['Grilled', 'Assembled']\n",
            "['Saunf Aloo (Fennel Potato Curry) Recipe 1/4 cup Fresh cream - or 1/2 cup milk,5 Potatoes (Aloo) - halved with skin,2 teaspoon Fennel seeds (Saunf) - crushed,4 sprig Coriander (Dhania) Leaves - finely chopped,1 teaspoon Turmeric powder (Haldi),2 teaspoon Red Chilli powder 25']\n",
            "Predicted value: []\n",
            "Actual value  ['Stewed', 'Curried']\n",
            "['Hariyali Egg Curry Recipe In Coriander and Mint Gravy 2 cups Coriander (Dhania) Leaves - tightly packed,4 cloves Garlic,1 inch Ginger - chopped,1 teaspoon Garam masala powder,1 Cinnamon Stick (Dalchini) - small,2 Green Chillies - chopped,1 Onion - roughly chopped,1 tablespoon Sunflower Oil,2 Cloves (Laung),1 Bay leaf (tej patta),4 Whole Eggs - boiled,2 tablespoons Fresh cream,1 cup Mint Leaves (Pudina) - chopped,2 teaspoons Coriander Powder (Dhania) 35']\n",
            "Predicted value: []\n",
            "Actual value  ['Stewed', 'Curried']\n",
            "['Homemade Tater Tots Recipe 10 Potatoes (Aloo),1 teaspoon Garlic powder,Salt - to taste,Sunflower Oil - for deep frying the tater tots,1 tablespoon Coriander (Dhania) Leaves - finely chopped,1 teaspoon Red Chilli flakes,2 tablespoon All Purpose Flour (Maida),1 teaspoon Onion powder,1 tablespoon Rice flour,1 teaspoon Dried oregano 60']\n",
            "Predicted value: []\n",
            "Actual value  ['Baked']\n",
            "['Homemade Healthy Subway Sandwich Recipe With Beet & Sprout 2 Tomatoes - thinly sliced,1 Beetroot - grated,1/2 cup Hung Curd (Greek Yogurt),2 Submarine Bread (Subway Bread) - (flat breads or foot longs),2 cloves Garlic - grated,Tabasco Original - Hot Sauce - to taste,Salt and Pepper - to taste,2 Stalks Spring Onion (Bulb & Greens) - finely chopped,1/2 cup Green Moong Sprouts,2 tablespoon Coriander (Dhania) Leaves - finely chopped 30']\n",
            "Predicted value: []\n",
            "Actual value  ['Assembled']\n",
            "['Mini Dal Samosa Curry / Sabzi Recipe 6 Whole Black Peppercorns,1 teaspoon Coriander Powder (Dhania),1 Mace (Javitri),2 tablespoons Sunflower Oil,2 Tomato - roughly chopped,15 Cashew nuts,1 Green Chilli,3 Cardamom (Elaichi) Pods/Seeds,1/2 teaspoon Sugar,1 Onion - roughly chopped,1/2 inch Cinnamon Stick (Dalchini),1/2 inch Ginger,1/2 teaspoon Kasuri Methi (Dried Fenugreek Leaves),1 Black cardamom (Badi Elaichi),1/2 teaspoon Turmeric powder (Haldi),6 Samosas - mini,1/2 teaspoon Garam masala powder,1/2 teaspoon Kashmiri Red Chilli Powder,1 Bay leaf (tej patta),1 tablespoon Fresh cream,3 cloves Cloves (Laung) 35']\n",
            "Predicted value: []\n",
            "Actual value  ['Stewed']\n",
            "['Spinach Garlic Bruschetta Recipe With Red Bell Pepper Sauce 1 cup Cheddar cheese - grated,1 Baguette - sliced,Salt - to taste,1 Tomato - finely chopped,1 tablespoon Roasted tomato pasta sauce,1 1/2 tablespoon Butter,1 Red Bell pepper (Capsicum) - (optional,1 teaspoon Fresh cream,1 cup Spinach Leaves (Palak),1/2 tablespoon Garlic - minced,1 tablespoon Black pepper powder - adjust,1 tablespoon Italian seasoning,1 Onion - finely chopped (optional) 30']\n",
            "Predicted value: []\n",
            "Actual value  []\n",
            "['Asian Style Sweet & Spicy Green Beans Recipe 2 tablespoons Rice Wine Vinegar,1/4 cup Roasted Peanuts (Moongphali),1 tablespoon Soy sauce,Salt - to taste,1 Lemon - juice,2 tablespoons Thai Sweet Chilli Sauce,300 grams Green beans (French Beans) - cut into half,3 cloves Garlic - finely chopped,1 tablespoon Sesame (Gingelly) Oil 25']\n",
            "Predicted value: []\n",
            "Actual value  []\n",
            "['Chinese Darsaan Recipe With Ice Cream Water - to make the dough,2 tablespoon Sugar,2 tablespoons Water,1/2 teaspoon Vanilla Extract,1 tablespoon Sunflower Oil,2 tablespoons Honey,1/4 teaspoon Baking powder,1 tablespoon Sesame seeds (Til seeds) - white,All Purpose Flour (Maida),Sunflower Oil - to deep fry 40']\n",
            "Predicted value: []\n",
            "Actual value  []\n",
            "['Cabbage, Spinach, Pomegranate Slaw with Lemon Dressing Recipe 1 cup Fresh Pomegranate Fruit Kernels,2 Lemon juice,2 tablespoons Extra Virgin Olive Oil,Salt and Pepper - to taste,1 cup Spinach - shredded,1 cup Cabbage (Patta Gobi/ Muttaikose) - shredded 15']\n",
            "Predicted value: []\n",
            "Actual value  []\n",
            "['Eggless Chocolate Cupcakes With Raspberry & Cheese Frosting 1/2 tablespoon Baking powder,8 Fresh raspberries,1 cup All Purpose Flour (Maida),1 cup Britannia Cream Cheese,3/4 cup Caster Sugar,1/2 tablespoon Vanilla Extract,1/2 cup Cocoa Powder,1 cup Dark chocolate,1/2 cup Salted butter,1 teaspoon Vanilla Extract,3/4 cup Milk,1/2 teaspoon Baking soda,1/2 cup Sugar 40']\n",
            "Predicted value: ['Baked']\n",
            "Actual value  ['Baked']\n",
            "['Kerala pala pradham recipe 3/4 cup Sugar,2 liter Milk - full cream,1 cup Ada,1/2 teaspoon Cardamom Powder (Elaichi),1 tablespoon Ghee 90']\n",
            "Predicted value: []\n",
            "Actual value  ['Boiled']\n",
            "['Tindora Sambharo Recipe - Instant Tendli Pickle 1 cup Tindora (Dondakaya/ Kovakkai) - finely chopped,Salt - to taste,1 teaspoon Red Chilli powder,1/4 teaspoon Split Methi Seeds (Methi Kuria),Lemon - juice extracted,1/2 teaspoon Split Mustard Seeds (Rai Kuria),1 tablespoon Sunflower Oil,1/4 teaspoon Asafoetida (hing),1/4 teaspoon Turmeric powder (Haldi) 35']\n",
            "Predicted value: []\n",
            "Actual value  []\n",
            "['Chettinad Style Chicken Roast Recipe 1/4 teaspoon Kalonji (Onion Nigella Seeds),1 teaspoon Tamarind Paste,1 teaspoon Ghee,1 tablespoon Ghee,1 teaspoon Jaggery,2 teaspoons Coriander (Dhania) Seeds,1 teaspoon Whole Black Peppercorns,1/4 cup Hung Curd (Greek Yogurt),Salt - to taste,1/2 inch Cinnamon Stick (Dalchini),1 Onion - sliced,1/2 teaspoon Mustard seeds,4 cloves Garlic,1/2 inch Ginger,1/4 teaspoon Methi Seeds (Fenugreek Seeds),2 Cloves (Laung),2 tablespoon Fresh coconut - grated,1/2 teaspoon Turmeric powder (Haldi),2 teaspoon Cumin seeds (Jeera),1 Cardamom (Elaichi) Pods/Seeds,1 teaspoon Fennel seeds (Saunf),2 Dry Red Chillies,1 Chicken legs,1 teaspoon Sunflower Oil,1 sprig Curry leaves 35']\n",
            "Predicted value: []\n",
            "Actual value  ['Roasted']\n",
            "['Palakottai Kujambu Recipe-Kongunad Style Jackfruit Seeds Curry 8 cloves Garlic,1/2 teaspoon Mustard seeds,2 teaspoons Sunflower Oil,Salt - to taste,8 Curry leaves,10 Whole Black Peppercorns,1 cup Tamarind Water,1 Onion - chopped,1/2 cup Fresh coconut,1 teaspoon Sunflower Oil,Coriander (Dhania) Leaves - small bunch,1/2 teaspoon Red Chilli powder,2 Dry Red Chillies,1/4 teaspoon Asafoetida (hing),1/4 teaspoon Turmeric powder (Haldi),2 teaspoons Sambar Powder,1 teaspoon Coriander (Dhania) Seeds,1 Tomato - chopped,1/2 teaspoon Cumin seeds (Jeera),1 cup Jackfruit Seeds (Kathal) 25']\n",
            "Predicted value: []\n",
            "Actual value  ['Stewed', 'Curried']\n",
            "['Baingan Bharta Recipe - Brinjal Bharta Recipe  1 tomato - chopped,1 eggplant, 1 onion - finely chopped, 2 green chillies - finely chopped, 1 tablespoon oil, 1 teaspoon turmeric powder, salt - as per taste, 2 inch ginger - peel and tighten, 2 sprigs of coriander - finely chopped (for garnish), 1 teaspoon red chili powder, 1 teaspoon garam masala powder, 1 teaspoon coriander powder , 1 tablespoon butter 60']\n",
            "Predicted value: []\n",
            "Actual value  ['Roasted']\n",
            "['Pacha Manga Pachadi Recipe - Tamil Nadu Raw Mango Pachadi Recipe  oil - as per use,1 raw mango - chop big, 1 tablespoon jaggery, 1 cup tamarind water, 1 teaspoon turmeric powder, asafoetida - a pinch, 1 teaspoon mustard, 1 tablespoon sambar powder, 1/2 teaspoon salt, 2 dry red chillies, 1 Sprig Curry leaves 35']\n",
            "Predicted value: []\n",
            "Actual value  ['Blended', 'Mixed']\n",
            "['Short Knot Husband Recipe - Raw Jackfruit & Black Chickpea Stir Fry 1 cup Kala Chana (Brown Chickpeas) - soaked overnight,4 Dry Red Chillies,4 cloves Garlic,1 inch Cinnamon Stick (Dalchini),1 teaspoon Cumin seeds (Jeera),10 Jackfruit Seeds (Kathal),1 teaspoon Mustard seeds,1 inch Ginger,1/2 cup Fresh coconut,1 sprig Curry leaves,1/2 cup Tamarind Water,1 teaspoon Coriander (Dhania) Seeds,2 Cloves (Laung),1 teaspoon Turmeric powder (Haldi),1 Tomato - chopped,1/2 teaspoon Cumin seeds (Jeera) 55']\n",
            "Predicted value: []\n",
            "Actual value  []\n",
            "['Whole Wheat Crepe Recipe With Herbed Vegetables 1/4 cup Cheese spread - flavoured,Salt - to taste,2 sprig Parsley leaves - roughly chopped,1 teaspoon Italian seasoning,1 cup Whole Wheat Flour,1 Red Bell pepper (Capsicum) - diced,1 pinch Salt,1 Broccoli - cut into florets,1 Onion - thinly sliced 55']\n",
            "Predicted value: []\n",
            "Actual value  ['Grilled', 'Stuffed']\n",
            "['Makki and Methi Roti Recipe 1 tablespoon Ajwain (Carom seeds),Salt - to taste,2 cups Makki Ka Atta (Yellow Corn Meal Flour),1 1/2 cups Methi Leaves (Fenugreek Leaves) - chopped,2 Green Chillies - chopped,1 tablespoon Kashmiri Red Chilli Powder 30']\n",
            "Predicted value: []\n",
            "Actual value  ['Grilled']\n",
            "['Whole Wheat Pita Bread Recipe 1-1/2 cups All Purpose Flour (Maida),1-1/4 cups Lukewarm Water,1-1/2 cups Whole Wheat Flour,2 tablespoons Extra Virgin Olive Oil,2 teaspoons Active dry yeast,1-1/2 teaspoons Sugar,1/2 teaspoons Salt 70']\n",
            "Predicted value: []\n",
            "Actual value  ['Baked']\n",
            "['Andhra Steel Tomato Knock Recipe (Tomato Chutney) 1 teaspoon Tamarind Paste,1/2 teaspoon Turmeric powder (Haldi),8 Dry Red Chillies - adjustable,2 teaspoons Red Chilli powder - optional,8 cloves Garlic,Salt - to taste,1 kg Tomatoes,1 teaspoon Methi Seeds (Fenugreek Seeds),1 tablespoon Mustard seeds,Sunflower Oil 75']\n",
            "Predicted value: []\n",
            "Actual value  ['Blended', 'Mixed']\n",
            "['Rajasthani very roti recipe Water - as required,Ghee - as required,1 cup Whole Wheat Flour,Salt - to taste 45']\n",
            "Predicted value: []\n",
            "Actual value  ['Grilled']\n",
            "['Peerkangai Thogayal Recipe (Ridge Gourd Peel Chutney) 2 cups Ridge Gourd Skin (Turai/ Peerkangai),3 Dry Red Chillies,5 Methi Seeds (Fenugreek Seeds),Salt - to taste,10 Curry leaves,1/4 teaspoon Mustard seeds,30 grams Tamarind,2 Dry Red Chillies,1 teaspoon Sunflower Oil,3-4 Curry leaves,2 teaspoons White Urad Dal (Split) 25']\n",
            "Predicted value: []\n",
            "Actual value  ['Blended']\n",
            "['Paneer Tikka Saddle Roll Recipe Ghee - for cooking,1/2 teaspoon Turmeric powder (Haldi),1/4 cup Hung Curd (Greek Yogurt),1/4 cup Mint Leaves (Pudina) - finely chopped,1 tablespoon Gram flour (besan),1/2 Lemon - juice extracted,Salt - to taste,1 teaspoon Garam masala powder,1 Coal - for giving a smoked flavour,1 tablespoon Kasuri Methi (Dried Fenugreek Leaves),4 cloves Garlic - finely chopped,1/4 cup Mint Leaves (Pudina) - chopped,200 grams Paneer (Homemade Cottage Cheese) - thinly sliced,1 Green Bell Pepper (Capsicum) - thinly sliced,2 cups Whole Wheat Flour,1 tablespoon Ghee - for cooking,2 Onion - thinly sliced,1 inch Ginger - finely chopped,1 teaspoon Chaat Masala Powder 60']\n",
            "Predicted value: []\n",
            "Actual value  ['Grilled']\n",
            "['Pan Fried Rice Balls Filled With Cheese Recipe 3 Whole Eggs - beaten with a fork,2 tablespoon Extra Virgin Olive Oil,2 tablespoon Butter (unsalted),1 cup All Purpose Flour (Maida),1 cup Sweet corn,Sunflower Oil - for deep frying,1 cup Mozzarella cheese - cut into small cubes,1 Onion - finely chopped,2 cups Jasmine Rice,1/4 cup Parsley leaves - finely chopped,1 cup Parmesan cheese - grated,1 cup Whole Wheat Bread crumbs,1 teaspoon Salt 65']\n",
            "Predicted value: []\n",
            "Actual value  []\n",
            "['Spicy Seafood Stew Casserole With Tomatoes And Lime Recipe 2 Carrots (Gajjar),1 tablespoon Lemon juice,1 tablespoon Extra Virgin Olive Oil,5 Baby Potatoes,1 teaspoon Cumin powder (Jeera),1 Tomato,4 tablespoon Coriander (Dhania) Leaves,Salt - to taste,1 cup Chicken stock,5 cloves Garlic,250 grams Prawns,250 grams Fish fillet - basa,1/4 cup Coconut milk,2 Fresh Red chillies,1 Onion,15 Clamps,2 teaspoon Paprika powder,1 teaspoon Black pepper powder 65']\n",
            "Predicted value: []\n",
            "Actual value  ['Stewed']\n",
            "['Spicy Chilli Garlic Noodles Recipe Salt - as required,Water - as required,3 Dry Red Chillies - crushed (chilli flakes),1/2 teaspoon White vinegar,1/2 teaspoon Black pepper powder,1 teaspoon Soy sauce,500 grams Hakka Noodles,15 cloves Garlic - crushed,1 tablespoon Tomato Ketchup,1/2 teaspoon Salt,1 tablespoon Sunflower Oil,1 Green Bell Pepper (Capsicum) - thinly sliced,1 tablespoon Red Chilli sauce,Sunflower Oil - as required,1 Onion - thinly sliced 40']\n",
            "Predicted value: []\n",
            "Actual value  []\n",
            "['Chanar Dal Recipe - Bengali Steel Paneer & Potato Gravy 1 tablespoon Panch Phoran Masala - roasted and powdered,2 Dry Red Chilli,2 Bay leaf (tej patta),1 teaspoon Cumin seeds (Jeera) - roasted and powdered,2 Potato (Aloo) - peeled and cut into cubes,Salt - to taste,1 teaspoon Red Chilli powder,1 Tomato - big sized,1 teaspoon Ginger - grated,1/2 teaspoon Sugar,1 teaspoon Turmeric powder (Haldi),Sunflower Oil - as required,200 grams Paneer (Homemade Cottage Cheese) - cut into cubes 75']\n",
            "Predicted value: []\n",
            "Actual value  ['Stewed']\n",
            "['Cheesy Garlic Broccoli Nuggets Recipe 1/4 cup Whole Wheat Bread crumbs,Salt - to taste,1-1/2 cups Broccoli - florets,2 tablespoons Corn flour,1 tablespoon Nutralite Cheesy Garlic Mayo,1/2 cup Mozzarella cheese,Nutralite Garlic & Oregano Spread - for pan roasting 35']\n",
            "Predicted value: []\n",
            "Actual value  ['Baked']\n",
            "['Bengali radish potato vegetable recipe 1/2 teaspoon Turmeric powder (Haldi),1/2 teaspoon Mustard seeds,1/2 teaspoon Kalonji (Onion Nigella Seeds),Salt - to taste,2 Potato (Aloo) - cut into small piece,1 teaspoon Red Chilli powder,1 Onion - chopped,1 Green Chilli - chopped,3 Mooli/ Mullangi (Radish) - cut into small piece,3 tablespoons Kasundi mustard sauce,1/2 teaspoon Sugar,1 tablespoon Mustard oil - adjustable,1/2 teaspoon Cumin seeds (Jeera) 35']\n",
            "Predicted value: []\n",
            "Actual value  []\n",
            "['Beetroot Sambar Recipe  1 dry red chili, asafoetida - a pinch, 1-1 / 2 cup tamarind water, 4 sprig coriander - chopped (for garnish), 1 teaspoon mustard, 1 tablespoon sambar powder, 1 cup arhar dal,1 chakundar - peel and chop, salt - as per taste, 1 teaspoon sesame oil, 5 curry leaves - chopped 55']\n",
            "Predicted value: []\n",
            "Actual value  ['Boiled', 'Stewed']\n",
            "['Kaddu Palak Roti Recipe (Pumpkin Spinach Flat Bread) 1 cup Kaddu (Parangikai/ Pumpkin) - grated (red one preferably),1/2 teaspoon Turmeric powder (Haldi),1 cup Spinach - chopped,1/2 teaspoon Coriander Powder (Dhania),1 teaspoon Red Chilli powder,1/4 teaspoon Salt,Water - as required for dough,1 cup Whole Wheat Flour,Sunflower Oil - as required for rotis,1/2 teaspoon Cumin seeds (Jeera) 35']\n",
            "Predicted value: []\n",
            "Actual value  ['Pan-fried']\n",
            "['Iranian Baida Curry Recipe 5 cloves Garlic - chopped,1 inch Ginger - chopped,Salt - to taste,1 tablespoon Poppy seeds,1 Onion - chopped,3 Dry Red Chilli,1 tablespoon Sesame seeds (Til seeds),8 Badam (Almond),1/4 cup Fresh coconut - grated,2 tablespoon Coriander (Dhania) Seeds,1 tablespoon Jaggery,Sunflower Oil,4 Whole Egg,1 sprig Coriander (Dhania) Leaves 40']\n",
            "Predicted value: []\n",
            "Actual value  ['Stewed']\n",
            "['Vegan Chickpea Omelette Recipe (Spiced Chickpea Flour Pancakes) Sunflower Oil - for cooking,Salt - to taste,1 Tomato - finely chopped,1 inch Ginger - grated,2-3 Green Chillies - finely chopped,2 cloves Garlic - grated,1 Onion - finely chopped,Coriander (Dhania) Leaves - A handful finely chopped,1 cup Gram flour (besan),1/2 teaspoon Ajwain (Carom seeds),1/4 teaspoon Asafoetida (hing),1/2 cup Coconut milk,1/4 teaspoon Baking soda,3/4 cup Water,1/4 teaspoon Turmeric powder (Haldi) 50']\n",
            "Predicted value: []\n",
            "Actual value  ['Pan-fried']\n",
            "['Peanut Pudding Recipe - Salt Pudding / Firm Mod Modak 1 cups White Urad Dal (Whole) - soaked for 4 hours,1 teaspoon Sesame (Gingelly) Oil,1 inch Ginger - chopped,Salt - to taste,1/4 teaspoon Salt,1 teaspoon Mustard seeds,1 cup Rice flour,2 Green Chillies - chopped,1 cup Water,1/4 teaspoon Asafoetida (hing),1 sprig Curry leaves - finely chopped,1 teaspoon Sunflower Oil 40']\n",
            "Predicted value: []\n",
            "Actual value  ['Boiled']\n",
            "['Singapore Style Chicken Layered Fried Rice Recipe 2 Spring Onion Greens - finely chopped,1 teaspoon Chinese 5 Spice Powder,1 teaspoon White pepper powder,1 tablespoon Sweet and Spicy Red Chilli Sauce (Tomato Chilli Sauce),1 tablespoon Vinegar,1 Carrots (Gajjar) - cubed,1/2 cup Classic Mayonnaise (With Egg),1 tablespoon Red Chilli sauce,1 Green Bell Pepper (Capsicum) - sliced,2 tablespoons Tomato Ketchup,1/2 teaspoon Cumin powder (Jeera),2 tablespoons Red Chilli sauce,2 cups Rice - soaked for 10 minutes,Salt - to taste,1 Spring Onion (Bulb & Greens) - chopped,1 tablespoon Lemon juice,3 teaspoons Sunflower Oil,2 Green Chillies - slit and roasted,1 teaspoon Garlic - minced,1 tablespoons Soy sauce,1/2 teaspoon Red Chilli powder,1 tablespoons Garlic - crushed,300 grams Boneless chicken - cut into 1/2 inch cubed,1 tablespoons Ginger - crushed,1 Onions - cubed,2 Green Chillies - chopped,250 grams Egg noodles - boiled and tossed in a teaspoon oil,1 teaspoon Black pepper powder 75']\n",
            "Predicted value: []\n",
            "Actual value  []\n",
            "['Tofu Pulao Recipe  3 long, 1 lentil sugar, 1 teaspoon cumin seeds, 1 tablespoon ginger garlic paste, 1 teaspoon coriander powder, 1 bay leaf, 1 cup tofu - cut, 2 tomatoes - chopped Take, coriander - to garnish, 2 onions - chopped, 2 green chillies - chopped, 1/2 capsicum (green) - red or yellow, 1/2 teaspoon turmeric powder,1 cup rice, 1/2 teaspoon garam masala powder, salt - according to taste, 1/2 teaspoon red chilli powder, 2 tablespoons ghee 65']\n",
            "Predicted value: []\n",
            "Actual value  []\n",
            "['Masala Sandwich Recipe With Rocket Leaves 2 tablespoons Coriander (Dhania) Leaves - finely chopped,2 Green Bell Pepper (Capsicum) - julienned,2 Potatoes (Aloo) - boiled and mashed,Salt - to taste,Rocket leaves - or salad leaves for the sandwich,1 inch Ginger - grated,3 Tomatoes - finely chopped,2 cloves Garlic - grated,100 grams Paneer (Homemade Cottage Cheese),Pav bhaji masala - to taste,French bread - or rye bread to make sandwiches,1 Onion - julienned 30']\n",
            "Predicted value: []\n",
            "Actual value  ['Assembled']\n",
            "['Tomato Relish Recipe 2 cups Tomatoes - chopped,1/2 Black pepper powder,1/2 cup Red Wine Vinaigrette,Salt - to taste,2 cloves Garlic - minced,2 to 3 tablespoons Extra Virgin Olive Oil,1/2 Dried oregano,1/2 Dijon Mustard,3 tablespoon Cane sugar,1/2 Onion - finely chopped 30']\n",
            "Predicted value: []\n",
            "Actual value  ['Mixed']\n",
            "['Dubuk Vade Recipe - Khandeshi Gram Flour Dumpling Curry 1 tablespoon Red Chilli powder,1/2 teaspoon Turmeric powder (Haldi),1/2 cup Coriander (Dhania) Leaves - chopped,Salt - to taste,1 teaspoon Cumin seeds (Jeera),1 teaspoon Red Chilli powder,1/2 cup Gram flour (besan),1 teaspoon Salt - to taste,2 Onions - finely chopped,3 tablespoon Garam masala powder,1/4 cup Fresh coconut - grated,4 cloves Garlic - chopped 45']\n",
            "Predicted value: []\n",
            "Actual value  []\n",
            "['Radish Soup Recipe Coriander (Dhania) Leaves - as required for garnish (chopped),1/2 teaspoon Black pepper powder,Mooli/ Mullangi (Radish) - slices,8 Mooli/ Mullangi (Radish) - purple one,1/2 teaspoon Salt,2 cups Water,1/4 teaspoon Garam masala powder 40']\n",
            "Predicted value: []\n",
            "Actual value  ['Boiled', 'Simmered']\n",
            "['Mango Donut Cake Recipe With Chocolate Glaze 3 Sugar - powdered,1-1/2 teaspoons Baking powder,1-1/2 cups Vivatta Maida,1/4 teaspoon Salt,1 teaspoon Vanilla Extract,1/4 cup Fresh cream,1/4 cup Sugar,1/4 cup Sunflower Oil,3/4 cup Mango Pulp (Puree),2 tablespoons Cocoa Powder,1/4 teaspoon Baking soda,150 grams Dark chocolate - chopped 51']\n",
            "Predicted value: []\n",
            "Actual value  ['Baked']\n",
            "['Matar Paneer Kachori Korma Recipe - Green Peas And Paneer Kachori Curry Fresh cream - as required for garnishing,1 cup All Purpose Flour (Maida),1 teaspoon Coriander Powder (Dhania),1 teaspoon Red Chilli powder,1/2 cup Curd (Dahi / Yogurt),1 Mace (Javitri),1 cup Onion - chopped,2 tablespoons Sunflower Oil,1/2 teaspoons Ajwain (Carom seeds),12 Whole cashews,1 teaspoon Ginger Garlic Paste,Salt - to taste,2 Cardamom (Elaichi) Pods/Seeds,1/2 teaspoon Sugar,1/2 teaspoon Cumin seeds (Jeera),1 cup Paneer (Homemade Cottage Cheese) - crumbled,1 cup Green peas (Matar),1 cup Homemade tomato puree,Sunflower Oil - as required for frying,1/2 teaspoon Kasuri Methi (Dried Fenugreek Leaves),2 Cloves (Laung),1/2 teaspoon Turmeric powder (Haldi),Coriander (Dhania) Leaves - as required,2 teaspoons Sunflower Oil,1 inch Cinnamon Stick (Dalchini),1/2 teaspoon Garam masala powder,Salt and Pepper - to taste,1 teaspoon Amchur (Dry Mango Powder) 80']\n",
            "Predicted value: []\n",
            "Actual value  ['Curried']\n",
            "['Zucchini Roll Up Lasagne Recipe 1 teaspoon Sugar,1 Red Bell pepper (Capsicum) - finely chopped,3 Green zucchini - thinly sliced,1 Onion - finely  chopped,Salt - to taste,4 cloves Garlic - finely diced,1-1/2 Green zucchini - finely chopped,2 teaspoon Red Chilli flakes,1 teaspoon Red Chilli flakes,1 Onion - finely chopped,1/2 cup Mozzarella cheese - grated,1 teaspoon Rosemary,500 grams Tomatoes,Extra Virgin Olive Oil - for cooking,2 teaspoons Black pepper corns - crushed,1/4 cup Basil leaves - chopped,8 cloves Garlic - finely chopped,1 teaspoon Dried Thyme Leaves 65']\n",
            "Predicted value: []\n",
            "Actual value  ['Baked']\n",
            "['Thengai Sadam Recipe (A Quick and Healthy Coconut Rice) 1 cup Fresh coconut - grated,Salt - to taste,1 teaspoon Mustard seeds,1 Raw Peanuts (Moongphali) - fistful,1 + 1 tablespoon Coconut Oil,2-1/2 cups Cooked rice,2 teaspoons Chana dal (Bengal Gram Dal),3 or 4 Green Chillies - finely chopped,1 teaspoon Ginger - grated,2 teaspoons White Urad Dal (Split),1 sprig Curry leaves 60']\n",
            "Predicted value: []\n",
            "Actual value  ['Boiled', 'Mixed']\n",
            "['Karwar Style Ambade Udid Methi Recipe - Hog Plum Curry 1 tablespoon Coriander (Dhania) Seeds,6 Whole Black Peppercorns,4 Dry Red Chilli,2 teaspoons Sunflower Oil,Salt - to taste,1/2 teaspoon Mustard seeds,3/4 cup Fresh coconut - grated,1 teaspoon Black Urad Dal (Split),5 Hog Plum (Amtekai) - (Ambade),2 tablespoons Jaggery,1 Karela (Bitter Gourd/ Pavakkai) - (Small),1 teaspoon Rice - (raw rice),1/4 teaspoon Methi Seeds (Fenugreek Seeds),1/4 teaspoon Turmeric powder (Haldi),1 pinch Asafoetida (hing) 50']\n",
            "Predicted value: []\n",
            "Actual value  ['Stewed']\n",
            "['Roasted Cauliflower Recipe 3 tablespoon Extra Virgin Olive Oil,1/4 cup Anardana Powder (Pomegranate Seed Powder),Salt - to taste,1 teaspoon Coriander Powder (Dhania),2 teaspoon Cumin seeds (Jeera) - roasted and crushed,2 cups Cauliflower (gobi),4 Garlic - sliced,2 teaspoon Black pepper powder - or red chilli powder,2 tablespoons Pomegranate molasses - orhoney (optional but recommended),Fresh Herbs - Handful of herbs of choice like basil 40']\n",
            "Predicted value: []\n",
            "Actual value  ['Roasted']\n",
            "['Crunchy Ginger Capsicum Rice Recipe Salt - to taste,2 teaspoon Butter,1 Red Bell pepper (Capsicum),2 cups Basmati rice - cooked,2 Green Chillies - finely chopped,1 Green Bell Pepper (Capsicum),2 inch Ginger - grated,2 teaspoon Sesame seeds (Til seeds) - mixed black and white,1 Yellow Bell Pepper (Capsicum) 40']\n",
            "Predicted value: []\n",
            "Actual value  []\n",
            "['Bengali Chirer Payesh / Poha Pudding Recipe With Nolen Gur 2 Cardamom (Elaichi) Pods/Seeds,2 1/2 liter Milk,2 tablespoons Rice flour,1 tablespoon Raisins,pinch Salt,1/2 cup Poha (Flattened rice),8-10 Mixed nuts - almonds/cashews,1 cup Nolen Gur - or brown sugar,1 pinch Saffron strands - and a little more for garnish 45']\n",
            "Predicted value: []\n",
            "Actual value  ['Boiled']\n",
            "['Shanghai Style Chap Nian Gao Recipes (Stir Fried Rice Cakes Recipes) 1 teaspoon Sugar,1 Carrot (Gajjar) - thinly sliced,1/2 cup Button mushrooms - quartered,1 tablespoon Dark soy sauce,Sunflower Oil - for cooking,Salt - to taste,1 cup Rice flour,1/2 cup Cabbage (Patta Gobi/ Muttaikose),2 tablespoons Corn flour,1 Bok Choy - sliced,1 teaspoon Red Chilli sauce,1 tablespoon Bean Paste 100']\n",
            "Predicted value: []\n",
            "Actual value  []\n",
            "['White Pumpkin Mor Kuzhambu Recipe - Kerala Style White Pumpkin Curry 1 cup Vellai Poosanikai (Ash gourd/White Pumpkin) - cubed,1/3 cup Water,1 Dry Red Chilli,1/4 teaspoon Black pepper powder,Salt - as per your taste,4 Green Chillies,1/4 teaspoon Mustard seeds,1/2 cup Fresh coconut,1/4 teaspoon Methi Seeds (Fenugreek Seeds),1 teaspoon Coconut Oil,1/4 teaspoon Turmeric powder (Haldi),1-1/2 cups Curd (Dahi / Yogurt) - thick,1 sprig Curry leaves 35']\n",
            "Predicted value: []\n",
            "Actual value  ['Stewed']\n",
            "['Paneer and Green Peas Paratha Recipe - Paneer and Green Peas Paratha Recipe  1 tsp coriander powder, 1 cup wheat flour, 1 tsp turmeric powder, 1 tsp mango powder Powder,1/2 cup green peas - make paste, water - lukewarm, cut 1 inch ginger - 1 green chili - chopped, 2 tsp red chili powder, oil - according to use, salt - according to taste, 1 cup cheese - crumble 65']\n",
            "Predicted value: []\n",
            "Actual value  ['Stuffed', 'Grilled']\n",
            "['Elephant Yam Raita (Recipe In Hindi)  1/2 green chilli, 1-1 / 2 teaspoon Rye, asafetida - a pinch,250 grams Elephant yam, salt - as per taste, 3 tablespoons coriander - chopped, 1 inch ginger, 1 cup curd, 1 teaspoon oil, 1-1 / 2 teaspoon Kali Urad Dal (Split) 40']\n",
            "Predicted value: []\n",
            "Actual value  ['Mixed']\n",
            "['Drunken Noodles Recipe - Drunken Noodles Recipe  1 tbsp fish sauce, 1/4 cup capsicum (red) - cut, 1/2 cup baby corn - cut, 6 cloves garlic - finely chopped, 1/2 tbsp brown sugar, 1/2 Tbsp honey, 1/4 cup capsicum (green) - cut, 1/3 cup green onions, 1/4 cup Thai Basil leaves - cut, 1 inch ginger - finely chopped, 1 tbsp soy sauce,200 grams rice noodles, 1 tbsp Sriracha sauce, 1/4 cup capsicum (yellow) - cut 35']\n",
            "Predicted value: []\n",
            "Actual value  []\n",
            "['Chettinad Style Prawn Biryani Recipe 3 tablespoons Fresh coconut - grated,1 teaspoon Coriander Powder (Dhania),1 teaspoon Red Chilli powder,2 Black cardamom (Badi Elaichi),1 teaspoon Garam masala powder,200 grams Shrimps - or prawns,1/2 cup Hung Curd (Greek Yogurt),2 Bay leaves (tej patta),1 teaspoon Green Chilli - paste,1/2 teaspoon Cumin seeds (Jeera),2-3 Dry Red Chilli,5-6 Whole Black Peppercorns,1 cup Sunflower Oil,1-1/2 cups Basmati rice,4 Cardamom (Elaichi) Pods/Seeds,1/2 teaspoon Turmeric powder (Haldi),4-5 Shallots,2 sprig Curry leaves,1 inch Cinnamon Stick (Dalchini),1 tablespoon Ginger - paste,2 tablespoons Ghee,1 tablespoon Garlic - paste 55']\n",
            "Predicted value: []\n",
            "Actual value  ['Steamed']\n",
            "['Walnut and Flax Seed Trail Mix Recipe With Figs and Honey 1/3 cup Flax seeds,1 cup Dried Figs,1 cup Walnuts,1 teaspoon Cinnamon Powder (Dalchini),1/3 cup Honey,1/2 cup Roasted Peanuts (Moongphali) 25']\n",
            "Predicted value: []\n",
            "Actual value  ['Mixed']\n",
            "['Murgh Malaiwala Recipe - Chicken In Rich Creamy Gravy 1 Onion - sliced,4 teaspoon Ghee,1/4 teaspoon Black pepper powder,1 tablespoon Badam (Almond) - paste,2 Bay leaf (tej patta),Salt - to taste,1/2 cup Fresh cream,1 inch Cinnamon Stick (Dalchini),1 cup Milk,2 teaspoon Kasuri Methi (Dried Fenugreek Leaves),1 teaspoon Garlic - paste,1/2 teaspoon Lemon juice,2 tablespoon Fresh cream,2 teaspoon Ginger - paste,500 gram Chicken - cut into pieces,2 Cardamom Powder (Elaichi) 180']\n",
            "Predicted value: []\n",
            "Actual value  ['Stewed']\n",
            "['Paal Kesari Recipe - South Indian Style Milk Kesari 1 Cardamom (Elaichi) Pods/Seeds - crushed (optional),3/4 cup Sugar,1 teaspoon Ghee,1/2 teaspoon Ghee - for roasting the rava,5 Saffron strands - (lightly powdered using mortar and pestle),3 cups Milk,1 Mixed dry fruits - chopped,5 Cashew nuts,5 Raisins,1/2 cup Sooji (Semolina/ Rava) 35']\n",
            "Predicted value: []\n",
            "Actual value  ['Boiled']\n",
            "['Spicy Lemon Chicken Kebab Recipe 2 tablespoon Extra Virgin Olive Oil,1 Red Bell pepper (Capsicum) - cut into squares,Salt - to taste,1 Onion - cut into chunks,1 Chicken breasts - cut into cubes,1 teaspoon Red Chilli flakes,1 Lemon juice,1 teaspoon Black pepper powder,1 teaspoon Dried Thyme Leaves 90']\n",
            "Predicted value: []\n",
            "Actual value  ['Grilled']\n",
            "['Paneer Butter Masala Biryani Recipe - Layered Paneer Butter Masala Biryani Recipe  1 sprig of mint, 1 tbsp cashews - for garnish, 1 bay leaf, 1/2 tsp garam masala powder, salt - as per taste, 1 sprig of green coriander, 1 tsp honey, 1/2 tsp cumin powder, 1/2 tsp red chilli powder, 200 grams of cottage cheese - cut into 1/2 inch cube, 1 onion - chop, 1 tsp ghee, 2 cups water, salt - oil, 2 tablespoons cream, 1 star anise, 3 cloves garlic, 1/4 cup onion - bottom Take, 2 whole black pepper, 1 tsp cardamom powder, 1/2 inch cinnamon, 1 cardamom, 1 tsp kasoori methi, 2 tomatoes, 2 long, 1 green chili , 1 inch ginger,1 cup rice, as per taste - As per use 45']\n",
            "Predicted value: []\n",
            "Actual value  ['Baked']\n",
            "['Gond Ke Ladoo Recipe - Edible Gum Ladoo 50 grams Dry coconut (kopra),350 grams Ghee,400 grams Sugar - powdered,150 grams Goond (Edible Gum),50 grams Badam (Almond) - chopped,400 grams Whole Wheat Flour,50 grams Cashew nuts - chopped 75']\n",
            "Predicted value: []\n",
            "Actual value  ['Mixed']\n",
            "['Kobari Charu recipe - Kobbari Charu Recipe 2-1 / 2 cups coconut milk, coriander leaves - little, curry leaves - little, 1 cup water, 1/2 teaspoon mustard, 1/4 small Spoon turmeric powder, salt - as per taste, 1/2 teaspoon cumin seeds, 1 teaspoon oil, 6 green chillies - do more or less as you wish, 1/4 cup roasted chana lentils 50']\n",
            "Predicted value: []\n",
            "Actual value  ['Boiled', 'Simmered']\n",
            "['Basil Tincture Recipe (Or) - Herbal Drink From Basil 1/2 teaspoon Dry ginger powder,1 teaspoon Palm sugar - (Panakalkandu),1/2 teaspoon Black pepper powder,1 Tulsi (holy basil),2 cups Water 10']\n",
            "Predicted value: []\n",
            "Actual value  []\n",
            "['Carrot Corn Mayo Pancake Recipe With Sandwich Spread Butter - as required,2 Carrot (Gajjar) - peeled and grated,1 teaspoon Baking powder,3/4 cup Sweet corn - blanched,Salt - to taste,5 tablespoons Del Monte Sandwich Spread,1/4 cup Coriander (Dhania) Leaves - finely chopped,1 Onion - finely chopped,Black pepper powder - to taste,1 Green Chillies - finely chopped,3 Whole Eggs,1 cup Whole Wheat Flour,1/4 teaspoon Baking soda,1/3 cup Curd (Dahi / Yogurt) - whisked 55']\n",
            "Predicted value: []\n",
            "Actual value  ['Grilled']\n",
            "['Tamil Nadu Style Spicy Egg Fry Recipe 3 tablespoons Roasted Gram Dal (Pottukadalai),4 cloves Garlic,1 inch Ginger - chopped,Salt - to taste,1 tablespoon Whole Black Peppercorns,2 Dry Red Chillies,2 Whole Eggs,Sunflower Oil - for frying 35']\n",
            "Predicted value: []\n",
            "Actual value  []\n",
            "['Chirer Dudh Puli Recipe - Bengali Style Baten Rice Dumpling Milk 4 tablespoons Milk - warm,2 cups Fresh coconut - grated,3/4 cup Palm jaggery - use date palm jaggery,1/4 cup Sooji (Semolina/ Rava),1 cup Palm jaggery - use date palm jaggery,1/2 cup All Purpose Flour (Maida),1 liter Milk,1 cup Poha (Flattened rice) 40']\n",
            "Predicted value: []\n",
            "Actual value  ['Boiled']\n",
            "[\"Waffle Broth Recipe - Puppet's Yamarinta Crovy 3 Dry Red Chillies,3 cups Water,1 cup Tamarind Water,1/4 teaspoon Mustard seeds,1/2 cup Pearl onions (Sambar Onions) - halved,Salt - as needed,Asafoetida (hing) - a pinch,1/4 teaspoon Methi Seeds (Fenugreek Seeds),1 tablespoon Gingelly oil,1 teaspoon Sambar Powder,1 tablespoon Jaggery,3 Urad dal papad - broken in to quarters,1/4 teaspoon Turmeric powder (Haldi),1 sprig Curry leaves 25\"]\n",
            "Predicted value: []\n",
            "Actual value  ['Boiled']\n",
            "['Kashmiri Style Modur Pulao With Pomegranate Recipe 2-5 teaspoon Raisins - optional,Ghee - as required,Salt - to taste,3 teaspoon Badam (Almond),1 teaspoon Cumin powder (Jeera) - roasted,1 Cardamom (Elaichi) Pods/Seeds,3/4 cup Milk - (adjust),1 teaspoon Sunflower Oil,4 Dates - pitted and sliced,2 Cloves (Laung),1 cup Basmati rice - soaked for 1/2 hour,1-1/2 cup Water,1 pinch Saffron strands,2 teaspoon Cashew nuts,3 Cinnamon Stick (Dalchini),1/2 cup Anardana Powder (Pomegranate Seed Powder) - cleaned 160']\n",
            "Predicted value: []\n",
            "Actual value  ['Boiled', 'Mixed']\n",
            "['North Indian Style Mushroom Matar Masala Recipe 1/2 teaspoon Turmeric powder (Haldi),1/2 teaspoon Mustard seeds,1 Tomato - paste,1 cup Green peas (Matar) - boiled,Water - as required,2 sprig Coriander (Dhania) Leaves - chopped,1 teaspoon Coriander Powder (Dhania),1 Onion - chopped,1 cup Button mushrooms - chopped,1 Green Chilli - chopped,Asafoetida (hing) - a pinch,1/2 teaspoon Red Chilli powder,1 tablespoon Ginger Garlic Paste,1/2 teaspoon Cumin seeds (Jeera),1/4 teaspoon Garam masala powder,Sunflower Oil - as required,1 Onion - paste 40']\n",
            "Predicted value: []\n",
            "Actual value  ['Curried']\n",
            "['Dhania Chole Masala Recipe - Chickpeas In Fresh Coriander Gravy 1/2 cup Coriander (Dhania) Leaves - chopped,Salt - to taste,4 Green Chillies,1/4 teaspoon Garam masala powder,1 inch Ginger,2 cups Kabuli Chana (White Chickpeas) - soaked overnight,1 Onion - finely chopped,1 Cinnamon Stick (Dalchini),1 teaspoon Coriander Powder (Dhania),1 tablespoon Ghee,1 Bay leaf (tej patta),1 teaspoon Black Salt (Kala Namak),1 Lemon - juice extracted,1/2 teaspoon Black Salt (Kala Namak),1 inch Ginger - finely chopped,1 Brown cardamom (Badi Elaichi),3 cloves Garlic - finely chopped 540']\n",
            "Predicted value: []\n",
            "Actual value  ['Curried']\n",
            "['Capsicum Masala Poriyal (Recipe in Hindi)  curry leaves - little , 1 tablespoon coconut, 1 onion - cut, 3 cloves garlic - unpeeled, 1 teaspoon cumin seeds, 1 capsicum (yellow) - cut, 1/2 cup peanuts - roast, 1 teaspoon mustard, 1 capsicum (red) - cut, 4 dry red chillies, 4 sprig green coriander - chopped,1 teaspoon oil, 1 capsicum (green) - cut, Salt - as per taste 63']\n",
            "Predicted value: []\n",
            "Actual value  []\n",
            "['Kerala Style Raw Banana and Suran Kotu Curry Recipe - Kerala Style Plantain & Yam Thoran Recipe  3 cloves garlic, 1 green chili,1/2 cup raw banana - chopped, 1 cup coconut - grated, 1/4 tsp whole black pepper, 1/2 teaspoon red chili powder, 1/2 cup black gram, salt - as per taste, 1/2 teaspoon turmeric powder, 1/2 cup suran - chopped, 1/2 2 tsp cumin seeds, 1/2 tsp mustard, 1 tsp oil 380']\n",
            "Predicted value: []\n",
            "Actual value  ['Curried']\n",
            "['Cheese Stuffed Aloo Bonda Recipe 1/2 teaspoon Turmeric powder (Haldi),Salt - to taste,1 inch Ginger - grated,1 teaspoon Mustard seeds,1 Onion - finely chopped,Coriander (Dhania) Leaves - small bunch,50 grams Mozzarella cheese - cut into 1/2 inch pieces,1 cup Gram flour (besan),1/4 teaspoon Asafoetida (hing),Sunflower Oil - as needed,2 Green Chillies - chopped,1 teaspoon Turmeric powder (Haldi),4 Potatoes (Aloo) - boiled and mashed 45']\n",
            "Predicted value: []\n",
            "Actual value  []\n",
            "['Dahi Wale Paneer Recipe - Paneer In A Curd Gravy 1 tablespoon Garam masala powder,1 tablespoon Lemon juice,100 gram Curd (Dahi / Yogurt),1 teaspoon Cumin powder (Jeera),2 inch Ginger - chooped,2 tablespoons Homemade tomato puree,1 tablespoon Coriander (Dhania) Leaves - to garnish,400 grams Paneer (Homemade Cottage Cheese),2 Onions - sliced,2 teaspoon Coriander Powder (Dhania),1 tablespoon Butter,3 cloves Garlic - chopped,1/4 teaspoon Turmeric powder (Haldi),50 grams Fresh cream,1 teaspoon Red Bell pepper (Capsicum) - chopped,2 tablespoon Whole cashews - or almonds (paste),2 Fresh Red chillies - chopped 80']\n",
            "Predicted value: []\n",
            "Actual value  ['Simmered', 'Curried']\n",
            "['Nutty Aloo Paratha Recipe 1/2 teaspoon Cumin powder (Jeera),1 teaspoon Red Chilli powder - or 2 chopped green chillies,1/2 cup Paneer (Homemade Cottage Cheese) - crumbled/grated,Salt - to taste,3 Potatoes (Aloo) - boiled and mashed,1 cup Spinach Leaves (Palak) - pureed,1/2 teaspoon Garam masala powder,Water - as required to make pliable dough,1 tablespoon Raisins,1 cup Whole Wheat Flour,1-1/2 tablespoon Mixed nuts - chopped,1 tablespoon Coriander (Dhania) Leaves,Ghee - to smear 55']\n",
            "Predicted value: []\n",
            "Actual value  ['Pan-fried']\n",
            "['Chicken Tikka Taco Recipe Topped With Cheesy Garlic Mayo 4 Hard taco shells,2 tablespoons Nutralite Cheesy Garlic Mayo,1 cup Hariyali Chicken Tikka,1/4 cup Tomato Salsa,1/2 cup Summer Salad,Refried beans 20']\n",
            "Predicted value: []\n",
            "Actual value  ['Grilled', 'Assembled']\n",
            "['Masalewali Turai Sabzi Recipe - Masalawali Turai Sabzi Recipe  1 tablespoon oil, coriander leaves - as per use, 2 tomatoes - make puree, 1/2 teaspoon mustard, salt - as per taste, 1 teaspoon jaggery,2 trumpet - peel and chop, 1/2 teaspoon cumin seeds, 1/2 teaspoon turmeric powder, 1/4 cup water, 1 small Spoon coriander powder, 1/2 teaspoon red chilli powder, 1 ginger 50']\n",
            "Predicted value: []\n",
            "Actual value  []\n",
            "['Pudina Mushroom And Soya Biryani Recipe 1/4 cup Mint Leaves (Pudina) - finely chopped,1 teaspoon Ajwain (Carom seeds),1/2 cup Curd (Dahi / Yogurt),3 cloves Garlic,2 teaspoon Red Chilli powder,1 teaspoon Garam masala powder,Salt - to taste,1 cup Onion - sliced,1 cup Button mushrooms - cut into quarters,1 teaspoon Turmeric powder (Haldi),2 tablespoons Biryani Masala,1 cup Soy Chunks (Nuggets) - soaked in hot water,2 Cloves (Laung),1 inch Cinnamon Stick (Dalchini),1 Cardamom (Elaichi) Pods/Seeds,1 inch Ginger,1-1/2 cups Basmati rice - parboiled with spices infused water (Spices include Cinnamon,2 tablespoons Ghee,1 Bay leaf (tej patta),1 Green Chillies - chopped,1 Star anise 60']\n",
            "Predicted value: []\n",
            "Actual value  []\n",
            "['White Vegetable Kurma Recipe With Coconut & Cashew 2 Green Chillies,1 teaspoon Poppy seeds,2 teaspoons Sunflower Oil,1/2 teaspoon Whole Black Peppercorns,Salt - to taste,1 teaspoon Cumin seeds (Jeera),2 Cardamom (Elaichi) Pods/Seeds,7 Potatoes (Aloo) - chopped,1/2 cup Fresh coconut - grated,1 Onion - chopped,1 Carrot (Gajjar) - chopped,1 teaspoon Fennel seeds (Saunf),6 Cashew nuts,1 tablespoon Ginger Garlic Paste,3 Cloves (Laung),2 cups Cauliflower (gobi) - cut to small florets,1 Star anise,1/2 inch Cinnamon Stick (Dalchini) 30']\n",
            "Predicted value: []\n",
            "Actual value  ['Curried', 'Stewed']\n",
            "['Muttaikose Poriyal Recipe - Cabbage Stir fry With Coconut Salt - to taste,500 grams Cabbage (Patta Gobi/ Muttaikose) - roughly chopped or sliced thin,1 teaspoon Mustard seeds,1 Green Chilli - slit,1/4 cup Fresh coconut - grated,1-1/2 teaspoons White Urad Dal (Split),1 sprig Curry leaves - finely chopped 45']\n",
            "Predicted value: []\n",
            "Actual value  []\n",
            "['Bengaluru Style Brinjal Gravy Recipe - For Biryani Salt - as per your taste,2 teaspoons Sunflower Oil,Coriander (Dhania) Leaves - for garnish,1 teaspoon Mustard seeds,2 Onions - roughly chopped,1/4 teaspoon Red Chilli powder,1/2 tablespoon Jaggery - powdered,1 tablespoon Whole Black Peppercorns,1 tablespoon Ginger Garlic Paste,1/4 teaspoon Turmeric powder (Haldi),4 Tomatoes,1 Brinjal (Baingan / Eggplant) - cut into big pieces,20 grams Tamarind - soaked in hot water 90']\n",
            "Predicted value: []\n",
            "Actual value  ['Curried']\n",
            "[\"PF Chang's Style Crispy Chicken Lettuce Wraps Recipe 1 Chicken breasts - cut into 1 cm cubes,2 teaspoons Sunflower Oil,2 teaspoons Garlic - finely chopped,Salt - to taste,1/4 cup Spring Onion (Bulb & Greens) - finely chopped,1/4 cup Button mushrooms - finely chopped,1 teaspoon Soy sauce,1 teaspoon Chilli vinegar,1 teaspoon Sweet and Spicy Red Chilli Sauce (Tomato Chilli Sauce),1 Iceberg lettuce,1 teaspoon Red Chilli sauce,1 teaspoon Black pepper powder 25\"]\n",
            "Predicted value: []\n",
            "Actual value  ['Assembled']\n",
            "['Lemon Frozen Yogurt Recipe 1/4 cup Sugar - powdered,1/8 teaspoon Turmeric powder (Haldi),2 tablespoons Fresh cream,1/4 cup Lemon juice,Orange - two wedges,Vanilla Extract - few drops,1 teaspoon Orange Zest (Rind),500 grams Curd (Dahi / Yogurt) 600']\n",
            "Predicted value: []\n",
            "Actual value  ['Blended']\n",
            "['Paneer Capsicum Sandwich Recipe 1 Green Chilli - finely chopped,Salt - to taste,1/2 teaspoon Black pepper powder,200 grams Paneer (Homemade Cottage Cheese) - grated,2 tablespoons Butter,1 Green Bell Pepper (Capsicum) - finely chopped,1 teaspoon Chaat Masala Powder,8 Whole Wheat Brown Bread 20']\n",
            "Predicted value: []\n",
            "Actual value  ['Assembled']\n",
            "['Dry Suran Masala Vegetable Recipe 1 Onion - sliced,1/2 teaspoon Cumin powder (Jeera),1/2 teaspoon Turmeric powder (Haldi),2 teaspoons Sunflower Oil,Salt - to taste,1 teaspoon Garlic - finely chopped,1 teaspoon Coriander Powder (Dhania),2 Green Chillies - slit,1/2 teaspoon Black pepper powder,1/2 teaspoon Garam masala powder,1/2 teaspoon Red Chilli powder,1 sprig Curry leaves,1/2 teaspoon Cumin seeds (Jeera),1 teaspoon Ginger - finely chopped,250 grams Elephant yam (Suran/Senai/Ratalu) - sliced into 1 inch square pieces 35']\n",
            "Predicted value: []\n",
            "Actual value  []\n",
            "['One Pot Pressure Cooker Chicken Curry Recipe - One Pot Pressure Cooker Chicken Curry Recipe  1 teaspoon red chilli powder, 1 onion - finely chopped, 1 teaspoon coriander powder, 1/2 tsp turmeric powder, 2 cups water, 1 sprig curry leaves, salt - as per taste, 2 tomatoes - finely chopped, 1 inch ginger - finely chopped, 1 teaspoon garam masala powder,1 tsp coconut oil, 300 grams chicken breast - cut, 4 long garlic - finely chopped 40']\n",
            "Predicted value: []\n",
            "Actual value  []\n",
            "['Lauki Ka Salan Recipe - Bottle Gourd Salan Recipe 500 grams Bottle gourd (lauki) - Cut into 1/2 inch discs,1 tablespoon Coriander Powder (Dhania),1/2 teaspoon Mustard seeds,2 Tomatoes - made into a puree,3 sprig Coriander (Dhania) Leaves - chopped,3 tablespoons Fresh coconut - grated,Salt - to taste,1 teaspoon Cumin seeds (Jeera),4 Green Chillies - slit,1 teaspoon Red Chilli powder,1 cup Tamarind Water,6 cloves Garlic - finely chopped,1 Onion - finely chopped,2 tablespoons Sesame seeds (Til seeds),Sunflower Oil - to cook,1/4 teaspoon Methi Seeds (Fenugreek Seeds),2 tablespoons Roasted Peanuts (Moongphali),1/4 teaspoon Turmeric powder (Haldi),1 inch Ginger - finely chopped 50']\n",
            "Predicted value: []\n",
            "Actual value  ['Curried']\n",
            "['Togari Bell Thove Recipe - Tour Dal Juice 1/2 teaspoon Mustard seeds,5 cups Water,Coriander (Dhania) Leaves - Handful,1 teaspoon Ginger - finely grated,1 cup Arhar dal (Split Toor Dal),1/2 Lemon juice,30 grams Tamarind,1 tablespoon Ghee,1/4 teaspoon Asafoetida (hing),Curry leaves - Handful,1 teaspoon Turmeric powder (Haldi),5 Green Chillies - slit (adjust) 35']\n",
            "Predicted value: []\n",
            "Actual value  ['Stewed']\n",
            "['Chicken Shawarma Recipe 2 cup Whole Wheat Flour,2 tablespoon Extra Virgin Olive Oil,1 teaspoon Cumin powder (Jeera),1 Onion - chopped,1 tablespoon Ginger Garlic Paste,1/4 teaspoon Turmeric powder (Haldi),1 Tomato - pulp removed and julienned,1 tablespoon Active dry yeast,1 tablespoon Sugar,Salt - to taste,1/2 cup Milk,1 Carrot (Gajjar) - cut into julienne,2 tablespoon Red Chilli powder,1 cup Homemade Hummus,2 tablespoon Coriander Powder (Dhania),1 cup Tzatziki,1 teaspoon Sugar,1/4 cup Chilli vinegar,1 teaspoon Black pepper powder,1 Cucumber - cut into julienne,1 Chicken breasts - cut into thin strips,1 teaspoon Salt 85']\n",
            "Predicted value: []\n",
            "Actual value  ['Grilled', 'Assembled']\n",
            "['Mushroom Paratha Recipe Ghee - or oil for cooking,2 teaspoons Sunflower Oil,250 grams Button mushrooms - chopped,Salt - to taste,1 teaspoon Garam masala powder,1 teaspoon Cumin seeds (Jeera),2 Green Chillies - finely chopped,1 Onion - finely chopped,1 cup Whole Wheat Flour,1/4 teaspoon Turmeric powder (Haldi),Ghee - to cook parathas 60']\n",
            "Predicted value: []\n",
            "Actual value  ['Pan-fried']\n",
            "['Palak Chana Dal Recipe - Healthy Spinach Gram Dal Recipe 1/2 teaspoon Cumin powder (Jeera),200 grams Spinach Leaves (Palak) - washed and chopped,1/2 teaspoon Turmeric powder (Haldi),1 cup Chana dal (Bengal Gram Dal) - soaked in water for about 20 minutes,Salt - to taste,1 teaspoon Cumin seeds (Jeera),1 Onion - chopped,2 Dry Red Chillies,2 tablespoons Ghee,1/4 teaspoon Asafoetida (hing),1 tablespoon Ginger Garlic Paste,2 Green Chillies - chopped,1 teaspoon Turmeric powder (Haldi),3 cups Water,1 Tomato - chopped,1/2 teaspoon Red Chilli powder 50']\n",
            "Predicted value: []\n",
            "Actual value  ['Curried', 'Stewed']\n",
            "['Pasi Paruppu Kosumalli Recipe (Spiced Lentil Salad Recipe) 1 Cucumber - finely chopped,1 Carrot (Gajjar) - grated,1 sprig Curry leaves - roughly torn,Coriander (Dhania) Leaves - chopped,Salt - to taste,2 tablespoon Lemon juice,1 teaspoon Mustard seeds,2 Green Chillies - slit,1/4 cup Fresh coconut - grated,1/2 cup Yellow Moong Dal (Split),1/2 teaspoon Asafoetida (hing),1 teaspoon Sunflower Oil 45']\n",
            "Predicted value: []\n",
            "Actual value  ['Boiled', 'Mixed']\n",
            "['Maharashtrian Style Semolina and Yogurt Cake Recipe 1 cup Curd (Dahi / Yogurt),10 Raisins,1 teaspoon Baking powder,5 Saffron strands,2 teaspoons Ghee,1/2 teaspoon Cardamom Powder (Elaichi),10 Cashew nuts,3 teaspoons Caster Sugar,1 cup Sooji (Semolina/ Rava) 85']\n",
            "Predicted value: []\n",
            "Actual value  ['Baked']\n"
          ]
        }
      ],
      "source": [
        "X_train, X_test, y_train, y_test = train_test_split(X, y, test_size=0.2, random_state=42)\n",
        "\n",
        "\n",
        "LabelPowerset_clf=LabelPowerset(MultinomialNB())\n",
        "LabelPowerset_clf.fit(X_train,y_train)\n",
        "br_prediction = LabelPowerset_clf.predict(X_test)\n",
        "accuracy_score(y_test,br_prediction)\n",
        "for i in range(1, 100):\n",
        "    itemname = str(df.iloc[i:i+1, 0:1].values[0, 0])\n",
        "    ingredients = str(df.iloc[i:i+1, 1:2].values[0, 0])\n",
        "    instructions = str(df.iloc[i:i+1, 2:3].values[0, 0])\n",
        "    text = [itemname + ' ' + ingredients + ' ' + instructions]\n",
        "    print(text)\n",
        "    text_transformed = tfidf_vectorizer.transform(text).toarray()\n",
        "    temp=LabelPowerset_clf.predict(text_transformed).toarray()\n",
        "\n",
        "    # Define the unique categories\n",
        "    unique_categories = [\n",
        "    'Baked',\n",
        "    'Deep-fried',\n",
        "    'Mixed',\n",
        "    'Stir-fried',\n",
        "    'Assembled',\n",
        "    'Boiled',\n",
        "    'Blended',\n",
        "    'Grilled',\n",
        "    'Steamed',\n",
        "    'Curried',\n",
        "    'Simmered',\n",
        "    'Pan-fried',\n",
        "    'Stewed',\n",
        "    'Roasted',\n",
        "    'Stuffed'\n",
        "]\n",
        "\n",
        "    # Create an empty list to store the decoded categories\n",
        "    decoded_categories = []\n",
        "\n",
        "    # Iterate over each category and its corresponding predicted value\n",
        "    for category, value in zip(unique_categories, temp[0]):\n",
        "        if value == 1:\n",
        "            decoded_categories.append(category)\n",
        "\n",
        "    # Print the decoded categories\n",
        "    print(\"Predicted value:\", decoded_categories)\n",
        "    print(\"Actual value \", df.iloc[i:i+1, 12:13].values[0, 0])\n"
      ]
    }
  ],
  "metadata": {
    "colab": {
      "provenance": []
    },
    "kernelspec": {
      "display_name": "Python 3",
      "name": "python3"
    },
    "language_info": {
      "codemirror_mode": {
        "name": "ipython",
        "version": 3
      },
      "file_extension": ".py",
      "mimetype": "text/x-python",
      "name": "python",
      "nbconvert_exporter": "python",
      "pygments_lexer": "ipython3",
      "version": "3.10.9"
    }
  },
  "nbformat": 4,
  "nbformat_minor": 0
}
